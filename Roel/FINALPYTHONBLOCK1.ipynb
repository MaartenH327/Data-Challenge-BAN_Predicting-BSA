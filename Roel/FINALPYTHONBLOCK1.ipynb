{
  "nbformat": 4,
  "nbformat_minor": 0,
  "metadata": {
    "colab": {
      "provenance": []
    },
    "kernelspec": {
      "name": "python3",
      "display_name": "Python 3"
    },
    "language_info": {
      "name": "python"
    }
  },
  "cells": [
    {
      "cell_type": "code",
      "execution_count": 99,
      "metadata": {
        "id": "0Fie0rkE3-_4"
      },
      "outputs": [],
      "source": [
        "import pandas as pd\n",
        "from sklearn.model_selection import train_test_split, GridSearchCV\n",
        "from sklearn.ensemble import RandomForestClassifier\n",
        "from sklearn.metrics import accuracy_score, precision_score, recall_score, f1_score, confusion_matrix, classification_report\n",
        "import pandas as pd\n",
        "import matplotlib.pyplot as plt\n",
        "import seaborn as sns"
      ]
    },
    {
      "cell_type": "code",
      "source": [
        "import pandas as pd\n",
        "\n",
        "def extract_course_columns(df):\n",
        "    course_columns = [col for col in df.columns if col.startswith('Course')]\n",
        "    first_try_columns = [col for col in course_columns if col.endswith('-1')]\n",
        "    resit_columns = [col for col in course_columns if col.endswith('-R')]\n",
        "    final_grade_columns = [col for col in course_columns if not (col.endswith('-1') or col.endswith('-R'))]\n",
        "\n",
        "    return first_try_columns, resit_columns, final_grade_columns\n",
        "\n",
        "file_path = '/content/BSA-dataset-synthetic.xlsx'\n",
        "sheet_name = 0  # Specify the sheet name here\n",
        "\n",
        "df = pd.read_excel(file_path, sheet_name=sheet_name)\n",
        "\n",
        "# Extract course columns\n",
        "first_try_columns, resit_columns, final_grade_columns = extract_course_columns(df)\n",
        "\n",
        "print(\"First Try Columns:\", first_try_columns)\n",
        "print(\"Resit Columns:\", resit_columns)\n",
        "print(\"Final Grade Columns:\", final_grade_columns)"
      ],
      "metadata": {
        "colab": {
          "base_uri": "https://localhost:8080/"
        },
        "id": "MGLLJ83R4BtO",
        "outputId": "643b620e-7302-4243-ae08-585e78a2f15c"
      },
      "execution_count": 100,
      "outputs": [
        {
          "output_type": "stream",
          "name": "stdout",
          "text": [
            "First Try Columns: ['Course3-1', 'Course9-1', 'Course8-1', 'Course7-1']\n",
            "Resit Columns: ['Course3-R', 'Course9-R']\n",
            "Final Grade Columns: ['Course23', 'Course26', 'Course3', 'Course16', 'Course8', 'Course9', 'Course22', 'Course7', 'Course25', 'Course24']\n"
          ]
        }
      ]
    },
    {
      "cell_type": "code",
      "source": [
        "# Initialize an empty list to store column names\n",
        "block1_results = []\n",
        "\n",
        "# Iterate through each column in first_try_columns\n",
        "for col in first_try_columns:\n",
        "    # Extract the course number X from the column name\n",
        "    course_num = col.split('-')[0]\n",
        "\n",
        "    # Check if there's a corresponding resit column (CourseX-R)\n",
        "    resit_col = f\"{course_num}-R\"\n",
        "    if resit_col in resit_columns:\n",
        "        # Add the initial attempt column (CourseX-1) to the list\n",
        "        block1_results.append(col)\n",
        "\n",
        "# Print the resulting list of column names\n",
        "print(\"block1_results:\", block1_results)\n"
      ],
      "metadata": {
        "colab": {
          "base_uri": "https://localhost:8080/"
        },
        "id": "SewMjek-4Qye",
        "outputId": "983ec10a-d441-4ba5-c948-b308c2cd6653"
      },
      "execution_count": 101,
      "outputs": [
        {
          "output_type": "stream",
          "name": "stdout",
          "text": [
            "block1_results: ['Course3-1', 'Course9-1']\n"
          ]
        }
      ]
    },
    {
      "cell_type": "code",
      "source": [
        "# Create resits_needed column and initialize with zeros\n",
        "df['resits_needed'] = 0\n",
        "\n",
        "# Loop through each column in first_try_columns\n",
        "for col in block1_results:\n",
        "    # Increment resits_needed by 1 if the column value is less than 5.5 or missing\n",
        "    df.loc[(df[col] < 5.5) | (df[col].isna()), 'resits_needed'] += 1"
      ],
      "metadata": {
        "id": "5FmY4aWb4Bpx"
      },
      "execution_count": 102,
      "outputs": []
    },
    {
      "cell_type": "code",
      "source": [
        "# Print the resulting 'resits_needed' column\n",
        "print(df['resits_needed'])\n"
      ],
      "metadata": {
        "colab": {
          "base_uri": "https://localhost:8080/"
        },
        "id": "F_OjB3GT4BnH",
        "outputId": "cc54af8f-c424-4fbe-d508-26ef6b9a7384"
      },
      "execution_count": 103,
      "outputs": [
        {
          "output_type": "stream",
          "name": "stdout",
          "text": [
            "0     2\n",
            "1     2\n",
            "2     2\n",
            "3     2\n",
            "4     2\n",
            "     ..\n",
            "56    0\n",
            "57    1\n",
            "58    1\n",
            "59    1\n",
            "60    0\n",
            "Name: resits_needed, Length: 61, dtype: int64\n"
          ]
        }
      ]
    },
    {
      "cell_type": "code",
      "source": [
        "# List of column names\n",
        "column_names = block1_results\n",
        "\n",
        "# Dictionary to store means\n",
        "means = {}\n",
        "\n",
        "# Calculate mean for each column\n",
        "for column in column_names:\n",
        "    means[column] = df[column].mean()\n",
        "\n",
        "# Calculate mean_program1B1B2\n",
        "mean_programB1 = sum(means.values()) / len(means)\n",
        "mean_programB1 = round(mean_programB1, 2)\n",
        "\n",
        "# Calculate average_gradeB1B2\n",
        "df['average_gradeB1'] = df[block1_results].mean(axis=1)\n",
        "df['average_gradeB1'] = round(df['average_gradeB1'], 2)\n",
        "\n",
        "df['deviationB1'] = df['average_gradeB1'] - mean_programB1\n",
        "df['deviationB1'] = round(df['deviationB1'], 2)\n",
        "\n",
        "\n",
        "# Print means\n",
        "for column, mean in means.items():\n",
        "    print(f\"Mean for {column}: {round(mean, 2)}\")\n",
        "\n",
        "\n",
        "\n",
        "print(\"Mean for Program B1:\", mean_programB1)"
      ],
      "metadata": {
        "colab": {
          "base_uri": "https://localhost:8080/"
        },
        "id": "dM1fsxEa4BkF",
        "outputId": "18d62f35-bc70-4cda-e7b0-d226e5766eac"
      },
      "execution_count": 104,
      "outputs": [
        {
          "output_type": "stream",
          "name": "stdout",
          "text": [
            "Mean for Course3-1: 6.16\n",
            "Mean for Course9-1: 5.95\n",
            "Mean for Program B1: 6.05\n"
          ]
        }
      ]
    },
    {
      "cell_type": "code",
      "source": [
        "df['deviationB1'] = df['average_gradeB1'] - mean_programB1\n",
        "df['deviationB1'] = round(df['deviationB1'], 2)"
      ],
      "metadata": {
        "id": "wSIxgqV54Bhd"
      },
      "execution_count": 105,
      "outputs": []
    },
    {
      "cell_type": "code",
      "source": [],
      "metadata": {
        "id": "21SdcfFF4BZe"
      },
      "execution_count": 105,
      "outputs": []
    },
    {
      "cell_type": "code",
      "source": [
        "# Initialize the 'absent' column with zeros\n",
        "df['absent'] = 0\n",
        "\n",
        "# Iterate through each column in block1and2_results\n",
        "for col in block1_results:\n",
        "    # Extract the course number X from the column name\n",
        "    course_num = col.split('-')[0]\n",
        "\n",
        "    # Check if it's an initial attempt column\n",
        "    if col.endswith('-1'):\n",
        "        # Increment 'absent' by 1 if the initial attempt column is missing\n",
        "        df.loc[df[col].isna(), 'absent'] += 1\n",
        "    elif col.endswith('-R'):\n",
        "        # Check if there's a corresponding initial attempt column and increment 'absent' accordingly\n",
        "        initial_col = f\"{course_num}-1\"\n",
        "        df.loc[(df[col].isna()) & ((df[initial_col] < 5.5) | df[initial_col].isna()), 'absent'] += 1\n"
      ],
      "metadata": {
        "id": "ch_nDItc7rKh"
      },
      "execution_count": 106,
      "outputs": []
    },
    {
      "cell_type": "code",
      "source": [
        "\n",
        "# Select columns of interest (block1and2_results and 'absent') and display their values\n",
        "print(df.loc[:, block1_results + ['absent']])\n"
      ],
      "metadata": {
        "colab": {
          "base_uri": "https://localhost:8080/"
        },
        "id": "OGNvvfZX4Bem",
        "outputId": "d65e7930-7afd-4857-d7d7-7bc80fa701f5"
      },
      "execution_count": 107,
      "outputs": [
        {
          "output_type": "stream",
          "name": "stdout",
          "text": [
            "    Course3-1  Course9-1  absent\n",
            "0         1.5        NaN       1\n",
            "1         3.5        5.0       0\n",
            "2         2.5        1.0       0\n",
            "3         5.0        1.0       0\n",
            "4         NaN        NaN       2\n",
            "..        ...        ...     ...\n",
            "56        7.5        6.5       0\n",
            "57        6.0        2.0       0\n",
            "58        6.0        1.0       0\n",
            "59        7.0        5.0       0\n",
            "60        7.0        8.0       0\n",
            "\n",
            "[61 rows x 3 columns]\n"
          ]
        }
      ]
    },
    {
      "cell_type": "code",
      "source": [
        "# Calculate average_gradeB1B2 as the row mean of specified columns\n",
        "columns_for_average = block1_results.copy()  # Make a copy of block1and2_results\n",
        "df['average_gradeB1'] = df[columns_for_average].mean(axis=1)  # Calculate mean across columns\n",
        "df['average_gradeB1'] = df['average_gradeB1'].round(2)  # Round to two decimal places\n"
      ],
      "metadata": {
        "id": "IYj5The94BWN"
      },
      "execution_count": 108,
      "outputs": []
    },
    {
      "cell_type": "code",
      "source": [
        "# Initialize dictionaries to store mean values for each course\n",
        "mean_courses = {}\n",
        "\n",
        "# Calculate mean for each course in block1and2_results\n",
        "for col in block1_results:\n",
        "    # Extract the course number X from the column name\n",
        "    course_num = col.split('-')[0]\n",
        "\n",
        "    # Calculate mean for each course and store it in the dictionary\n",
        "    if course_num not in mean_courses:\n",
        "        mean_courses[course_num] = df[col].mean()\n",
        "\n",
        "# Print mean values for each course\n",
        "for course, mean in mean_courses.items():\n",
        "    print(f\"Mean for Course {course}: {mean}\")\n"
      ],
      "metadata": {
        "colab": {
          "base_uri": "https://localhost:8080/"
        },
        "id": "xeKDi5s64BTH",
        "outputId": "5a36593f-75d0-4ba8-80c8-24654a79f9b5"
      },
      "execution_count": 109,
      "outputs": [
        {
          "output_type": "stream",
          "name": "stdout",
          "text": [
            "Mean for Course Course3: 6.155172413793103\n",
            "Mean for Course Course9: 5.954545454545454\n"
          ]
        }
      ]
    },
    {
      "cell_type": "code",
      "source": [
        "# Initialize dictionaries to store sum and count of grades for each course\n",
        "sum_initial_grades = {}\n",
        "count_initial_grades = {}\n",
        "sum_resit_grades = {}\n",
        "count_resit_grades = {}\n",
        "\n",
        "# Calculate sum and count of grades for each course in block1and2_results\n",
        "for col in block1_results:\n",
        "    # Extract the course number X from the column name\n",
        "    course_num = col.split('-')[0]\n",
        "\n",
        "    # Check if it's an initial attempt column\n",
        "    if col.endswith('-1'):\n",
        "        # Add the grade to the sum of grades for the course\n",
        "        sum_initial_grades[course_num] = sum_initial_grades.get(course_num, 0) + df[col].sum()\n",
        "        # Increment the count of grades for the course\n",
        "        count_initial_grades[course_num] = count_initial_grades.get(course_num, 0) + df[col].count()\n",
        "    elif col.endswith('-R'):\n",
        "        # Add the grade to the sum of grades for the course\n",
        "        sum_resit_grades[course_num] = sum_resit_grades.get(course_num, 0) + df[col].sum()\n",
        "        # Increment the count of grades for the course\n",
        "        count_resit_grades[course_num] = count_resit_grades.get(course_num, 0) + df[col].count()\n",
        "\n",
        "# Calculate mean for each course and print the results\n",
        "for course, sum_grade in sum_initial_grades.items():\n",
        "    mean_initial_grade = sum_grade / count_initial_grades[course]\n",
        "    print(f\"Mean for Initial Attempt of Course {course}: {mean_initial_grade:.2f}\")\n",
        "\n",
        "for course, sum_grade in sum_resit_grades.items():\n",
        "    mean_resit_grade = sum_grade / count_resit_grades[course]\n",
        "    print(f\"Mean for Resit of Course {course}: {mean_resit_grade:.2f}\")"
      ],
      "metadata": {
        "colab": {
          "base_uri": "https://localhost:8080/"
        },
        "id": "PIl15y4E9kuc",
        "outputId": "5bab9c43-7609-4ff1-d4e3-48bdffcf3943"
      },
      "execution_count": 110,
      "outputs": [
        {
          "output_type": "stream",
          "name": "stdout",
          "text": [
            "Mean for Initial Attempt of Course Course3: 6.16\n",
            "Mean for Initial Attempt of Course Course9: 5.95\n"
          ]
        }
      ]
    },
    {
      "cell_type": "code",
      "source": [
        "# Initialize a list to store mean grades for all attempts\n",
        "all_means = []\n",
        "\n",
        "# Calculate mean for each course for initial attempts and add to the list\n",
        "for course, sum_grade in sum_initial_grades.items():\n",
        "    mean_initial_grade = sum_grade / count_initial_grades[course]\n",
        "    all_means.append(mean_initial_grade)\n",
        "\n",
        "# Calculate mean for each course for resit attempts and add to the list\n",
        "for course, sum_grade in sum_resit_grades.items():\n",
        "    mean_resit_grade = sum_grade / count_resit_grades[course]\n",
        "    all_means.append(mean_resit_grade)\n",
        "\n",
        "# Print the list of mean grades for all attempts\n",
        "print(\"Mean for All Attempts:\", all_means)"
      ],
      "metadata": {
        "colab": {
          "base_uri": "https://localhost:8080/"
        },
        "id": "CbXinfij9krQ",
        "outputId": "fb4ac659-f557-4de7-8383-4680ed7b4696"
      },
      "execution_count": 111,
      "outputs": [
        {
          "output_type": "stream",
          "name": "stdout",
          "text": [
            "Mean for All Attempts: [6.155172413793103, 5.954545454545454]\n"
          ]
        }
      ]
    },
    {
      "cell_type": "code",
      "source": [
        "# Calculate mean_program1B1B2 as the row mean of mean_course values\n",
        "mean_programB1 = sum(all_means) / len(all_means)\n",
        "mean_programB1 = round(mean_programB1, 2)\n",
        "\n",
        "# Update mean_course values with rounded values\n",
        "for course, mean in mean_courses.items():\n",
        "    df[f'mean_course{course}'] = round(mean, 2)\n",
        "\n",
        "# Update mean_program1B1B2 with rounded value\n",
        "df['mean_programB1'] = round(mean_programB1, 2)"
      ],
      "metadata": {
        "id": "HQbXUdAn9koY"
      },
      "execution_count": 112,
      "outputs": []
    },
    {
      "cell_type": "code",
      "source": [
        "# Calculate deviationB1B2 as the difference between average_gradeB1B2 and mean_program1B1B2\n",
        "df['deviationB1'] = df['average_gradeB1'] - df['mean_programB1']\n",
        "df['deviationB1'] = round(df['deviationB1'], 2)"
      ],
      "metadata": {
        "id": "JHwopTK19klx"
      },
      "execution_count": 113,
      "outputs": []
    },
    {
      "cell_type": "code",
      "source": [
        "# Create 'Dutch' column with True/False values based on the condition\n",
        "df['Dutch'] = (df['Nationality'] == 'Nederland')\n",
        "\n",
        "\n",
        "df['Dutch'] = df['Dutch'].astype(int)\n",
        "\n",
        "# Create 'Dutch' column with True/False values based on the condition\n",
        "df['Non-Dutch'] = (df['Nationality'] != 'Nederland')\n",
        "\n",
        "\n",
        "df['Non-Dutch'] = df['Non-Dutch'].astype(int)"
      ],
      "metadata": {
        "id": "VnwRs25k9kh-"
      },
      "execution_count": 114,
      "outputs": []
    },
    {
      "cell_type": "code",
      "source": [
        "# Iterate through block1and2_results to create passed columns\n",
        "for col in block1_results:\n",
        "    # Extract the course number and attempt type from the column name\n",
        "    course_num, attempt_type = col.split('-')\n",
        "\n",
        "    # Check if it's an initial attempt column\n",
        "    if attempt_type == '1':\n",
        "        # Create the passed column if it doesn't exist\n",
        "        if f'passed{course_num}' not in df.columns:\n",
        "            df[f'passed{course_num}'] = 0\n",
        "\n",
        "        # Set passed column to 1 if the grade is greater than or equal to 5.5\n",
        "        df.loc[df[col] >= 5.5, f'passed{course_num}'] = 1\n",
        "\n",
        "    # Check if it's a resit attempt column\n",
        "    elif attempt_type == 'R':\n",
        "        # Set passed column to 1 if the resit attempt is greater than or equal to 5.5\n",
        "        df.loc[df[col] >= 5.5, f'passed{course_num}'] = 1\n",
        "\n",
        "        # Set passed column to 1 if the resit attempt is missing and the initial attempt is greater than or equal to 5.5\n",
        "        initial_col = next((c for c in block1_results if c.startswith(f'Course{course_num}-1')), None)\n",
        "        if initial_col:\n",
        "            df.loc[(df[col].isna()) & (df[initial_col] >= 5.5), f'passed{course_num}'] = 1\n"
      ],
      "metadata": {
        "id": "JmdcXpgp9ken"
      },
      "execution_count": 115,
      "outputs": []
    },
    {
      "cell_type": "code",
      "source": [
        "df.head()"
      ],
      "metadata": {
        "colab": {
          "base_uri": "https://localhost:8080/",
          "height": 273
        },
        "id": "fT4jzt0r-K8Q",
        "outputId": "94188a3e-d5c6-45df-b7eb-f7917bd06247"
      },
      "execution_count": 116,
      "outputs": [
        {
          "output_type": "execute_result",
          "data": {
            "text/plain": [
              "   train Gender Nationality PreEducation   Program   Year BSA  Course3-1  \\\n",
              "0      1      F   Nederland          Vwo  Program1  21/22  NE        1.5   \n",
              "1      2      M   Nederland          Vwo  Program1  21/22  NE        3.5   \n",
              "2      3      M        Azie  Buitenlands  Program1  21/22  NE        2.5   \n",
              "3      4      F   Nederland          Vwo  Program1  21/22  NE        5.0   \n",
              "4      5      M          EU  Buitenlands  Program1  21/22  NE        NaN   \n",
              "\n",
              "   Course9-1  Course8-1  ...  average_gradeB1  deviationB1  absent  \\\n",
              "0        NaN        NaN  ...             1.50        -4.55       1   \n",
              "1        5.0        2.0  ...             4.25        -1.80       0   \n",
              "2        1.0        2.0  ...             1.75        -4.30       0   \n",
              "3        1.0        3.0  ...             3.00        -3.05       0   \n",
              "4        NaN        NaN  ...              NaN          NaN       2   \n",
              "\n",
              "   mean_courseCourse3  mean_courseCourse9  mean_programB1  Dutch  Non-Dutch  \\\n",
              "0                6.16                5.95            6.05      1          0   \n",
              "1                6.16                5.95            6.05      1          0   \n",
              "2                6.16                5.95            6.05      0          1   \n",
              "3                6.16                5.95            6.05      1          0   \n",
              "4                6.16                5.95            6.05      0          1   \n",
              "\n",
              "   passedCourse3  passedCourse9  \n",
              "0              0              0  \n",
              "1              0              0  \n",
              "2              0              0  \n",
              "3              0              0  \n",
              "4              0              0  \n",
              "\n",
              "[5 rows x 36 columns]"
            ],
            "text/html": [
              "\n",
              "  <div id=\"df-d637918d-2240-43fb-a0e8-34a87a088f93\" class=\"colab-df-container\">\n",
              "    <div>\n",
              "<style scoped>\n",
              "    .dataframe tbody tr th:only-of-type {\n",
              "        vertical-align: middle;\n",
              "    }\n",
              "\n",
              "    .dataframe tbody tr th {\n",
              "        vertical-align: top;\n",
              "    }\n",
              "\n",
              "    .dataframe thead th {\n",
              "        text-align: right;\n",
              "    }\n",
              "</style>\n",
              "<table border=\"1\" class=\"dataframe\">\n",
              "  <thead>\n",
              "    <tr style=\"text-align: right;\">\n",
              "      <th></th>\n",
              "      <th>train</th>\n",
              "      <th>Gender</th>\n",
              "      <th>Nationality</th>\n",
              "      <th>PreEducation</th>\n",
              "      <th>Program</th>\n",
              "      <th>Year</th>\n",
              "      <th>BSA</th>\n",
              "      <th>Course3-1</th>\n",
              "      <th>Course9-1</th>\n",
              "      <th>Course8-1</th>\n",
              "      <th>...</th>\n",
              "      <th>average_gradeB1</th>\n",
              "      <th>deviationB1</th>\n",
              "      <th>absent</th>\n",
              "      <th>mean_courseCourse3</th>\n",
              "      <th>mean_courseCourse9</th>\n",
              "      <th>mean_programB1</th>\n",
              "      <th>Dutch</th>\n",
              "      <th>Non-Dutch</th>\n",
              "      <th>passedCourse3</th>\n",
              "      <th>passedCourse9</th>\n",
              "    </tr>\n",
              "  </thead>\n",
              "  <tbody>\n",
              "    <tr>\n",
              "      <th>0</th>\n",
              "      <td>1</td>\n",
              "      <td>F</td>\n",
              "      <td>Nederland</td>\n",
              "      <td>Vwo</td>\n",
              "      <td>Program1</td>\n",
              "      <td>21/22</td>\n",
              "      <td>NE</td>\n",
              "      <td>1.5</td>\n",
              "      <td>NaN</td>\n",
              "      <td>NaN</td>\n",
              "      <td>...</td>\n",
              "      <td>1.50</td>\n",
              "      <td>-4.55</td>\n",
              "      <td>1</td>\n",
              "      <td>6.16</td>\n",
              "      <td>5.95</td>\n",
              "      <td>6.05</td>\n",
              "      <td>1</td>\n",
              "      <td>0</td>\n",
              "      <td>0</td>\n",
              "      <td>0</td>\n",
              "    </tr>\n",
              "    <tr>\n",
              "      <th>1</th>\n",
              "      <td>2</td>\n",
              "      <td>M</td>\n",
              "      <td>Nederland</td>\n",
              "      <td>Vwo</td>\n",
              "      <td>Program1</td>\n",
              "      <td>21/22</td>\n",
              "      <td>NE</td>\n",
              "      <td>3.5</td>\n",
              "      <td>5.0</td>\n",
              "      <td>2.0</td>\n",
              "      <td>...</td>\n",
              "      <td>4.25</td>\n",
              "      <td>-1.80</td>\n",
              "      <td>0</td>\n",
              "      <td>6.16</td>\n",
              "      <td>5.95</td>\n",
              "      <td>6.05</td>\n",
              "      <td>1</td>\n",
              "      <td>0</td>\n",
              "      <td>0</td>\n",
              "      <td>0</td>\n",
              "    </tr>\n",
              "    <tr>\n",
              "      <th>2</th>\n",
              "      <td>3</td>\n",
              "      <td>M</td>\n",
              "      <td>Azie</td>\n",
              "      <td>Buitenlands</td>\n",
              "      <td>Program1</td>\n",
              "      <td>21/22</td>\n",
              "      <td>NE</td>\n",
              "      <td>2.5</td>\n",
              "      <td>1.0</td>\n",
              "      <td>2.0</td>\n",
              "      <td>...</td>\n",
              "      <td>1.75</td>\n",
              "      <td>-4.30</td>\n",
              "      <td>0</td>\n",
              "      <td>6.16</td>\n",
              "      <td>5.95</td>\n",
              "      <td>6.05</td>\n",
              "      <td>0</td>\n",
              "      <td>1</td>\n",
              "      <td>0</td>\n",
              "      <td>0</td>\n",
              "    </tr>\n",
              "    <tr>\n",
              "      <th>3</th>\n",
              "      <td>4</td>\n",
              "      <td>F</td>\n",
              "      <td>Nederland</td>\n",
              "      <td>Vwo</td>\n",
              "      <td>Program1</td>\n",
              "      <td>21/22</td>\n",
              "      <td>NE</td>\n",
              "      <td>5.0</td>\n",
              "      <td>1.0</td>\n",
              "      <td>3.0</td>\n",
              "      <td>...</td>\n",
              "      <td>3.00</td>\n",
              "      <td>-3.05</td>\n",
              "      <td>0</td>\n",
              "      <td>6.16</td>\n",
              "      <td>5.95</td>\n",
              "      <td>6.05</td>\n",
              "      <td>1</td>\n",
              "      <td>0</td>\n",
              "      <td>0</td>\n",
              "      <td>0</td>\n",
              "    </tr>\n",
              "    <tr>\n",
              "      <th>4</th>\n",
              "      <td>5</td>\n",
              "      <td>M</td>\n",
              "      <td>EU</td>\n",
              "      <td>Buitenlands</td>\n",
              "      <td>Program1</td>\n",
              "      <td>21/22</td>\n",
              "      <td>NE</td>\n",
              "      <td>NaN</td>\n",
              "      <td>NaN</td>\n",
              "      <td>NaN</td>\n",
              "      <td>...</td>\n",
              "      <td>NaN</td>\n",
              "      <td>NaN</td>\n",
              "      <td>2</td>\n",
              "      <td>6.16</td>\n",
              "      <td>5.95</td>\n",
              "      <td>6.05</td>\n",
              "      <td>0</td>\n",
              "      <td>1</td>\n",
              "      <td>0</td>\n",
              "      <td>0</td>\n",
              "    </tr>\n",
              "  </tbody>\n",
              "</table>\n",
              "<p>5 rows × 36 columns</p>\n",
              "</div>\n",
              "    <div class=\"colab-df-buttons\">\n",
              "\n",
              "  <div class=\"colab-df-container\">\n",
              "    <button class=\"colab-df-convert\" onclick=\"convertToInteractive('df-d637918d-2240-43fb-a0e8-34a87a088f93')\"\n",
              "            title=\"Convert this dataframe to an interactive table.\"\n",
              "            style=\"display:none;\">\n",
              "\n",
              "  <svg xmlns=\"http://www.w3.org/2000/svg\" height=\"24px\" viewBox=\"0 -960 960 960\">\n",
              "    <path d=\"M120-120v-720h720v720H120Zm60-500h600v-160H180v160Zm220 220h160v-160H400v160Zm0 220h160v-160H400v160ZM180-400h160v-160H180v160Zm440 0h160v-160H620v160ZM180-180h160v-160H180v160Zm440 0h160v-160H620v160Z\"/>\n",
              "  </svg>\n",
              "    </button>\n",
              "\n",
              "  <style>\n",
              "    .colab-df-container {\n",
              "      display:flex;\n",
              "      gap: 12px;\n",
              "    }\n",
              "\n",
              "    .colab-df-convert {\n",
              "      background-color: #E8F0FE;\n",
              "      border: none;\n",
              "      border-radius: 50%;\n",
              "      cursor: pointer;\n",
              "      display: none;\n",
              "      fill: #1967D2;\n",
              "      height: 32px;\n",
              "      padding: 0 0 0 0;\n",
              "      width: 32px;\n",
              "    }\n",
              "\n",
              "    .colab-df-convert:hover {\n",
              "      background-color: #E2EBFA;\n",
              "      box-shadow: 0px 1px 2px rgba(60, 64, 67, 0.3), 0px 1px 3px 1px rgba(60, 64, 67, 0.15);\n",
              "      fill: #174EA6;\n",
              "    }\n",
              "\n",
              "    .colab-df-buttons div {\n",
              "      margin-bottom: 4px;\n",
              "    }\n",
              "\n",
              "    [theme=dark] .colab-df-convert {\n",
              "      background-color: #3B4455;\n",
              "      fill: #D2E3FC;\n",
              "    }\n",
              "\n",
              "    [theme=dark] .colab-df-convert:hover {\n",
              "      background-color: #434B5C;\n",
              "      box-shadow: 0px 1px 3px 1px rgba(0, 0, 0, 0.15);\n",
              "      filter: drop-shadow(0px 1px 2px rgba(0, 0, 0, 0.3));\n",
              "      fill: #FFFFFF;\n",
              "    }\n",
              "  </style>\n",
              "\n",
              "    <script>\n",
              "      const buttonEl =\n",
              "        document.querySelector('#df-d637918d-2240-43fb-a0e8-34a87a088f93 button.colab-df-convert');\n",
              "      buttonEl.style.display =\n",
              "        google.colab.kernel.accessAllowed ? 'block' : 'none';\n",
              "\n",
              "      async function convertToInteractive(key) {\n",
              "        const element = document.querySelector('#df-d637918d-2240-43fb-a0e8-34a87a088f93');\n",
              "        const dataTable =\n",
              "          await google.colab.kernel.invokeFunction('convertToInteractive',\n",
              "                                                    [key], {});\n",
              "        if (!dataTable) return;\n",
              "\n",
              "        const docLinkHtml = 'Like what you see? Visit the ' +\n",
              "          '<a target=\"_blank\" href=https://colab.research.google.com/notebooks/data_table.ipynb>data table notebook</a>'\n",
              "          + ' to learn more about interactive tables.';\n",
              "        element.innerHTML = '';\n",
              "        dataTable['output_type'] = 'display_data';\n",
              "        await google.colab.output.renderOutput(dataTable, element);\n",
              "        const docLink = document.createElement('div');\n",
              "        docLink.innerHTML = docLinkHtml;\n",
              "        element.appendChild(docLink);\n",
              "      }\n",
              "    </script>\n",
              "  </div>\n",
              "\n",
              "\n",
              "<div id=\"df-51f2c75f-a0f0-42f9-aa81-6736364bd136\">\n",
              "  <button class=\"colab-df-quickchart\" onclick=\"quickchart('df-51f2c75f-a0f0-42f9-aa81-6736364bd136')\"\n",
              "            title=\"Suggest charts\"\n",
              "            style=\"display:none;\">\n",
              "\n",
              "<svg xmlns=\"http://www.w3.org/2000/svg\" height=\"24px\"viewBox=\"0 0 24 24\"\n",
              "     width=\"24px\">\n",
              "    <g>\n",
              "        <path d=\"M19 3H5c-1.1 0-2 .9-2 2v14c0 1.1.9 2 2 2h14c1.1 0 2-.9 2-2V5c0-1.1-.9-2-2-2zM9 17H7v-7h2v7zm4 0h-2V7h2v10zm4 0h-2v-4h2v4z\"/>\n",
              "    </g>\n",
              "</svg>\n",
              "  </button>\n",
              "\n",
              "<style>\n",
              "  .colab-df-quickchart {\n",
              "      --bg-color: #E8F0FE;\n",
              "      --fill-color: #1967D2;\n",
              "      --hover-bg-color: #E2EBFA;\n",
              "      --hover-fill-color: #174EA6;\n",
              "      --disabled-fill-color: #AAA;\n",
              "      --disabled-bg-color: #DDD;\n",
              "  }\n",
              "\n",
              "  [theme=dark] .colab-df-quickchart {\n",
              "      --bg-color: #3B4455;\n",
              "      --fill-color: #D2E3FC;\n",
              "      --hover-bg-color: #434B5C;\n",
              "      --hover-fill-color: #FFFFFF;\n",
              "      --disabled-bg-color: #3B4455;\n",
              "      --disabled-fill-color: #666;\n",
              "  }\n",
              "\n",
              "  .colab-df-quickchart {\n",
              "    background-color: var(--bg-color);\n",
              "    border: none;\n",
              "    border-radius: 50%;\n",
              "    cursor: pointer;\n",
              "    display: none;\n",
              "    fill: var(--fill-color);\n",
              "    height: 32px;\n",
              "    padding: 0;\n",
              "    width: 32px;\n",
              "  }\n",
              "\n",
              "  .colab-df-quickchart:hover {\n",
              "    background-color: var(--hover-bg-color);\n",
              "    box-shadow: 0 1px 2px rgba(60, 64, 67, 0.3), 0 1px 3px 1px rgba(60, 64, 67, 0.15);\n",
              "    fill: var(--button-hover-fill-color);\n",
              "  }\n",
              "\n",
              "  .colab-df-quickchart-complete:disabled,\n",
              "  .colab-df-quickchart-complete:disabled:hover {\n",
              "    background-color: var(--disabled-bg-color);\n",
              "    fill: var(--disabled-fill-color);\n",
              "    box-shadow: none;\n",
              "  }\n",
              "\n",
              "  .colab-df-spinner {\n",
              "    border: 2px solid var(--fill-color);\n",
              "    border-color: transparent;\n",
              "    border-bottom-color: var(--fill-color);\n",
              "    animation:\n",
              "      spin 1s steps(1) infinite;\n",
              "  }\n",
              "\n",
              "  @keyframes spin {\n",
              "    0% {\n",
              "      border-color: transparent;\n",
              "      border-bottom-color: var(--fill-color);\n",
              "      border-left-color: var(--fill-color);\n",
              "    }\n",
              "    20% {\n",
              "      border-color: transparent;\n",
              "      border-left-color: var(--fill-color);\n",
              "      border-top-color: var(--fill-color);\n",
              "    }\n",
              "    30% {\n",
              "      border-color: transparent;\n",
              "      border-left-color: var(--fill-color);\n",
              "      border-top-color: var(--fill-color);\n",
              "      border-right-color: var(--fill-color);\n",
              "    }\n",
              "    40% {\n",
              "      border-color: transparent;\n",
              "      border-right-color: var(--fill-color);\n",
              "      border-top-color: var(--fill-color);\n",
              "    }\n",
              "    60% {\n",
              "      border-color: transparent;\n",
              "      border-right-color: var(--fill-color);\n",
              "    }\n",
              "    80% {\n",
              "      border-color: transparent;\n",
              "      border-right-color: var(--fill-color);\n",
              "      border-bottom-color: var(--fill-color);\n",
              "    }\n",
              "    90% {\n",
              "      border-color: transparent;\n",
              "      border-bottom-color: var(--fill-color);\n",
              "    }\n",
              "  }\n",
              "</style>\n",
              "\n",
              "  <script>\n",
              "    async function quickchart(key) {\n",
              "      const quickchartButtonEl =\n",
              "        document.querySelector('#' + key + ' button');\n",
              "      quickchartButtonEl.disabled = true;  // To prevent multiple clicks.\n",
              "      quickchartButtonEl.classList.add('colab-df-spinner');\n",
              "      try {\n",
              "        const charts = await google.colab.kernel.invokeFunction(\n",
              "            'suggestCharts', [key], {});\n",
              "      } catch (error) {\n",
              "        console.error('Error during call to suggestCharts:', error);\n",
              "      }\n",
              "      quickchartButtonEl.classList.remove('colab-df-spinner');\n",
              "      quickchartButtonEl.classList.add('colab-df-quickchart-complete');\n",
              "    }\n",
              "    (() => {\n",
              "      let quickchartButtonEl =\n",
              "        document.querySelector('#df-51f2c75f-a0f0-42f9-aa81-6736364bd136 button');\n",
              "      quickchartButtonEl.style.display =\n",
              "        google.colab.kernel.accessAllowed ? 'block' : 'none';\n",
              "    })();\n",
              "  </script>\n",
              "</div>\n",
              "    </div>\n",
              "  </div>\n"
            ],
            "application/vnd.google.colaboratory.intrinsic+json": {
              "type": "dataframe",
              "variable_name": "df"
            }
          },
          "metadata": {},
          "execution_count": 116
        }
      ]
    },
    {
      "cell_type": "code",
      "source": [
        "# Initialize the YEAR column with zeros\n",
        "df['YEAR'] = 0\n",
        "\n",
        "# Loop through each column specified in the final_grade_columns list\n",
        "for var in final_grade_columns:\n",
        "    df['YEAR'] += df[var].apply(lambda x: 6 if x >= 5.5 and not pd.isnull(x) else 0)"
      ],
      "metadata": {
        "id": "aA-IgdBE-TlX"
      },
      "execution_count": 117,
      "outputs": []
    },
    {
      "cell_type": "code",
      "source": [
        "# Generate the passed42 column and convert boolean to integer\n",
        "df['passed42'] = (df['YEAR'] >= 42).astype(int)\n",
        "df['passed36'] = (df['YEAR'] >= 36).astype(int)\n",
        "df['passed48'] = (df['YEAR'] >= 48).astype(int)\n",
        "\n",
        "\n",
        "df = pd.get_dummies(df, columns=['Gender', 'PreEducation'], dtype=int)\n",
        "\n",
        "\n",
        "non_categorical_columns = [col for col in df.columns if col not in ['Gender', 'Nationality', 'PreEducation', 'Program', 'Year', 'BSA']]\n",
        "df[non_categorical_columns] = df[non_categorical_columns].fillna(0)"
      ],
      "metadata": {
        "id": "eW6bQS7Y-hA1"
      },
      "execution_count": 118,
      "outputs": []
    },
    {
      "cell_type": "code",
      "source": [
        "columns_to_drop = ['train', 'Credits-Y1', 'BSA','Program', 'YEAR','Year', 'mean_programB1', 'Nationality']\n",
        "\n",
        "\n",
        "\n",
        "# Drop the specified columns\n",
        "df.drop(columns=columns_to_drop, inplace=True)"
      ],
      "metadata": {
        "id": "ILvKByfW-g93"
      },
      "execution_count": 119,
      "outputs": []
    },
    {
      "cell_type": "code",
      "source": [
        "# Drop the columns specified in final_grade_columns\n",
        "df.drop(columns=final_grade_columns, inplace=True)\n"
      ],
      "metadata": {
        "id": "XCwt3kZ2-g6w"
      },
      "execution_count": 120,
      "outputs": []
    },
    {
      "cell_type": "code",
      "source": [
        "\n",
        "# Load pre-established train and test sets with the same sheet name\n",
        "train_file_path = '/content/train.xlsx'\n",
        "test_file_path = '/content/test.xlsx'\n",
        "\n",
        "train_df = pd.read_excel(train_file_path, sheet_name=sheet_name)\n",
        "test_df = pd.read_excel(test_file_path, sheet_name=sheet_name)\n",
        "\n",
        "# Use pre-established indices to select corresponding rows from the main DataFrame\n",
        "train_indices = train_df.index\n",
        "test_indices = test_df.index\n",
        "\n",
        "# Split the DataFrame into training and testing sets\n",
        "train = df.iloc[train_indices]\n",
        "test = df.iloc[test_indices]"
      ],
      "metadata": {
        "id": "vPRygbCQ-g3n"
      },
      "execution_count": 120,
      "outputs": []
    },
    {
      "cell_type": "code",
      "source": [
        "# Replace 'target_column' with the name of your target column\n",
        "X = df.drop(columns=['passed36','passed42','passed48'])\n",
        "y = df['passed42']\n"
      ],
      "metadata": {
        "id": "vfnXOQHE-g0T"
      },
      "execution_count": 120,
      "outputs": []
    },
    {
      "cell_type": "code",
      "source": [
        "# Split the data into training and testing sets\n",
        "X_train, X_test, y_train, y_test = train_test_split(X, y, test_size=0.3, random_state=42)"
      ],
      "metadata": {
        "id": "EocQXTv4-3Mb"
      },
      "execution_count": null,
      "outputs": []
    },
    {
      "cell_type": "code",
      "source": [
        "# Create a baseline Random Forest Classifier\n",
        "baseline_rf_classifier = RandomForestClassifier(n_estimators=100, random_state=42)\n",
        "\n",
        "# Train the baseline model\n",
        "baseline_rf_classifier.fit(X_train, y_train)\n",
        "\n",
        "# Make predictions on the test set\n",
        "y_pred_baseline = baseline_rf_classifier.predict(X_test)\n",
        "\n",
        "# Evaluate the baseline model\n",
        "accuracy_baseline = accuracy_score(y_test, y_pred_baseline)\n",
        "precision_baseline = precision_score(y_test, y_pred_baseline, average='binary')\n",
        "recall_baseline = recall_score(y_test, y_pred_baseline, average='binary')\n",
        "f1_baseline = f1_score(y_test, y_pred_baseline, average='binary')\n",
        "\n",
        "# Print the baseline metrics\n",
        "print('Baseline Model Performance:')\n",
        "print(f'Accuracy: {accuracy_baseline}')\n",
        "print(f'Precision: {precision_baseline}')\n",
        "print(f'Recall: {recall_baseline}')\n",
        "print(f'F1 Score: {f1_baseline}')\n",
        "print('Confusion Matrix:')\n",
        "print(confusion_matrix(y_test, y_pred_baseline))\n",
        "print('Classification Report:')\n",
        "print(classification_report(y_test, y_pred_baseline))"
      ],
      "metadata": {
        "id": "eLTwf6Hy-4ye"
      },
      "execution_count": null,
      "outputs": []
    },
    {
      "cell_type": "code",
      "source": [
        "# Define the parameter grid for Grid Search\n",
        "param_grid = {\n",
        "    'n_estimators': [100, 200, 300],\n",
        "    'max_features': ['auto', 'sqrt', 'log2'],\n",
        "    'max_depth': [None, 10, 20, 30],\n",
        "    'min_samples_split': [2, 5, 10],\n",
        "    'min_samples_leaf': [1, 2, 4]\n",
        "}\n",
        "\n",
        "# Create a GridSearchCV object\n",
        "grid_search = GridSearchCV(estimator=RandomForestClassifier(random_state=42), param_grid=param_grid, cv=3, n_jobs=-1, verbose=2)\n",
        "\n",
        "# Fit the grid search to the training data\n",
        "grid_search.fit(X_train, y_train)\n",
        "\n",
        "# Print the best parameters found by Grid Search\n",
        "print(f'Best parameters found: {grid_search.best_params_}')"
      ],
      "metadata": {
        "id": "pfqO4kuZ-5wp"
      },
      "execution_count": null,
      "outputs": []
    },
    {
      "cell_type": "code",
      "source": [
        "# Create the model with the best parameters found by Grid Search\n",
        "best_rf_classifier = RandomForestClassifier(\n",
        "    max_depth=grid_search.best_params_['max_depth'],\n",
        "    max_features=grid_search.best_params_['max_features'],\n",
        "    min_samples_leaf=grid_search.best_params_['min_samples_leaf'],\n",
        "    min_samples_split=grid_search.best_params_['min_samples_split'],\n",
        "    n_estimators=grid_search.best_params_['n_estimators'],\n",
        "    random_state=42\n",
        ")\n",
        "\n",
        "# Train the model with the best parameters\n",
        "best_rf_classifier.fit(X_train, y_train)\n",
        "\n",
        "# Make predictions on the test set with the best model\n",
        "y_pred_best = best_rf_classifier.predict(X_test)\n",
        "\n",
        "# Evaluate the model with the best parameters\n",
        "accuracy_best = accuracy_score(y_test, y_pred_best)\n",
        "precision_best = precision_score(y_test, y_pred_best, average='binary')\n",
        "recall_best = recall_score(y_test, y_pred_best, average='binary')\n",
        "f1_best = f1_score(y_test, y_pred_best, average='binary')\n",
        "\n",
        "# Print the metrics for the best model\n",
        "print('Best Model Performance:')\n",
        "print(f'Accuracy: {accuracy_best}')\n",
        "print(f'Precision: {precision_best}')\n",
        "print(f'Recall: {recall_best}')\n",
        "print(f'F1 Score: {f1_best}')\n",
        "print('Confusion Matrix:')\n",
        "print(confusion_matrix(y_test, y_pred_best))\n",
        "print('Classification Report:')\n",
        "print(classification_report(y_test, y_pred_best))"
      ],
      "metadata": {
        "id": "VH9RHfQf-5tr"
      },
      "execution_count": null,
      "outputs": []
    },
    {
      "cell_type": "code",
      "source": [
        "#overfitting?\n",
        "\n",
        "#y_train_pred = best_rf_classifier.predict(X_train)\n",
        "\n",
        "#acc = accuracy_score(y_train, y_train_pred)\n",
        "#prec= precision_score(y_train, y_train_pred, average='binary')\n",
        "#rec = recall_score(y_train, y_train_pred, average='binary')\n",
        "#f1 = f1_score(y_train, y_train_pred, average='binary')\n",
        "\n",
        "# Print the metrics for the best model\n",
        "\n",
        "#print(f'Accuracy: {acc}')\n",
        "#print(f'Precision: {prec}')\n",
        "#print(f'Recall: {rec}')\n",
        "#print(f'F1 Score: {f1}')"
      ],
      "metadata": {
        "id": "rpCgxm4h-5q6"
      },
      "execution_count": null,
      "outputs": []
    },
    {
      "cell_type": "code",
      "source": [
        "# Print the predictions made by the best model\n",
        "print(\"Best Model Predictions:\")\n",
        "print(y_pred_best)\n"
      ],
      "metadata": {
        "id": "cbPakPRm-5oG"
      },
      "execution_count": null,
      "outputs": []
    },
    {
      "cell_type": "code",
      "source": [
        "# Get the feature importances of the best model\n",
        "feature_importances_best = best_rf_classifier.feature_importances_\n",
        "\n",
        "\n",
        "feature_names = X.columns\n",
        "\n",
        "# Create a DataFrame for better visualization\n",
        "importance_df_best = pd.DataFrame({\n",
        "    'Feature': feature_names,\n",
        "    'Importance': feature_importances_best\n",
        "})\n",
        "\n",
        "# Sort the DataFrame by importance\n",
        "importance_df_best = importance_df_best.sort_values(by='Importance', ascending=False)\n",
        "\n",
        "# Display the DataFrame\n",
        "print('Feature Importances of the Best Model:')\n",
        "print(importance_df_best)\n"
      ],
      "metadata": {
        "id": "1L9u78NH-5k-"
      },
      "execution_count": null,
      "outputs": []
    },
    {
      "cell_type": "code",
      "source": [
        "plt.figure(figsize=(10, 6))\n",
        "sns.barplot(x='Importance', y='Feature', data=importance_df_best)\n",
        "plt.title('Feature Importances of the Best Model')\n",
        "plt.xlabel('Importance')\n",
        "plt.ylabel('Feature')\n",
        "plt.show()"
      ],
      "metadata": {
        "id": "h6_fF4Vs-5hz"
      },
      "execution_count": null,
      "outputs": []
    },
    {
      "cell_type": "code",
      "source": [
        "correlation_matrix = X_train.corr()\n",
        "\n",
        "print(correlation_matrix)"
      ],
      "metadata": {
        "id": "fTutGgyN_Jrw"
      },
      "execution_count": null,
      "outputs": []
    },
    {
      "cell_type": "code",
      "source": [
        "# Calculate the confusion matrix\n",
        "cm = confusion_matrix(y_test, y_pred_best)\n",
        "\n",
        "# Plot the confusion matrix as a heatmap\n",
        "plt.figure(figsize=(8, 6))\n",
        "sns.heatmap(cm, annot=True, cmap='Blues', fmt='g', cbar=False)\n",
        "plt.xlabel('Predicted Label')\n",
        "plt.ylabel('True Label')\n",
        "plt.title('Confusion Matrix')\n",
        "plt.show()"
      ],
      "metadata": {
        "id": "Jmy7m7Sw_Jon"
      },
      "execution_count": null,
      "outputs": []
    },
    {
      "cell_type": "code",
      "source": [],
      "metadata": {
        "id": "bL2dZQ5__Jlz"
      },
      "execution_count": null,
      "outputs": []
    },
    {
      "cell_type": "code",
      "source": [],
      "metadata": {
        "id": "H_d7YePe_Ji5"
      },
      "execution_count": null,
      "outputs": []
    },
    {
      "cell_type": "code",
      "source": [],
      "metadata": {
        "id": "3lOWyUkq_JaP"
      },
      "execution_count": null,
      "outputs": []
    }
  ]
}