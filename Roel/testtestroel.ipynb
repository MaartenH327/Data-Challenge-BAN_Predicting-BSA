{
  "nbformat": 4,
  "nbformat_minor": 0,
  "metadata": {
    "colab": {
      "provenance": []
    },
    "kernelspec": {
      "name": "python3",
      "display_name": "Python 3"
    },
    "language_info": {
      "name": "python"
    }
  },
  "cells": [
    {
      "cell_type": "code",
      "source": [
        "import pandas as pd\n",
        "from sklearn.model_selection import train_test_split, GridSearchCV\n",
        "from sklearn.ensemble import RandomForestClassifier\n",
        "from sklearn.metrics import accuracy_score, precision_score, recall_score, f1_score, confusion_matrix, classification_report\n",
        "import pandas as pd\n",
        "import matplotlib.pyplot as plt\n",
        "import seaborn as sns"
      ],
      "metadata": {
        "id": "7MkHQpJH2VaU"
      },
      "execution_count": 196,
      "outputs": []
    },
    {
      "cell_type": "code",
      "source": [],
      "metadata": {
        "id": "tTd9wTPB2RfI"
      },
      "execution_count": 196,
      "outputs": []
    },
    {
      "cell_type": "code",
      "execution_count": 228,
      "metadata": {
        "colab": {
          "base_uri": "https://localhost:8080/"
        },
        "id": "aoCiUnTd0OoW",
        "outputId": "edc40c83-2e60-469c-c215-9c776ce6c270"
      },
      "outputs": [
        {
          "output_type": "stream",
          "name": "stdout",
          "text": [
            "First Try Columns: ['Course3-1', 'Course9-1', 'Course8-1', 'Course7-1']\n",
            "Resit Columns: ['Course3-R', 'Course9-R']\n",
            "Final Grade Columns: ['Course23', 'Course26', 'Course3', 'Course16', 'Course8', 'Course9', 'Course22', 'Course7', 'Course25', 'Course24']\n"
          ]
        }
      ],
      "source": [
        "import pandas as pd\n",
        "\n",
        "def extract_course_columns(df):\n",
        "    course_columns = [col for col in df.columns if col.startswith('Course')]\n",
        "    first_try_columns = [col for col in course_columns if col.endswith('-1')]\n",
        "    resit_columns = [col for col in course_columns if col.endswith('-R')]\n",
        "    final_grade_columns = [col for col in course_columns if not (col.endswith('-1') or col.endswith('-R'))]\n",
        "\n",
        "    return first_try_columns, resit_columns, final_grade_columns\n",
        "\n",
        "file_path = '/content/BSA-dataset-synthetic.xlsx'\n",
        "sheet_name = 0  # Specify the sheet name here\n",
        "\n",
        "df = pd.read_excel(file_path, sheet_name=sheet_name)\n",
        "\n",
        "# Extract course columns\n",
        "first_try_columns, resit_columns, final_grade_columns = extract_course_columns(df)\n",
        "\n",
        "print(\"First Try Columns:\", first_try_columns)\n",
        "print(\"Resit Columns:\", resit_columns)\n",
        "print(\"Final Grade Columns:\", final_grade_columns)\n",
        "\n"
      ]
    },
    {
      "cell_type": "code",
      "source": [
        "# Create resits_needed column and initialize with zeros\n",
        "df['resits_needed'] = 0\n",
        "\n",
        "# Loop through each column in first_try_columns\n",
        "for col in first_try_columns:\n",
        "    # Increment resits_needed by 1 if the column value is less than 5.5 or missing\n",
        "    df.loc[(df[col] < 5.5) | (df[col].isna()), 'resits_needed'] += 1\n",
        "\n"
      ],
      "metadata": {
        "id": "XJjDLdgK4VQ-"
      },
      "execution_count": 198,
      "outputs": []
    },
    {
      "cell_type": "code",
      "source": [
        "# Initialize an empty list to store column names\n",
        "block1and2_results = []\n",
        "\n",
        "# Iterate through each column in first_try_columns\n",
        "for col in first_try_columns:\n",
        "    # Extract the course number X from the column name\n",
        "    course_num = col.split('-')[0]\n",
        "\n",
        "    # Add the initial attempt column (CourseX-1)\n",
        "    block1and2_results.append(col)\n",
        "\n",
        "    # Check if there's a corresponding resit column (CourseX-R)\n",
        "    resit_col = f\"{course_num}-R\"\n",
        "    if resit_col in resit_columns:\n",
        "        # Add the resit column to the list\n",
        "        block1and2_results.append(resit_col)\n",
        "\n",
        "# Print the resulting list of column names\n",
        "print(\"block1and2_results:\", block1and2_results)"
      ],
      "metadata": {
        "colab": {
          "base_uri": "https://localhost:8080/"
        },
        "id": "VyNOyWBl7z1I",
        "outputId": "efaf8017-b913-4cd5-fe86-ac50554052f5"
      },
      "execution_count": 199,
      "outputs": [
        {
          "output_type": "stream",
          "name": "stdout",
          "text": [
            "block1and2_results: ['Course3-1', 'Course3-R', 'Course9-1', 'Course9-R', 'Course8-1', 'Course7-1']\n"
          ]
        }
      ]
    },
    {
      "cell_type": "code",
      "source": [
        "# Initialize the 'absent' column with zeros\n",
        "df['absent'] = 0\n",
        "\n",
        "# Iterate through each column in block1and2_results\n",
        "for col in block1and2_results:\n",
        "    # Extract the course number X from the column name\n",
        "    course_num = col.split('-')[0]\n",
        "\n",
        "    # Check if it's an initial attempt column\n",
        "    if col.endswith('-1'):\n",
        "        # Increment 'absent' by 1 if the initial attempt column is missing\n",
        "        df.loc[df[col].isna(), 'absent'] += 1\n",
        "    elif col.endswith('-R'):\n",
        "        # Check if there's a corresponding initial attempt column and increment 'absent' accordingly\n",
        "        initial_col = f\"{course_num}-1\"\n",
        "        df.loc[(df[col].isna()) & ((df[initial_col] < 5.5) | df[initial_col].isna()), 'absent'] += 1\n",
        "\n"
      ],
      "metadata": {
        "id": "IblDUWBy73Ir"
      },
      "execution_count": 200,
      "outputs": []
    },
    {
      "cell_type": "code",
      "source": [
        "# Select columns of interest (block1and2_results and 'absent') and display their values\n",
        "print(df.loc[:, block1and2_results + ['absent']])\n"
      ],
      "metadata": {
        "colab": {
          "base_uri": "https://localhost:8080/"
        },
        "id": "k8PIPCXD73Ff",
        "outputId": "b224bdcc-bf29-4fcd-eaaf-b324cd57f9e7"
      },
      "execution_count": 201,
      "outputs": [
        {
          "output_type": "stream",
          "name": "stdout",
          "text": [
            "    Course3-1  Course3-R  Course9-1  Course9-R  Course8-1  Course7-1  absent\n",
            "0         1.5        2.5        NaN        NaN        NaN        NaN       4\n",
            "1         3.5        3.5        5.0        NaN        2.0        NaN       2\n",
            "2         2.5        2.5        1.0        NaN        2.0        NaN       2\n",
            "3         5.0        5.0        1.0        NaN        3.0        NaN       2\n",
            "4         NaN        NaN        NaN        NaN        NaN        NaN       6\n",
            "..        ...        ...        ...        ...        ...        ...     ...\n",
            "56        7.5        NaN        6.5        NaN        6.5        6.0       0\n",
            "57        6.0        NaN        2.0        NaN        5.5        5.0       1\n",
            "58        6.0        NaN        1.0        1.0        5.5        6.5       0\n",
            "59        7.0        NaN        5.0        7.5        6.5        4.5       0\n",
            "60        7.0        NaN        8.0        NaN        6.0        8.0       0\n",
            "\n",
            "[61 rows x 7 columns]\n"
          ]
        }
      ]
    },
    {
      "cell_type": "code",
      "source": [
        "# Calculate average_gradeB1B2 as the row mean of specified columns\n",
        "columns_for_average = block1and2_results.copy()  # Make a copy of block1and2_results\n",
        "df['average_gradeB1B2'] = df[columns_for_average].mean(axis=1)  # Calculate mean across columns\n",
        "df['average_gradeB1B2'] = df['average_gradeB1B2'].round(2)  # Round to two decimal places\n"
      ],
      "metadata": {
        "id": "EvUv62BR73C0"
      },
      "execution_count": 202,
      "outputs": []
    },
    {
      "cell_type": "code",
      "source": [
        "# Initialize dictionaries to store mean values for each course\n",
        "mean_courses = {}\n",
        "\n",
        "# Calculate mean for each course in block1and2_results\n",
        "for col in block1and2_results:\n",
        "    # Extract the course number X from the column name\n",
        "    course_num = col.split('-')[0]\n",
        "\n",
        "    # Calculate mean for each course and store it in the dictionary\n",
        "    if course_num not in mean_courses:\n",
        "        mean_courses[course_num] = df[col].mean()\n",
        "\n",
        "# Print mean values for each course\n",
        "for course, mean in mean_courses.items():\n",
        "    print(f\"Mean for Course {course}: {mean}\")\n"
      ],
      "metadata": {
        "colab": {
          "base_uri": "https://localhost:8080/"
        },
        "id": "vmFzFPhw72_Z",
        "outputId": "c7612471-db06-474f-d24d-7ee380a252f5"
      },
      "execution_count": 203,
      "outputs": [
        {
          "output_type": "stream",
          "name": "stdout",
          "text": [
            "Mean for Course Course3: 6.155172413793103\n",
            "Mean for Course Course9: 5.954545454545454\n",
            "Mean for Course Course8: 5.017857142857143\n",
            "Mean for Course Course7: 5.695652173913044\n"
          ]
        }
      ]
    },
    {
      "cell_type": "code",
      "source": [
        "# Initialize dictionaries to store sum and count of grades for each course\n",
        "sum_initial_grades = {}\n",
        "count_initial_grades = {}\n",
        "sum_resit_grades = {}\n",
        "count_resit_grades = {}\n",
        "\n",
        "# Calculate sum and count of grades for each course in block1and2_results\n",
        "for col in block1and2_results:\n",
        "    # Extract the course number X from the column name\n",
        "    course_num = col.split('-')[0]\n",
        "\n",
        "    # Check if it's an initial attempt column\n",
        "    if col.endswith('-1'):\n",
        "        # Add the grade to the sum of grades for the course\n",
        "        sum_initial_grades[course_num] = sum_initial_grades.get(course_num, 0) + df[col].sum()\n",
        "        # Increment the count of grades for the course\n",
        "        count_initial_grades[course_num] = count_initial_grades.get(course_num, 0) + df[col].count()\n",
        "    elif col.endswith('-R'):\n",
        "        # Add the grade to the sum of grades for the course\n",
        "        sum_resit_grades[course_num] = sum_resit_grades.get(course_num, 0) + df[col].sum()\n",
        "        # Increment the count of grades for the course\n",
        "        count_resit_grades[course_num] = count_resit_grades.get(course_num, 0) + df[col].count()\n",
        "\n",
        "# Calculate mean for each course and print the results\n",
        "for course, sum_grade in sum_initial_grades.items():\n",
        "    mean_initial_grade = sum_grade / count_initial_grades[course]\n",
        "    print(f\"Mean for Initial Attempt of Course {course}: {mean_initial_grade:.2f}\")\n",
        "\n",
        "for course, sum_grade in sum_resit_grades.items():\n",
        "    mean_resit_grade = sum_grade / count_resit_grades[course]\n",
        "    print(f\"Mean for Resit of Course {course}: {mean_resit_grade:.2f}\")\n",
        "\n"
      ],
      "metadata": {
        "colab": {
          "base_uri": "https://localhost:8080/"
        },
        "id": "Eo8QY12q728h",
        "outputId": "535313fc-6859-4000-c006-daa4c5b82a31"
      },
      "execution_count": 204,
      "outputs": [
        {
          "output_type": "stream",
          "name": "stdout",
          "text": [
            "Mean for Initial Attempt of Course Course3: 6.16\n",
            "Mean for Initial Attempt of Course Course9: 5.95\n",
            "Mean for Initial Attempt of Course Course8: 5.02\n",
            "Mean for Initial Attempt of Course Course7: 5.70\n",
            "Mean for Resit of Course Course3: 5.21\n",
            "Mean for Resit of Course Course9: 4.39\n"
          ]
        }
      ]
    },
    {
      "cell_type": "code",
      "source": [
        "# Initialize a list to store mean grades for all attempts\n",
        "all_means = []\n",
        "\n",
        "# Calculate mean for each course for initial attempts and add to the list\n",
        "for course, sum_grade in sum_initial_grades.items():\n",
        "    mean_initial_grade = sum_grade / count_initial_grades[course]\n",
        "    all_means.append(mean_initial_grade)\n",
        "\n",
        "# Calculate mean for each course for resit attempts and add to the list\n",
        "for course, sum_grade in sum_resit_grades.items():\n",
        "    mean_resit_grade = sum_grade / count_resit_grades[course]\n",
        "    all_means.append(mean_resit_grade)\n",
        "\n",
        "# Print the list of mean grades for all attempts\n",
        "print(\"Mean for All Attempts:\", all_means)\n"
      ],
      "metadata": {
        "colab": {
          "base_uri": "https://localhost:8080/"
        },
        "id": "1ecTX-cY_Imh",
        "outputId": "72bcaaf5-af38-4d81-c341-67f76b4f94a1"
      },
      "execution_count": 205,
      "outputs": [
        {
          "output_type": "stream",
          "name": "stdout",
          "text": [
            "Mean for All Attempts: [6.155172413793103, 5.954545454545454, 5.017857142857143, 5.695652173913044, 5.214285714285714, 4.388888888888889]\n"
          ]
        }
      ]
    },
    {
      "cell_type": "code",
      "source": [
        "# Calculate mean_program1B1B2 as the row mean of mean_course values\n",
        "mean_programB1B2 = sum(all_means) / len(all_means)\n",
        "mean_programB1B2 = round(mean_programB1B2, 2)\n",
        "\n",
        "# Update mean_course values with rounded values\n",
        "for course, mean in mean_courses.items():\n",
        "    df[f'mean_course{course}'] = round(mean, 2)\n",
        "\n",
        "# Update mean_program1B1B2 with rounded value\n",
        "df['mean_programB1B2'] = round(mean_programB1B2, 2)\n"
      ],
      "metadata": {
        "id": "xRPYlMEu_Ijb"
      },
      "execution_count": 206,
      "outputs": []
    },
    {
      "cell_type": "code",
      "source": [
        "# Calculate deviationB1B2 as the difference between average_gradeB1B2 and mean_program1B1B2\n",
        "df['deviationB1B2'] = df['average_gradeB1B2'] - df['mean_programB1B2']\n",
        "df['deviationB1B2'] = round(df['deviationB1B2'], 2)"
      ],
      "metadata": {
        "id": "ofvCyQsLAJ2q"
      },
      "execution_count": 207,
      "outputs": []
    },
    {
      "cell_type": "code",
      "source": [
        "# Create 'Dutch' column with True/False values based on the condition\n",
        "df['Dutch'] = (df['Nationality'] == 'Nederland')\n",
        "\n",
        "\n",
        "df['Dutch'] = df['Dutch'].astype(int)\n",
        "\n",
        "# Create 'Dutch' column with True/False values based on the condition\n",
        "df['Non-Dutch'] = (df['Nationality'] != 'Nederland')\n",
        "\n",
        "\n",
        "df['Non-Dutch'] = df['Non-Dutch'].astype(int)"
      ],
      "metadata": {
        "id": "gXxeiFc4AMUR"
      },
      "execution_count": 208,
      "outputs": []
    },
    {
      "cell_type": "code",
      "source": [
        "# Iterate through block1and2_results to create passed columns\n",
        "for col in block1and2_results:\n",
        "    # Extract the course number and attempt type from the column name\n",
        "    course_num, attempt_type = col.split('-')\n",
        "\n",
        "    # Check if it's an initial attempt column\n",
        "    if attempt_type == '1':\n",
        "        # Create the passed column if it doesn't exist\n",
        "        if f'passed{course_num}' not in df.columns:\n",
        "            df[f'passed{course_num}'] = 0\n",
        "\n",
        "        # Set passed column to 1 if the grade is greater than or equal to 5.5\n",
        "        df.loc[df[col] >= 5.5, f'passed{course_num}'] = 1\n",
        "\n",
        "    # Check if it's a resit attempt column\n",
        "    elif attempt_type == 'R':\n",
        "        # Set passed column to 1 if the resit attempt is greater than or equal to 5.5\n",
        "        df.loc[df[col] >= 5.5, f'passed{course_num}'] = 1\n",
        "\n",
        "        # Set passed column to 1 if the resit attempt is missing and the initial attempt is greater than or equal to 5.5\n",
        "        initial_col = next((c for c in block1and2_results if c.startswith(f'Course{course_num}-1')), None)\n",
        "        if initial_col:\n",
        "            df.loc[(df[col].isna()) & (df[initial_col] >= 5.5), f'passed{course_num}'] = 1\n",
        "\n"
      ],
      "metadata": {
        "id": "jDdB_ZjHAXGh"
      },
      "execution_count": 209,
      "outputs": []
    },
    {
      "cell_type": "code",
      "source": [
        "# Initialize the YEAR column with zeros\n",
        "df['YEAR'] = 0\n",
        "\n",
        "# Loop through each column specified in the varlist\n",
        "for var in ['Course23', 'Course26', 'Course3', 'Course16', 'Course8', 'Course9', 'Course22', 'Course7', 'Course25', 'Course24']:\n",
        "    df['YEAR'] += df[var].apply(lambda x: 6 if x >= 5.5 and not pd.isnull(x) else 0)"
      ],
      "metadata": {
        "id": "4_XDpKr2CxWk"
      },
      "execution_count": 210,
      "outputs": []
    },
    {
      "cell_type": "code",
      "source": [
        "# Initialize the YEAR column with zeros\n",
        "df['YEAR'] = 0\n",
        "\n",
        "# Loop through each column specified in the final_grade_columns list\n",
        "for var in final_grade_columns:\n",
        "    df['YEAR'] += df[var].apply(lambda x: 6 if x >= 5.5 and not pd.isnull(x) else 0)\n"
      ],
      "metadata": {
        "id": "TVkQ6ai7CxTq"
      },
      "execution_count": 211,
      "outputs": []
    },
    {
      "cell_type": "code",
      "source": [
        "# Initialize the YEAR column with zeros\n",
        "df['YEAR'] = 0\n",
        "\n",
        "# Loop through each column specified in the final_grade_columns list\n",
        "for var in final_grade_columns:\n",
        "    df['YEAR'] += df[var].apply(lambda x: 6 if x >= 5.5 and not pd.isnull(x) else 0)\n"
      ],
      "metadata": {
        "id": "RHj188R8CxQ1"
      },
      "execution_count": 212,
      "outputs": []
    },
    {
      "cell_type": "code",
      "source": [
        "# Generate the passed42 column and convert boolean to integer\n",
        "df['passed42'] = (df['YEAR'] >= 42).astype(int)\n",
        "df['passed36'] = (df['YEAR'] >= 36).astype(int)\n",
        "df['passed48'] = (df['YEAR'] >= 48).astype(int)\n",
        "\n",
        "\n",
        "df = pd.get_dummies(df, columns=['Gender', 'PreEducation'], dtype=int)\n",
        "\n",
        "\n",
        "non_categorical_columns = [col for col in df.columns if col not in ['Gender', 'Nationality', 'PreEducation', 'Program', 'Year', 'BSA']]\n",
        "df[non_categorical_columns] = df[non_categorical_columns].fillna(0)"
      ],
      "metadata": {
        "id": "uHyZdDDeCxOJ"
      },
      "execution_count": 213,
      "outputs": []
    },
    {
      "cell_type": "code",
      "source": [
        "columns_to_drop = ['train', 'Credits-Y1', 'BSA','Program', 'YEAR','Year', 'mean_programB1B2', 'Nationality']\n",
        "\n",
        "\n",
        "\n",
        "# Drop the specified columns\n",
        "df.drop(columns=columns_to_drop, inplace=True)"
      ],
      "metadata": {
        "id": "cO_eNrhED8eh"
      },
      "execution_count": 214,
      "outputs": []
    },
    {
      "cell_type": "code",
      "source": [
        "# Drop the columns specified in final_grade_columns\n",
        "df.drop(columns=final_grade_columns, inplace=True)\n"
      ],
      "metadata": {
        "id": "5f6Dtx4ND8be"
      },
      "execution_count": 215,
      "outputs": []
    },
    {
      "cell_type": "code",
      "source": [
        "# Replace 'target_column' with the name of your target column\n",
        "X = df.drop(columns=['passed36','passed42','passed48'])\n",
        "y = df['passed42']\n"
      ],
      "metadata": {
        "id": "5YMtvqTZD8Yh"
      },
      "execution_count": 216,
      "outputs": []
    },
    {
      "cell_type": "code",
      "source": [
        "# Split the data into training and testing sets\n",
        "X_train, X_test, y_train, y_test = train_test_split(X, y, test_size=0.3, random_state=42)\n"
      ],
      "metadata": {
        "id": "_bX47A3qD8VZ"
      },
      "execution_count": 217,
      "outputs": []
    },
    {
      "cell_type": "code",
      "source": [
        "# Create a baseline Random Forest Classifier\n",
        "baseline_rf_classifier = RandomForestClassifier(n_estimators=100, random_state=42)\n",
        "\n",
        "# Train the baseline model\n",
        "baseline_rf_classifier.fit(X_train, y_train)\n",
        "\n",
        "# Make predictions on the test set\n",
        "y_pred_baseline = baseline_rf_classifier.predict(X_test)\n",
        "\n",
        "# Evaluate the baseline model\n",
        "accuracy_baseline = accuracy_score(y_test, y_pred_baseline)\n",
        "precision_baseline = precision_score(y_test, y_pred_baseline, average='binary')\n",
        "recall_baseline = recall_score(y_test, y_pred_baseline, average='binary')\n",
        "f1_baseline = f1_score(y_test, y_pred_baseline, average='binary')\n",
        "\n",
        "# Print the baseline metrics\n",
        "print('Baseline Model Performance:')\n",
        "print(f'Accuracy: {accuracy_baseline}')\n",
        "print(f'Precision: {precision_baseline}')\n",
        "print(f'Recall: {recall_baseline}')\n",
        "print(f'F1 Score: {f1_baseline}')\n",
        "print('Confusion Matrix:')\n",
        "print(confusion_matrix(y_test, y_pred_baseline))\n",
        "print('Classification Report:')\n",
        "print(classification_report(y_test, y_pred_baseline))"
      ],
      "metadata": {
        "colab": {
          "base_uri": "https://localhost:8080/"
        },
        "id": "wUTVGwGaD8R6",
        "outputId": "54f8145d-321c-454c-c466-9db900977cc3"
      },
      "execution_count": 218,
      "outputs": [
        {
          "output_type": "stream",
          "name": "stdout",
          "text": [
            "Baseline Model Performance:\n",
            "Accuracy: 0.7368421052631579\n",
            "Precision: 0.7777777777777778\n",
            "Recall: 0.7\n",
            "F1 Score: 0.7368421052631577\n",
            "Confusion Matrix:\n",
            "[[7 2]\n",
            " [3 7]]\n",
            "Classification Report:\n",
            "              precision    recall  f1-score   support\n",
            "\n",
            "           0       0.70      0.78      0.74         9\n",
            "           1       0.78      0.70      0.74        10\n",
            "\n",
            "    accuracy                           0.74        19\n",
            "   macro avg       0.74      0.74      0.74        19\n",
            "weighted avg       0.74      0.74      0.74        19\n",
            "\n"
          ]
        }
      ]
    },
    {
      "cell_type": "code",
      "source": [
        "# Define the parameter grid for Grid Search\n",
        "param_grid = {\n",
        "    'n_estimators': [100, 200, 300],\n",
        "    'max_features': ['auto', 'sqrt', 'log2'],\n",
        "    'max_depth': [None, 10, 20, 30],\n",
        "    'min_samples_split': [2, 5, 10],\n",
        "    'min_samples_leaf': [1, 2, 4]\n",
        "}\n",
        "\n",
        "# Create a GridSearchCV object\n",
        "grid_search = GridSearchCV(estimator=RandomForestClassifier(random_state=42), param_grid=param_grid, cv=3, n_jobs=-1, verbose=2)\n",
        "\n",
        "# Fit the grid search to the training data\n",
        "grid_search.fit(X_train, y_train)\n",
        "\n",
        "# Print the best parameters found by Grid Search\n",
        "print(f'Best parameters found: {grid_search.best_params_}')\n"
      ],
      "metadata": {
        "colab": {
          "base_uri": "https://localhost:8080/"
        },
        "id": "Vf1UApdwFb0K",
        "outputId": "58393fea-0fbe-408f-cfa4-1a3eb49f2028"
      },
      "execution_count": 219,
      "outputs": [
        {
          "output_type": "stream",
          "name": "stdout",
          "text": [
            "Fitting 3 folds for each of 324 candidates, totalling 972 fits\n"
          ]
        },
        {
          "output_type": "stream",
          "name": "stderr",
          "text": [
            "/usr/local/lib/python3.10/dist-packages/sklearn/ensemble/_forest.py:424: FutureWarning: `max_features='auto'` has been deprecated in 1.1 and will be removed in 1.3. To keep the past behaviour, explicitly set `max_features='sqrt'` or remove this parameter as it is also the default value for RandomForestClassifiers and ExtraTreesClassifiers.\n",
            "  warn(\n"
          ]
        },
        {
          "output_type": "stream",
          "name": "stdout",
          "text": [
            "Best parameters found: {'max_depth': None, 'max_features': 'auto', 'min_samples_leaf': 1, 'min_samples_split': 5, 'n_estimators': 200}\n"
          ]
        }
      ]
    },
    {
      "cell_type": "code",
      "source": [
        "# Create the model with the best parameters found by Grid Search\n",
        "best_rf_classifier = RandomForestClassifier(\n",
        "    max_depth=grid_search.best_params_['max_depth'],\n",
        "    max_features=grid_search.best_params_['max_features'],\n",
        "    min_samples_leaf=grid_search.best_params_['min_samples_leaf'],\n",
        "    min_samples_split=grid_search.best_params_['min_samples_split'],\n",
        "    n_estimators=grid_search.best_params_['n_estimators'],\n",
        "    random_state=42\n",
        ")\n",
        "\n",
        "# Train the model with the best parameters\n",
        "best_rf_classifier.fit(X_train, y_train)\n",
        "\n",
        "# Make predictions on the test set with the best model\n",
        "y_pred_best = best_rf_classifier.predict(X_test)\n",
        "\n",
        "# Evaluate the model with the best parameters\n",
        "accuracy_best = accuracy_score(y_test, y_pred_best)\n",
        "precision_best = precision_score(y_test, y_pred_best, average='binary')\n",
        "recall_best = recall_score(y_test, y_pred_best, average='binary')\n",
        "f1_best = f1_score(y_test, y_pred_best, average='binary')\n",
        "\n",
        "# Print the metrics for the best model\n",
        "print('Best Model Performance:')\n",
        "print(f'Accuracy: {accuracy_best}')\n",
        "print(f'Precision: {precision_best}')\n",
        "print(f'Recall: {recall_best}')\n",
        "print(f'F1 Score: {f1_best}')\n",
        "print('Confusion Matrix:')\n",
        "print(confusion_matrix(y_test, y_pred_best))\n",
        "print('Classification Report:')\n",
        "print(classification_report(y_test, y_pred_best))"
      ],
      "metadata": {
        "colab": {
          "base_uri": "https://localhost:8080/"
        },
        "id": "2SkKG-yeFbxg",
        "outputId": "3d90de71-3fa1-435a-d9d6-4e57016609d4"
      },
      "execution_count": 220,
      "outputs": [
        {
          "output_type": "stream",
          "name": "stderr",
          "text": [
            "/usr/local/lib/python3.10/dist-packages/sklearn/ensemble/_forest.py:424: FutureWarning: `max_features='auto'` has been deprecated in 1.1 and will be removed in 1.3. To keep the past behaviour, explicitly set `max_features='sqrt'` or remove this parameter as it is also the default value for RandomForestClassifiers and ExtraTreesClassifiers.\n",
            "  warn(\n"
          ]
        },
        {
          "output_type": "stream",
          "name": "stdout",
          "text": [
            "Best Model Performance:\n",
            "Accuracy: 0.7368421052631579\n",
            "Precision: 0.7777777777777778\n",
            "Recall: 0.7\n",
            "F1 Score: 0.7368421052631577\n",
            "Confusion Matrix:\n",
            "[[7 2]\n",
            " [3 7]]\n",
            "Classification Report:\n",
            "              precision    recall  f1-score   support\n",
            "\n",
            "           0       0.70      0.78      0.74         9\n",
            "           1       0.78      0.70      0.74        10\n",
            "\n",
            "    accuracy                           0.74        19\n",
            "   macro avg       0.74      0.74      0.74        19\n",
            "weighted avg       0.74      0.74      0.74        19\n",
            "\n"
          ]
        }
      ]
    },
    {
      "cell_type": "code",
      "source": [
        "#overfitting?\n",
        "\n",
        "#y_train_pred = best_rf_classifier.predict(X_train)\n",
        "\n",
        "#acc = accuracy_score(y_train, y_train_pred)\n",
        "#prec= precision_score(y_train, y_train_pred, average='binary')\n",
        "#rec = recall_score(y_train, y_train_pred, average='binary')\n",
        "#f1 = f1_score(y_train, y_train_pred, average='binary')\n",
        "\n",
        "# Print the metrics for the best model\n",
        "\n",
        "#print(f'Accuracy: {acc}')\n",
        "#print(f'Precision: {prec}')\n",
        "#print(f'Recall: {rec}')\n",
        "#print(f'F1 Score: {f1}')\n"
      ],
      "metadata": {
        "id": "URM5L9erFbus"
      },
      "execution_count": 221,
      "outputs": []
    },
    {
      "cell_type": "code",
      "source": [
        "# Print the predictions made by the best model\n",
        "print(\"Best Model Predictions:\")\n",
        "print(y_pred_best)\n"
      ],
      "metadata": {
        "colab": {
          "base_uri": "https://localhost:8080/"
        },
        "id": "jNkh2M8EFbr5",
        "outputId": "cfa96a03-2eff-4518-bbf7-d1b0bf94f189"
      },
      "execution_count": 222,
      "outputs": [
        {
          "output_type": "stream",
          "name": "stdout",
          "text": [
            "Best Model Predictions:\n",
            "[0 0 1 1 1 1 0 0 1 1 0 1 0 0 1 0 0 0 1]\n"
          ]
        }
      ]
    },
    {
      "cell_type": "code",
      "source": [
        "# Get the feature importances of the best model\n",
        "feature_importances_best = best_rf_classifier.feature_importances_\n",
        "\n",
        "\n",
        "feature_names = X.columns\n",
        "\n",
        "# Create a DataFrame for better visualization\n",
        "importance_df_best = pd.DataFrame({\n",
        "    'Feature': feature_names,\n",
        "    'Importance': feature_importances_best\n",
        "})\n",
        "\n",
        "# Sort the DataFrame by importance\n",
        "importance_df_best = importance_df_best.sort_values(by='Importance', ascending=False)\n",
        "\n",
        "# Display the DataFrame\n",
        "print('Feature Importances of the Best Model:')\n",
        "print(importance_df_best)\n"
      ],
      "metadata": {
        "colab": {
          "base_uri": "https://localhost:8080/"
        },
        "id": "RdPl-klsFbpV",
        "outputId": "35b355cc-0305-4e03-bd63-27c00b884028"
      },
      "execution_count": 223,
      "outputs": [
        {
          "output_type": "stream",
          "name": "stdout",
          "text": [
            "Feature Importances of the Best Model:\n",
            "                     Feature  Importance\n",
            "7              resits_needed    0.136916\n",
            "6               Credits-B1B2    0.135795\n",
            "9          average_gradeB1B2    0.132006\n",
            "2                  Course8-1    0.116967\n",
            "14             deviationB1B2    0.108587\n",
            "3                  Course7-1    0.078988\n",
            "20             passedCourse7    0.078557\n",
            "1                  Course9-1    0.045353\n",
            "0                  Course3-1    0.042641\n",
            "8                     absent    0.038966\n",
            "19             passedCourse8    0.029713\n",
            "5                  Course9-R    0.009708\n",
            "18             passedCourse9    0.008789\n",
            "22                  Gender_M    0.007950\n",
            "21                  Gender_F    0.007791\n",
            "23  PreEducation_Buitenlands    0.005477\n",
            "26          PreEducation_Vwo    0.004744\n",
            "16                 Non-Dutch    0.004079\n",
            "4                  Course3-R    0.003621\n",
            "15                     Dutch    0.001854\n",
            "17             passedCourse3    0.001135\n",
            "25       PreEducation_Overig    0.000327\n",
            "24          PreEducation_Hbo    0.000034\n",
            "12        mean_courseCourse8    0.000000\n",
            "11        mean_courseCourse9    0.000000\n",
            "10        mean_courseCourse3    0.000000\n",
            "13        mean_courseCourse7    0.000000\n"
          ]
        }
      ]
    },
    {
      "cell_type": "code",
      "source": [
        "plt.figure(figsize=(10, 6))\n",
        "sns.barplot(x='Importance', y='Feature', data=importance_df_best)\n",
        "plt.title('Feature Importances of the Best Model')\n",
        "plt.xlabel('Importance')\n",
        "plt.ylabel('Feature')\n",
        "plt.show()"
      ],
      "metadata": {
        "colab": {
          "base_uri": "https://localhost:8080/",
          "height": 564
        },
        "id": "IW1xCx57Fbmd",
        "outputId": "2714c1a0-81e3-40c5-df36-28e4092d4835"
      },
      "execution_count": 224,
      "outputs": [
        {
          "output_type": "display_data",
          "data": {
            "text/plain": [
              "<Figure size 1000x600 with 1 Axes>"
            ],
            "image/png": "[encoded data removed]"
          },
          "metadata": {}
        }
      ]
    },
    {
      "cell_type": "code",
      "source": [
        "correlation_matrix = X_train.corr()\n",
        "\n",
        "print(correlation_matrix)"
      ],
      "metadata": {
        "colab": {
          "base_uri": "https://localhost:8080/"
        },
        "id": "yoK1wavMFbjw",
        "outputId": "854e0969-df1c-4f4b-e519-ce5d7392120d"
      },
      "execution_count": 225,
      "outputs": [
        {
          "output_type": "stream",
          "name": "stdout",
          "text": [
            "                          Course3-1  Course9-1  Course8-1  Course7-1  \\\n",
            "Course3-1                  1.000000   0.516434   0.689938   0.692854   \n",
            "Course9-1                  0.516434   1.000000   0.629753   0.470995   \n",
            "Course8-1                  0.689938   0.629753   1.000000   0.794136   \n",
            "Course7-1                  0.692854   0.470995   0.794136   1.000000   \n",
            "Course3-R                 -0.343474  -0.132878  -0.270230  -0.365133   \n",
            "Course9-R                  0.035027  -0.210429  -0.000173  -0.019837   \n",
            "Credits-B1B2               0.718303   0.691290   0.884155   0.883153   \n",
            "resits_needed             -0.713620  -0.680321  -0.868357  -0.886633   \n",
            "absent                    -0.670951  -0.635037  -0.620664  -0.585289   \n",
            "average_gradeB1B2          0.865176   0.729539   0.858677   0.826158   \n",
            "mean_courseCourse3              NaN        NaN        NaN        NaN   \n",
            "mean_courseCourse9              NaN        NaN        NaN        NaN   \n",
            "mean_courseCourse8              NaN        NaN        NaN        NaN   \n",
            "mean_courseCourse7              NaN        NaN        NaN        NaN   \n",
            "deviationB1B2              0.704686   0.657609   0.827193   0.818970   \n",
            "Dutch                     -0.049095  -0.028358  -0.006519  -0.111172   \n",
            "Non-Dutch                  0.049095   0.028358   0.006519   0.111172   \n",
            "passedCourse3              0.787994   0.436605   0.562708   0.547101   \n",
            "passedCourse9              0.486320   0.797971   0.553901   0.535577   \n",
            "passedCourse8              0.527676   0.494625   0.852824   0.778617   \n",
            "passedCourse7              0.513711   0.416798   0.716439   0.860878   \n",
            "Gender_F                   0.101711  -0.039556   0.037790   0.088247   \n",
            "Gender_M                  -0.101711   0.039556  -0.037790  -0.088247   \n",
            "PreEducation_Buitenlands   0.050778   0.017212   0.005461   0.041643   \n",
            "PreEducation_Hbo           0.002169   0.139880   0.117350  -0.045600   \n",
            "PreEducation_Overig        0.068311  -0.092666   0.059786   0.215956   \n",
            "PreEducation_Vwo          -0.090046  -0.022419  -0.077825  -0.136856   \n",
            "\n",
            "                          Course3-R  Course9-R  Credits-B1B2  resits_needed  \\\n",
            "Course3-1                 -0.343474   0.035027      0.718303      -0.713620   \n",
            "Course9-1                 -0.132878  -0.210429      0.691290      -0.680321   \n",
            "Course8-1                 -0.270230  -0.000173      0.884155      -0.868357   \n",
            "Course7-1                 -0.365133  -0.019837      0.883153      -0.886633   \n",
            "Course3-R                  1.000000  -0.082387     -0.274850       0.433154   \n",
            "Course9-R                 -0.082387   1.000000     -0.013144       0.163752   \n",
            "Credits-B1B2              -0.274850  -0.013144      1.000000      -0.966383   \n",
            "resits_needed              0.433154   0.163752     -0.966383       1.000000   \n",
            "absent                     0.059380  -0.150353     -0.739491       0.661252   \n",
            "average_gradeB1B2         -0.284041  -0.087975      0.866503      -0.859383   \n",
            "mean_courseCourse3              NaN        NaN           NaN            NaN   \n",
            "mean_courseCourse9              NaN        NaN           NaN            NaN   \n",
            "mean_courseCourse8              NaN        NaN           NaN            NaN   \n",
            "mean_courseCourse7              NaN        NaN           NaN            NaN   \n",
            "deviationB1B2             -0.353527  -0.122685      0.836669      -0.844557   \n",
            "Dutch                     -0.098090  -0.195830     -0.092835       0.033125   \n",
            "Non-Dutch                  0.098090   0.195830      0.092835      -0.033125   \n",
            "passedCourse3             -0.156828   0.088617      0.669980      -0.586499   \n",
            "passedCourse9             -0.236042   0.118348      0.749705      -0.697274   \n",
            "passedCourse8             -0.314789  -0.097305      0.836966      -0.858851   \n",
            "passedCourse7             -0.292509  -0.097059      0.823051      -0.839727   \n",
            "Gender_F                   0.141566   0.234911      0.177520      -0.065899   \n",
            "Gender_M                  -0.141566  -0.234911     -0.177520       0.065899   \n",
            "PreEducation_Buitenlands   0.075566   0.183112      0.039725       0.012064   \n",
            "PreEducation_Hbo          -0.074159  -0.050265      0.048697      -0.065846   \n",
            "PreEducation_Overig       -0.106180  -0.071969      0.069723      -0.094277   \n",
            "PreEducation_Vwo          -0.002386  -0.144775     -0.095410       0.057613   \n",
            "\n",
            "                            absent  average_gradeB1B2  ...  passedCourse3  \\\n",
            "Course3-1                -0.670951           0.865176  ...   7.879940e-01   \n",
            "Course9-1                -0.635037           0.729539  ...   4.366047e-01   \n",
            "Course8-1                -0.620664           0.858677  ...   5.627085e-01   \n",
            "Course7-1                -0.585289           0.826158  ...   5.471014e-01   \n",
            "Course3-R                 0.059380          -0.284041  ...  -1.568281e-01   \n",
            "Course9-R                -0.150353          -0.087975  ...   8.861667e-02   \n",
            "Credits-B1B2             -0.739491           0.866503  ...   6.699801e-01   \n",
            "resits_needed             0.661252          -0.859383  ...  -5.864991e-01   \n",
            "absent                    1.000000          -0.639560  ...  -6.649100e-01   \n",
            "average_gradeB1B2        -0.639560           1.000000  ...   6.807939e-01   \n",
            "mean_courseCourse3             NaN                NaN  ...            NaN   \n",
            "mean_courseCourse9             NaN                NaN  ...            NaN   \n",
            "mean_courseCourse8             NaN                NaN  ...            NaN   \n",
            "mean_courseCourse7             NaN                NaN  ...            NaN   \n",
            "deviationB1B2            -0.387615           0.901919  ...   5.766272e-01   \n",
            "Dutch                     0.027420          -0.069082  ...  -4.707252e-17   \n",
            "Non-Dutch                -0.027420           0.069082  ...   5.708795e-17   \n",
            "passedCourse3            -0.664910           0.680794  ...   1.000000e+00   \n",
            "passedCourse9            -0.726976           0.623366  ...   4.625688e-01   \n",
            "passedCourse8            -0.504118           0.714988  ...   4.082483e-01   \n",
            "passedCourse7            -0.478809           0.681524  ...   3.892495e-01   \n",
            "Gender_F                 -0.302845           0.036803  ...   3.564531e-01   \n",
            "Gender_M                  0.302845          -0.036803  ...  -3.564531e-01   \n",
            "PreEducation_Buitenlands  0.027961           0.062342  ...   2.102586e-02   \n",
            "PreEducation_Hbo         -0.084786           0.043451  ...   6.375767e-02   \n",
            "PreEducation_Overig      -0.030349           0.055173  ...   9.128709e-02   \n",
            "PreEducation_Vwo          0.015174          -0.110807  ...  -9.128709e-02   \n",
            "\n",
            "                          passedCourse9  passedCourse8  passedCourse7  \\\n",
            "Course3-1                      0.486320   5.276760e-01       0.513711   \n",
            "Course9-1                      0.797971   4.946247e-01       0.416798   \n",
            "Course8-1                      0.553901   8.528244e-01       0.716439   \n",
            "Course7-1                      0.535577   7.786168e-01       0.860878   \n",
            "Course3-R                     -0.236042  -3.147887e-01      -0.292509   \n",
            "Course9-R                      0.118348  -9.730528e-02      -0.097059   \n",
            "Credits-B1B2                   0.749705   8.369658e-01       0.823051   \n",
            "resits_needed                 -0.697274  -8.588510e-01      -0.839727   \n",
            "absent                        -0.726976  -5.041184e-01      -0.478809   \n",
            "average_gradeB1B2              0.623366   7.149881e-01       0.681524   \n",
            "mean_courseCourse3                  NaN            NaN            NaN   \n",
            "mean_courseCourse9                  NaN            NaN            NaN   \n",
            "mean_courseCourse8                  NaN            NaN            NaN   \n",
            "mean_courseCourse7                  NaN            NaN            NaN   \n",
            "deviationB1B2                  0.584525   7.242470e-01       0.690329   \n",
            "Dutch                         -0.182089   1.682242e-17      -0.067420   \n",
            "Non-Dutch                      0.182089  -6.168220e-17       0.067420   \n",
            "passedCourse3                  0.462569   4.082483e-01       0.389249   \n",
            "passedCourse9                  1.000000   4.635236e-01       0.432131   \n",
            "passedCourse8                  0.463524   1.000000e+00       0.667424   \n",
            "passedCourse7                  0.432131   6.674238e-01       1.000000   \n",
            "Gender_F                       0.182372   4.850713e-02       0.009250   \n",
            "Gender_M                      -0.182372  -4.850713e-02      -0.009250   \n",
            "PreEducation_Buitenlands       0.108753  -5.150262e-02       0.019642   \n",
            "PreEducation_Hbo               0.104564   1.561738e-01      -0.148906   \n",
            "PreEducation_Overig           -0.092131   3.568643e-17       0.234521   \n",
            "PreEducation_Vwo              -0.109405  -3.258326e-17      -0.085280   \n",
            "\n",
            "                          Gender_F  Gender_M  PreEducation_Buitenlands  \\\n",
            "Course3-1                 0.101711 -0.101711                  0.050778   \n",
            "Course9-1                -0.039556  0.039556                  0.017212   \n",
            "Course8-1                 0.037790 -0.037790                  0.005461   \n",
            "Course7-1                 0.088247 -0.088247                  0.041643   \n",
            "Course3-R                 0.141566 -0.141566                  0.075566   \n",
            "Course9-R                 0.234911 -0.234911                  0.183112   \n",
            "Credits-B1B2              0.177520 -0.177520                  0.039725   \n",
            "resits_needed            -0.065899  0.065899                  0.012064   \n",
            "absent                   -0.302845  0.302845                  0.027961   \n",
            "average_gradeB1B2         0.036803 -0.036803                  0.062342   \n",
            "mean_courseCourse3             NaN       NaN                       NaN   \n",
            "mean_courseCourse9             NaN       NaN                       NaN   \n",
            "mean_courseCourse8             NaN       NaN                       NaN   \n",
            "mean_courseCourse7             NaN       NaN                       NaN   \n",
            "deviationB1B2            -0.050341  0.050341                  0.120250   \n",
            "Dutch                     0.171499 -0.171499                 -0.946864   \n",
            "Non-Dutch                -0.171499  0.171499                  0.946864   \n",
            "passedCourse3             0.356453 -0.356453                  0.021026   \n",
            "passedCourse9             0.182372 -0.182372                  0.108753   \n",
            "passedCourse8             0.048507 -0.048507                 -0.051503   \n",
            "passedCourse7             0.009250 -0.009250                  0.019642   \n",
            "Gender_F                  1.000000 -1.000000                 -0.237333   \n",
            "Gender_M                 -1.000000  1.000000                  0.237333   \n",
            "PreEducation_Buitenlands -0.237333  0.237333                  1.000000   \n",
            "PreEducation_Hbo          0.128784 -0.128784                 -0.233257   \n",
            "PreEducation_Overig       0.184391 -0.184391                 -0.333974   \n",
            "PreEducation_Vwo          0.119312 -0.119312                 -0.834934   \n",
            "\n",
            "                          PreEducation_Hbo  PreEducation_Overig  \\\n",
            "Course3-1                         0.002169         6.831112e-02   \n",
            "Course9-1                         0.139880        -9.266608e-02   \n",
            "Course8-1                         0.117350         5.978619e-02   \n",
            "Course7-1                        -0.045600         2.159559e-01   \n",
            "Course3-R                        -0.074159        -1.061799e-01   \n",
            "Course9-R                        -0.050265        -7.196917e-02   \n",
            "Credits-B1B2                      0.048697         6.972301e-02   \n",
            "resits_needed                    -0.065846        -9.427659e-02   \n",
            "absent                           -0.084786        -3.034885e-02   \n",
            "average_gradeB1B2                 0.043451         5.517308e-02   \n",
            "mean_courseCourse3                     NaN                  NaN   \n",
            "mean_courseCourse9                     NaN                  NaN   \n",
            "mean_courseCourse8                     NaN                  NaN   \n",
            "mean_courseCourse7                     NaN                  NaN   \n",
            "deviationB1B2                     0.036815         4.483760e-02   \n",
            "Dutch                             0.220863         3.162278e-01   \n",
            "Non-Dutch                        -0.220863        -3.162278e-01   \n",
            "passedCourse3                     0.063758         9.128709e-02   \n",
            "passedCourse9                     0.104564        -9.213069e-02   \n",
            "passedCourse8                     0.156174         3.568643e-17   \n",
            "passedCourse7                    -0.148906         2.345208e-01   \n",
            "Gender_F                          0.128784         1.843909e-01   \n",
            "Gender_M                         -0.128784        -1.843909e-01   \n",
            "PreEducation_Buitenlands         -0.233257        -3.339737e-01   \n",
            "PreEducation_Hbo                  1.000000        -3.492151e-02   \n",
            "PreEducation_Overig              -0.034922         1.000000e+00   \n",
            "PreEducation_Vwo                 -0.087304        -1.250000e-01   \n",
            "\n",
            "                          PreEducation_Vwo  \n",
            "Course3-1                    -9.004648e-02  \n",
            "Course9-1                    -2.241921e-02  \n",
            "Course8-1                    -7.782513e-02  \n",
            "Course7-1                    -1.368558e-01  \n",
            "Course3-R                    -2.386064e-03  \n",
            "Course9-R                    -1.447752e-01  \n",
            "Credits-B1B2                 -9.541043e-02  \n",
            "resits_needed                 5.761347e-02  \n",
            "absent                        1.517442e-02  \n",
            "average_gradeB1B2            -1.108071e-01  \n",
            "mean_courseCourse3                     NaN  \n",
            "mean_courseCourse9                     NaN  \n",
            "mean_courseCourse8                     NaN  \n",
            "mean_courseCourse7                     NaN  \n",
            "deviationB1B2                -1.661179e-01  \n",
            "Dutch                         7.905694e-01  \n",
            "Non-Dutch                    -7.905694e-01  \n",
            "passedCourse3                -9.128709e-02  \n",
            "passedCourse9                -1.094052e-01  \n",
            "passedCourse8                -3.258326e-17  \n",
            "passedCourse7                -8.528029e-02  \n",
            "Gender_F                      1.193118e-01  \n",
            "Gender_M                     -1.193118e-01  \n",
            "PreEducation_Buitenlands     -8.349344e-01  \n",
            "PreEducation_Hbo             -8.730379e-02  \n",
            "PreEducation_Overig          -1.250000e-01  \n",
            "PreEducation_Vwo              1.000000e+00  \n",
            "\n",
            "[27 rows x 27 columns]\n"
          ]
        }
      ]
    },
    {
      "cell_type": "code",
      "source": [
        "# Calculate the confusion matrix\n",
        "cm = confusion_matrix(y_test, y_pred_best)\n",
        "\n",
        "# Plot the confusion matrix as a heatmap\n",
        "plt.figure(figsize=(8, 6))\n",
        "sns.heatmap(cm, annot=True, cmap='Blues', fmt='g', cbar=False)\n",
        "plt.xlabel('Predicted Label')\n",
        "plt.ylabel('True Label')\n",
        "plt.title('Confusion Matrix')\n",
        "plt.show()\n"
      ],
      "metadata": {
        "colab": {
          "base_uri": "https://localhost:8080/",
          "height": 564
        },
        "id": "RD5VNLJOFbg9",
        "outputId": "ef49ef03-af9c-471c-8bcc-8e80d8745b41"
      },
      "execution_count": 226,
      "outputs": [
        {
          "output_type": "display_data",
          "data": {
            "text/plain": [
              "<Figure size 800x600 with 1 Axes>"
            ],
            "image/png": "[encoded data removed]"
          },
          "metadata": {}
        }
      ]
    },
    {
      "cell_type": "code",
      "source": [
        "\n",
        "\n"
      ],
      "metadata": {
        "id": "ZpThqHQ0gADt"
      },
      "execution_count": null,
      "outputs": []
    },
    {
      "cell_type": "code",
      "source": [],
      "metadata": {
        "id": "w3K_U8CXgAAq"
      },
      "execution_count": null,
      "outputs": []
    },
    {
      "cell_type": "code",
      "source": [],
      "metadata": {
        "id": "OQlzsxBSf_9c"
      },
      "execution_count": null,
      "outputs": []
    }
  ]
}