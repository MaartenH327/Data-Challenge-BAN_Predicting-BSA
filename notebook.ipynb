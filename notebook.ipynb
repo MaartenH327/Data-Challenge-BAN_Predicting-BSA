{
 "cells": [
  {
   "cell_type": "code",
   "execution_count": 14,
   "metadata": {},
   "outputs": [],
   "source": [
    "import pandas as pd # type: ignore\n",
    "import statsmodels.api as sm\n",
    "from sklearn.model_selection import train_test_split\n",
    "from sklearn.linear_model import LinearRegression\n",
    "from sklearn.metrics import mean_squared_error\n",
    "from sklearn.ensemble import RandomForestRegressor"
   ]
  },
  {
   "cell_type": "code",
   "execution_count": 7,
   "metadata": {},
   "outputs": [
    {
     "name": "stdout",
     "output_type": "stream",
     "text": [
      "Index(['train', 'Gender', 'Nationality', 'PreEducation', 'Program', 'Year',\n",
      "       'BSA', 'Credits-Y1', 'Course3-1', 'Course9-1', 'Course8-1', 'Course7-1',\n",
      "       'Course3-R', 'Course9-R', 'Crd-B1B2', 'Course23', 'Course26', 'Course3',\n",
      "       'Course16', 'Course8', 'Course9', 'Course22', 'Course7', 'Course25',\n",
      "       'Course24', 'Course23-R', 'Course26-R', 'Course16-R', 'Course8-R',\n",
      "       'Course22-R', 'Course7-R', 'Course25-R', 'Course24-R'],\n",
      "      dtype='object')\n"
     ]
    }
   ],
   "source": [
    "def get_df(file_path, sheet_name):\n",
    "    return pd.read_excel(file_path, sheet_name)\n",
    "\n",
    "program1_train_df = get_df(\"BSA-dataset_2122_2223-Train_stud_a.xlsx\", \"Program1\")\n",
    "program2_train_df = get_df(\"BSA-DataSet_2122_2223-TrainingData.xlsx\", \"Program2\")\n",
    "program3_train_df = get_df(\"BSA-DataSet_2122_2223-TrainingData.xlsx\", \"Program3\")\n",
    "program4_train_df = get_df(\"BSA-DataSet_2122_2223-TrainingData.xlsx\", \"Program4\")\n",
    "\n",
    "program1_test_df = get_df(\"BSA-DataSet_2122_2223-TestData.xlsx\", \"Program1\")\n",
    "program2_test_df = get_df(\"BSA-DataSet_2122_2223-TestData.xlsx\", \"Program2\")\n",
    "program3_test_df = get_df(\"BSA-DataSet_2122_2223-TestData.xlsx\", \"Program3\")\n",
    "program4_test_df = get_df(\"BSA-DataSet_2122_2223-TestData.xlsx\", \"Program4\")\n",
    "\n",
    "print(program1_train_df.columns)"
   ]
  },
  {
   "cell_type": "code",
   "execution_count": 23,
   "metadata": {},
   "outputs": [],
   "source": [
    "# Function to perform the analysis\n",
    "def program_analysis(train_df, test_df, program_name):\n",
    "    # Create dummies\n",
    "    train_df = pd.get_dummies(train_df, columns=['Gender', 'Nationality', 'PreEducation','Year'], dtype=int)\n",
    "    test_df = pd.get_dummies(test_df, columns=['Gender', 'Nationality', 'PreEducation','Year'], dtype=int)\n",
    "\n",
    "    # Exclude the unnecessary columns\n",
    "    train_df = train_df.drop(columns=['train'])\n",
    "    test_df = test_df.drop(columns=['train'])\n",
    "    \n",
    "    # Identify numeric columns only\n",
    "    numeric_cols = train_df.select_dtypes(include=[float, int, str]).columns.tolist()\n",
    "\n",
    "    # Prepare the data\n",
    "    X_train = train_df[numeric_cols].drop(columns=['Credits-Y1'])\n",
    "    y_train = train_df['Credits-Y1']\n",
    "    X_test = test_df[numeric_cols].drop(columns=['Credits-Y1'])\n",
    "    y_test = test_df['Credits-Y1']\n",
    "\n",
    "    # Correlation Analysis\n",
    "    corr_matrix = train_df[numeric_cols].corr()\n",
    "    corr_with_credits = corr_matrix[\"Credits-Y1\"].sort_values(ascending=False)\n",
    "    print(f\"Correlation with Credits-Y1 ({program_name} Training Data):\")\n",
    "    print(corr_with_credits)\n",
    "\n",
    "    # Regression Analysis with statsmodels\n",
    "    X_train_sm = sm.add_constant(X_train)\n",
    "    model_sm = sm.OLS(y_train, X_train_sm).fit()\n",
    "    print(f\"\\nRegression Analysis ({program_name} statsmodels):\")\n",
    "    print(model_sm.summary())\n",
    "\n",
    "    # Regression Analysis with scikit-learn\n",
    "    model_lr = LinearRegression()\n",
    "    model_lr.fit(X_train, y_train)\n",
    "    y_pred = model_lr.predict(X_test)\n",
    "    mse = mean_squared_error(y_test, y_pred)\n",
    "    coef = pd.Series(model_lr.coef_, index=X_train.columns)\n",
    "    print(f'\\nMean Squared Error ({program_name} scikit-learn): {mse}')\n",
    "    print(f\"Regression Coefficients ({program_name} scikit-learn):\")\n",
    "    print(coef.sort_values(ascending=False))\n",
    "\n",
    "    # Feature Importance with Random Forest\n",
    "    model_rf = RandomForestRegressor(random_state=42)\n",
    "    model_rf.fit(X_train, y_train)\n",
    "    importances = model_rf.feature_importances_\n",
    "    feature_importances = pd.Series(importances, index=X_train.columns)\n",
    "    print(f\"\\nFeature Importances ({program_name} Random Forest):\")\n",
    "    print(feature_importances.sort_values(ascending=False))"
   ]
  },
  {
   "cell_type": "code",
   "execution_count": 24,
   "metadata": {},
   "outputs": [
    {
     "ename": "TypeError",
     "evalue": "string dtypes are not allowed, use 'object' instead",
     "output_type": "error",
     "traceback": [
      "\u001b[1;31m---------------------------------------------------------------------------\u001b[0m",
      "\u001b[1;31mTypeError\u001b[0m                                 Traceback (most recent call last)",
      "Cell \u001b[1;32mIn[24], line 9\u001b[0m\n\u001b[0;32m      1\u001b[0m programs \u001b[38;5;241m=\u001b[39m [\n\u001b[0;32m      2\u001b[0m     (\u001b[38;5;124m\"\u001b[39m\u001b[38;5;124mProgram 1\u001b[39m\u001b[38;5;124m\"\u001b[39m, program1_train_df, program1_test_df),\n\u001b[0;32m      3\u001b[0m     (\u001b[38;5;124m\"\u001b[39m\u001b[38;5;124mProgram 2\u001b[39m\u001b[38;5;124m\"\u001b[39m, program2_train_df, program2_test_df),\n\u001b[0;32m      4\u001b[0m     (\u001b[38;5;124m\"\u001b[39m\u001b[38;5;124mProgram 3\u001b[39m\u001b[38;5;124m\"\u001b[39m, program3_train_df, program3_test_df),\n\u001b[0;32m      5\u001b[0m     (\u001b[38;5;124m\"\u001b[39m\u001b[38;5;124mProgram 4\u001b[39m\u001b[38;5;124m\"\u001b[39m, program4_train_df, program4_test_df)\n\u001b[0;32m      6\u001b[0m ]\n\u001b[0;32m      8\u001b[0m \u001b[38;5;28;01mfor\u001b[39;00m program_name, train_df, test_df \u001b[38;5;129;01min\u001b[39;00m programs:\n\u001b[1;32m----> 9\u001b[0m     \u001b[43mprogram_analysis\u001b[49m\u001b[43m(\u001b[49m\u001b[43mtrain_df\u001b[49m\u001b[43m,\u001b[49m\u001b[43m \u001b[49m\u001b[43mtest_df\u001b[49m\u001b[43m,\u001b[49m\u001b[43m \u001b[49m\u001b[43mprogram_name\u001b[49m\u001b[43m)\u001b[49m\n",
      "Cell \u001b[1;32mIn[23], line 12\u001b[0m, in \u001b[0;36mprogram_analysis\u001b[1;34m(train_df, test_df, program_name)\u001b[0m\n\u001b[0;32m      9\u001b[0m test_df \u001b[38;5;241m=\u001b[39m test_df\u001b[38;5;241m.\u001b[39mdrop(columns\u001b[38;5;241m=\u001b[39m[\u001b[38;5;124m'\u001b[39m\u001b[38;5;124mtrain\u001b[39m\u001b[38;5;124m'\u001b[39m])\n\u001b[0;32m     11\u001b[0m \u001b[38;5;66;03m# Identify numeric columns only\u001b[39;00m\n\u001b[1;32m---> 12\u001b[0m numeric_cols \u001b[38;5;241m=\u001b[39m \u001b[43mtrain_df\u001b[49m\u001b[38;5;241;43m.\u001b[39;49m\u001b[43mselect_dtypes\u001b[49m\u001b[43m(\u001b[49m\u001b[43minclude\u001b[49m\u001b[38;5;241;43m=\u001b[39;49m\u001b[43m[\u001b[49m\u001b[38;5;28;43mfloat\u001b[39;49m\u001b[43m,\u001b[49m\u001b[43m \u001b[49m\u001b[38;5;28;43mint\u001b[39;49m\u001b[43m,\u001b[49m\u001b[43m \u001b[49m\u001b[38;5;28;43mstr\u001b[39;49m\u001b[43m]\u001b[49m\u001b[43m)\u001b[49m\u001b[38;5;241m.\u001b[39mcolumns\u001b[38;5;241m.\u001b[39mtolist()\n\u001b[0;32m     14\u001b[0m \u001b[38;5;66;03m# Prepare the data\u001b[39;00m\n\u001b[0;32m     15\u001b[0m X_train \u001b[38;5;241m=\u001b[39m train_df[numeric_cols]\u001b[38;5;241m.\u001b[39mdrop(columns\u001b[38;5;241m=\u001b[39m[\u001b[38;5;124m'\u001b[39m\u001b[38;5;124mCredits-Y1\u001b[39m\u001b[38;5;124m'\u001b[39m])\n",
      "File \u001b[1;32m~\\AppData\\Roaming\\Python\\Python312\\site-packages\\pandas\\core\\frame.py:5064\u001b[0m, in \u001b[0;36mDataFrame.select_dtypes\u001b[1;34m(self, include, exclude)\u001b[0m\n\u001b[0;32m   5061\u001b[0m exclude \u001b[38;5;241m=\u001b[39m check_int_infer_dtype(exclude)\n\u001b[0;32m   5063\u001b[0m \u001b[38;5;28;01mfor\u001b[39;00m dtypes \u001b[38;5;129;01min\u001b[39;00m (include, exclude):\n\u001b[1;32m-> 5064\u001b[0m     \u001b[43minvalidate_string_dtypes\u001b[49m\u001b[43m(\u001b[49m\u001b[43mdtypes\u001b[49m\u001b[43m)\u001b[49m\n\u001b[0;32m   5066\u001b[0m \u001b[38;5;66;03m# can't both include AND exclude!\u001b[39;00m\n\u001b[0;32m   5067\u001b[0m \u001b[38;5;28;01mif\u001b[39;00m \u001b[38;5;129;01mnot\u001b[39;00m include\u001b[38;5;241m.\u001b[39misdisjoint(exclude):\n",
      "File \u001b[1;32m~\\AppData\\Roaming\\Python\\Python312\\site-packages\\pandas\\core\\dtypes\\cast.py:970\u001b[0m, in \u001b[0;36minvalidate_string_dtypes\u001b[1;34m(dtype_set)\u001b[0m\n\u001b[0;32m    965\u001b[0m non_string_dtypes \u001b[38;5;241m=\u001b[39m dtype_set \u001b[38;5;241m-\u001b[39m {\n\u001b[0;32m    966\u001b[0m     np\u001b[38;5;241m.\u001b[39mdtype(\u001b[38;5;124m\"\u001b[39m\u001b[38;5;124mS\u001b[39m\u001b[38;5;124m\"\u001b[39m)\u001b[38;5;241m.\u001b[39mtype,  \u001b[38;5;66;03m# type: ignore[arg-type]\u001b[39;00m\n\u001b[0;32m    967\u001b[0m     np\u001b[38;5;241m.\u001b[39mdtype(\u001b[38;5;124m\"\u001b[39m\u001b[38;5;124m<U\u001b[39m\u001b[38;5;124m\"\u001b[39m)\u001b[38;5;241m.\u001b[39mtype,  \u001b[38;5;66;03m# type: ignore[arg-type]\u001b[39;00m\n\u001b[0;32m    968\u001b[0m }\n\u001b[0;32m    969\u001b[0m \u001b[38;5;28;01mif\u001b[39;00m non_string_dtypes \u001b[38;5;241m!=\u001b[39m dtype_set:\n\u001b[1;32m--> 970\u001b[0m     \u001b[38;5;28;01mraise\u001b[39;00m \u001b[38;5;167;01mTypeError\u001b[39;00m(\u001b[38;5;124m\"\u001b[39m\u001b[38;5;124mstring dtypes are not allowed, use \u001b[39m\u001b[38;5;124m'\u001b[39m\u001b[38;5;124mobject\u001b[39m\u001b[38;5;124m'\u001b[39m\u001b[38;5;124m instead\u001b[39m\u001b[38;5;124m\"\u001b[39m)\n",
      "\u001b[1;31mTypeError\u001b[0m: string dtypes are not allowed, use 'object' instead"
     ]
    }
   ],
   "source": [
    "programs = [\n",
    "    (\"Program 1\", program1_train_df, program1_test_df),\n",
    "    (\"Program 2\", program2_train_df, program2_test_df),\n",
    "    (\"Program 3\", program3_train_df, program3_test_df),\n",
    "    (\"Program 4\", program4_train_df, program4_test_df)\n",
    "]\n",
    "\n",
    "for program_name, train_df, test_df in programs:\n",
    "    program_analysis(train_df, test_df, program_name)"
   ]
  }
 ],
 "metadata": {
  "kernelspec": {
   "display_name": "Python 3",
   "language": "python",
   "name": "python3"
  },
  "language_info": {
   "codemirror_mode": {
    "name": "ipython",
    "version": 3
   },
   "file_extension": ".py",
   "mimetype": "text/x-python",
   "name": "python",
   "nbconvert_exporter": "python",
   "pygments_lexer": "ipython3",
   "version": "3.12.3"
  }
 },
 "nbformat": 4,
 "nbformat_minor": 2
}
