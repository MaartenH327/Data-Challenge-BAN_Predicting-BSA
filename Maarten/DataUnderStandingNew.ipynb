{
 "cells": [
  {
   "cell_type": "code",
   "execution_count": 3,
   "metadata": {},
   "outputs": [],
   "source": [
    "import pandas as pd\n",
    "import numpy as np\n",
    "import matplotlib.pyplot as plt\n"
   ]
  },
  {
   "cell_type": "code",
   "execution_count": 15,
   "metadata": {},
   "outputs": [],
   "source": [
    "df_programs = []\n",
    "\n",
    "for i in range(4):\n",
    "    #Train data\n",
    "    df = pd.read_excel('BSA-dataset_2122_2223-Train_stud_a.xlsx', sheet_name=i)\n",
    "    df1 = df[df[\"Year\"] == \"21/22\"]\n",
    "    df2 =df[df[\"Year\"] == \"22/23\"]\n",
    "\n",
    "    df1_val = df1.sample(frac=0.3, random_state=25)\n",
    "    df1_train = df1.drop(df1_val.index)\n",
    "\n",
    "    df1_val[\"Origin\"] = \"test\"\n",
    "    df1_train[\"Origin\"] = \"train\"\n",
    "\n",
    "    df1_final = pd.concat([df1_val,df1_train])\n",
    "\n",
    "\n",
    "\n",
    "    df2_val = df2.sample(frac=0.3, random_state=25)\n",
    "    df2_train = df2.drop(df2_val.index)\n",
    "\n",
    "    df2_val[\"Origin\"] = \"test\"\n",
    "    df2_train[\"Origin\"] = \"train\"\n",
    "\n",
    "\n",
    "    df2_final = pd.concat([df1_final,df2_train]) \n",
    "\n",
    "\n",
    "    df_final = pd.concat([df2_val,df2_final]) \n",
    "    df_programs.append(df_final)\n"
   ]
  },
  {
   "cell_type": "code",
   "execution_count": 46,
   "metadata": {},
   "outputs": [
    {
     "data": {
      "text/plain": [
       "Index(['train', 'Gender', 'Nationality', 'PreEducation', 'Program', 'Year',\n",
       "       'BSA', 'Credits-Y1', 'Crd-B1B2', 'Origin'],\n",
       "      dtype='object')"
      ]
     },
     "execution_count": 46,
     "metadata": {},
     "output_type": "execute_result"
    }
   ],
   "source": [
    "df = pd.concat(df_programs,ignore_index=True)\n",
    "columns_to_drop = [col for col in df.columns if col.startswith(\"Co\")]\n",
    "df = df.drop(columns=columns_to_drop)\n",
    "df.columns"
   ]
  },
  {
   "cell_type": "code",
   "execution_count": 35,
   "metadata": {},
   "outputs": [],
   "source": [
    "# Define possible values for each column\n",
    "programs = ['Program1', 'Program2', 'Program3', 'Program4']\n",
    "years = ['21/22', '22/23']\n",
    "pre_educations = ['VWO', 'HBO', 'Buitenlands']\n",
    "bsa_categories = ['STGA', 'NE', 'PS', 'DI']\n",
    "credits_y1_values = np.arange(0, 61, 6)\n",
    "credits_b1b2_values = np.arange(0, 25, 6)\n",
    "\n",
    "# Generate random data\n",
    "num_rows = 2000  # Specify the number of rows you want\n",
    "data = {\n",
    "    'train': np.random.choice(['Yes', 'No'], size=num_rows),\n",
    "    'Gender': np.random.choice(['Male', 'Female'], size=num_rows),\n",
    "    'Nationality': np.random.choice(['Dutch', 'Foreign'], size=num_rows),\n",
    "    'PreEducation': np.random.choice(pre_educations, size=num_rows),\n",
    "    'Program': np.random.choice(programs, size=num_rows),\n",
    "    'Year': np.random.choice(years, size=num_rows),\n",
    "    'BSA': np.random.choice(bsa_categories, size=num_rows),\n",
    "    'Credits-Y1': np.random.choice(credits_y1_values, size=num_rows),\n",
    "    'Crd-B1B2': np.random.choice(credits_b1b2_values, size=num_rows)\n",
    "}\n",
    "\n",
    "# Create DataFrame\n",
    "df = pd.DataFrame(data)"
   ]
  },
  {
   "cell_type": "code",
   "execution_count": 36,
   "metadata": {},
   "outputs": [
    {
     "data": {
      "text/html": [
       "<div>\n",
       "<style scoped>\n",
       "    .dataframe tbody tr th:only-of-type {\n",
       "        vertical-align: middle;\n",
       "    }\n",
       "\n",
       "    .dataframe tbody tr th {\n",
       "        vertical-align: top;\n",
       "    }\n",
       "\n",
       "    .dataframe thead th {\n",
       "        text-align: right;\n",
       "    }\n",
       "</style>\n",
       "<table border=\"1\" class=\"dataframe\">\n",
       "  <thead>\n",
       "    <tr style=\"text-align: right;\">\n",
       "      <th></th>\n",
       "      <th>train</th>\n",
       "      <th>Gender</th>\n",
       "      <th>Nationality</th>\n",
       "      <th>PreEducation</th>\n",
       "      <th>Program</th>\n",
       "      <th>Year</th>\n",
       "      <th>BSA</th>\n",
       "      <th>Credits-Y1</th>\n",
       "      <th>Crd-B1B2</th>\n",
       "    </tr>\n",
       "  </thead>\n",
       "  <tbody>\n",
       "    <tr>\n",
       "      <th>0</th>\n",
       "      <td>Yes</td>\n",
       "      <td>Male</td>\n",
       "      <td>Dutch</td>\n",
       "      <td>VWO</td>\n",
       "      <td>Program1</td>\n",
       "      <td>21/22</td>\n",
       "      <td>NE</td>\n",
       "      <td>42</td>\n",
       "      <td>6</td>\n",
       "    </tr>\n",
       "    <tr>\n",
       "      <th>1</th>\n",
       "      <td>Yes</td>\n",
       "      <td>Female</td>\n",
       "      <td>Foreign</td>\n",
       "      <td>HBO</td>\n",
       "      <td>Program2</td>\n",
       "      <td>21/22</td>\n",
       "      <td>NE</td>\n",
       "      <td>30</td>\n",
       "      <td>6</td>\n",
       "    </tr>\n",
       "    <tr>\n",
       "      <th>2</th>\n",
       "      <td>Yes</td>\n",
       "      <td>Male</td>\n",
       "      <td>Foreign</td>\n",
       "      <td>VWO</td>\n",
       "      <td>Program4</td>\n",
       "      <td>22/23</td>\n",
       "      <td>NE</td>\n",
       "      <td>6</td>\n",
       "      <td>24</td>\n",
       "    </tr>\n",
       "    <tr>\n",
       "      <th>3</th>\n",
       "      <td>No</td>\n",
       "      <td>Female</td>\n",
       "      <td>Dutch</td>\n",
       "      <td>HBO</td>\n",
       "      <td>Program1</td>\n",
       "      <td>22/23</td>\n",
       "      <td>PS</td>\n",
       "      <td>0</td>\n",
       "      <td>6</td>\n",
       "    </tr>\n",
       "    <tr>\n",
       "      <th>4</th>\n",
       "      <td>No</td>\n",
       "      <td>Female</td>\n",
       "      <td>Dutch</td>\n",
       "      <td>HBO</td>\n",
       "      <td>Program4</td>\n",
       "      <td>21/22</td>\n",
       "      <td>STGA</td>\n",
       "      <td>12</td>\n",
       "      <td>12</td>\n",
       "    </tr>\n",
       "    <tr>\n",
       "      <th>...</th>\n",
       "      <td>...</td>\n",
       "      <td>...</td>\n",
       "      <td>...</td>\n",
       "      <td>...</td>\n",
       "      <td>...</td>\n",
       "      <td>...</td>\n",
       "      <td>...</td>\n",
       "      <td>...</td>\n",
       "      <td>...</td>\n",
       "    </tr>\n",
       "    <tr>\n",
       "      <th>1995</th>\n",
       "      <td>Yes</td>\n",
       "      <td>Male</td>\n",
       "      <td>Dutch</td>\n",
       "      <td>Buitenlands</td>\n",
       "      <td>Program1</td>\n",
       "      <td>21/22</td>\n",
       "      <td>PS</td>\n",
       "      <td>60</td>\n",
       "      <td>18</td>\n",
       "    </tr>\n",
       "    <tr>\n",
       "      <th>1996</th>\n",
       "      <td>No</td>\n",
       "      <td>Female</td>\n",
       "      <td>Foreign</td>\n",
       "      <td>Buitenlands</td>\n",
       "      <td>Program1</td>\n",
       "      <td>21/22</td>\n",
       "      <td>NE</td>\n",
       "      <td>42</td>\n",
       "      <td>24</td>\n",
       "    </tr>\n",
       "    <tr>\n",
       "      <th>1997</th>\n",
       "      <td>Yes</td>\n",
       "      <td>Male</td>\n",
       "      <td>Foreign</td>\n",
       "      <td>HBO</td>\n",
       "      <td>Program4</td>\n",
       "      <td>22/23</td>\n",
       "      <td>DI</td>\n",
       "      <td>42</td>\n",
       "      <td>12</td>\n",
       "    </tr>\n",
       "    <tr>\n",
       "      <th>1998</th>\n",
       "      <td>No</td>\n",
       "      <td>Male</td>\n",
       "      <td>Foreign</td>\n",
       "      <td>VWO</td>\n",
       "      <td>Program1</td>\n",
       "      <td>22/23</td>\n",
       "      <td>STGA</td>\n",
       "      <td>0</td>\n",
       "      <td>24</td>\n",
       "    </tr>\n",
       "    <tr>\n",
       "      <th>1999</th>\n",
       "      <td>Yes</td>\n",
       "      <td>Female</td>\n",
       "      <td>Dutch</td>\n",
       "      <td>HBO</td>\n",
       "      <td>Program1</td>\n",
       "      <td>21/22</td>\n",
       "      <td>NE</td>\n",
       "      <td>6</td>\n",
       "      <td>24</td>\n",
       "    </tr>\n",
       "  </tbody>\n",
       "</table>\n",
       "<p>2000 rows × 9 columns</p>\n",
       "</div>"
      ],
      "text/plain": [
       "     train  Gender Nationality PreEducation   Program   Year   BSA  \\\n",
       "0      Yes    Male       Dutch          VWO  Program1  21/22    NE   \n",
       "1      Yes  Female     Foreign          HBO  Program2  21/22    NE   \n",
       "2      Yes    Male     Foreign          VWO  Program4  22/23    NE   \n",
       "3       No  Female       Dutch          HBO  Program1  22/23    PS   \n",
       "4       No  Female       Dutch          HBO  Program4  21/22  STGA   \n",
       "...    ...     ...         ...          ...       ...    ...   ...   \n",
       "1995   Yes    Male       Dutch  Buitenlands  Program1  21/22    PS   \n",
       "1996    No  Female     Foreign  Buitenlands  Program1  21/22    NE   \n",
       "1997   Yes    Male     Foreign          HBO  Program4  22/23    DI   \n",
       "1998    No    Male     Foreign          VWO  Program1  22/23  STGA   \n",
       "1999   Yes  Female       Dutch          HBO  Program1  21/22    NE   \n",
       "\n",
       "      Credits-Y1  Crd-B1B2  \n",
       "0             42         6  \n",
       "1             30         6  \n",
       "2              6        24  \n",
       "3              0         6  \n",
       "4             12        12  \n",
       "...          ...       ...  \n",
       "1995          60        18  \n",
       "1996          42        24  \n",
       "1997          42        12  \n",
       "1998           0        24  \n",
       "1999           6        24  \n",
       "\n",
       "[2000 rows x 9 columns]"
      ]
     },
     "execution_count": 36,
     "metadata": {},
     "output_type": "execute_result"
    }
   ],
   "source": [
    "df"
   ]
  },
  {
   "cell_type": "code",
   "execution_count": 65,
   "metadata": {},
   "outputs": [],
   "source": [
    "import plotly.express as px\n",
    "import plotly.graph_objs as go\n",
    "from plotly.subplots import make_subplots"
   ]
  },
  {
   "cell_type": "code",
   "execution_count": 72,
   "metadata": {},
   "outputs": [
    {
     "data": {
      "application/vnd.plotly.v1+json": {
       "config": {
        "plotlyServerURL": "https://plot.ly"
       },
       "data": [
        {
         "alignmentgroup": "True",
         "hovertemplate": "BSA=STGA<br>Program=Program1<br>Year=%{x}<br>Count=%{y}<extra></extra>",
         "legendgroup": "STGA",
         "marker": {
          "color": "#4d4d4d",
          "pattern": {
           "shape": ""
          }
         },
         "name": "STGA",
         "offsetgroup": "STGA",
         "orientation": "v",
         "showlegend": true,
         "textposition": "auto",
         "type": "bar",
         "x": [
          "21/22",
          "22/23"
         ],
         "xaxis": "x3",
         "y": [
          66,
          58
         ],
         "yaxis": "y3"
        },
        {
         "alignmentgroup": "True",
         "hovertemplate": "BSA=STGA<br>Program=Program2<br>Year=%{x}<br>Count=%{y}<extra></extra>",
         "legendgroup": "STGA",
         "marker": {
          "color": "#4d4d4d",
          "pattern": {
           "shape": ""
          }
         },
         "name": "STGA",
         "offsetgroup": "STGA",
         "orientation": "v",
         "showlegend": false,
         "textposition": "auto",
         "type": "bar",
         "x": [
          "21/22",
          "22/23"
         ],
         "xaxis": "x4",
         "y": [
          70,
          52
         ],
         "yaxis": "y4"
        },
        {
         "alignmentgroup": "True",
         "hovertemplate": "BSA=STGA<br>Program=Program3<br>Year=%{x}<br>Count=%{y}<extra></extra>",
         "legendgroup": "STGA",
         "marker": {
          "color": "#4d4d4d",
          "pattern": {
           "shape": ""
          }
         },
         "name": "STGA",
         "offsetgroup": "STGA",
         "orientation": "v",
         "showlegend": false,
         "textposition": "auto",
         "type": "bar",
         "x": [
          "21/22",
          "22/23"
         ],
         "xaxis": "x",
         "y": [
          81,
          66
         ],
         "yaxis": "y"
        },
        {
         "alignmentgroup": "True",
         "hovertemplate": "BSA=STGA<br>Program=Program4<br>Year=%{x}<br>Count=%{y}<extra></extra>",
         "legendgroup": "STGA",
         "marker": {
          "color": "#4d4d4d",
          "pattern": {
           "shape": ""
          }
         },
         "name": "STGA",
         "offsetgroup": "STGA",
         "orientation": "v",
         "showlegend": false,
         "textposition": "auto",
         "type": "bar",
         "x": [
          "21/22",
          "22/23"
         ],
         "xaxis": "x2",
         "y": [
          39,
          74
         ],
         "yaxis": "y2"
        },
        {
         "alignmentgroup": "True",
         "hovertemplate": "BSA=NE<br>Program=Program1<br>Year=%{x}<br>Count=%{y}<extra></extra>",
         "legendgroup": "NE",
         "marker": {
          "color": "#b30000",
          "pattern": {
           "shape": ""
          }
         },
         "name": "NE",
         "offsetgroup": "NE",
         "orientation": "v",
         "showlegend": true,
         "textposition": "auto",
         "type": "bar",
         "x": [
          "21/22",
          "22/23"
         ],
         "xaxis": "x3",
         "y": [
          72,
          54
         ],
         "yaxis": "y3"
        },
        {
         "alignmentgroup": "True",
         "hovertemplate": "BSA=NE<br>Program=Program2<br>Year=%{x}<br>Count=%{y}<extra></extra>",
         "legendgroup": "NE",
         "marker": {
          "color": "#b30000",
          "pattern": {
           "shape": ""
          }
         },
         "name": "NE",
         "offsetgroup": "NE",
         "orientation": "v",
         "showlegend": false,
         "textposition": "auto",
         "type": "bar",
         "x": [
          "21/22",
          "22/23"
         ],
         "xaxis": "x4",
         "y": [
          78,
          61
         ],
         "yaxis": "y4"
        },
        {
         "alignmentgroup": "True",
         "hovertemplate": "BSA=NE<br>Program=Program3<br>Year=%{x}<br>Count=%{y}<extra></extra>",
         "legendgroup": "NE",
         "marker": {
          "color": "#b30000",
          "pattern": {
           "shape": ""
          }
         },
         "name": "NE",
         "offsetgroup": "NE",
         "orientation": "v",
         "showlegend": false,
         "textposition": "auto",
         "type": "bar",
         "x": [
          "21/22",
          "22/23"
         ],
         "xaxis": "x",
         "y": [
          56,
          64
         ],
         "yaxis": "y"
        },
        {
         "alignmentgroup": "True",
         "hovertemplate": "BSA=NE<br>Program=Program4<br>Year=%{x}<br>Count=%{y}<extra></extra>",
         "legendgroup": "NE",
         "marker": {
          "color": "#b30000",
          "pattern": {
           "shape": ""
          }
         },
         "name": "NE",
         "offsetgroup": "NE",
         "orientation": "v",
         "showlegend": false,
         "textposition": "auto",
         "type": "bar",
         "x": [
          "21/22",
          "22/23"
         ],
         "xaxis": "x2",
         "y": [
          59,
          54
         ],
         "yaxis": "y2"
        },
        {
         "alignmentgroup": "True",
         "hovertemplate": "BSA=PS<br>Program=Program1<br>Year=%{x}<br>Count=%{y}<extra></extra>",
         "legendgroup": "PS",
         "marker": {
          "color": "#258e25",
          "pattern": {
           "shape": ""
          }
         },
         "name": "PS",
         "offsetgroup": "PS",
         "orientation": "v",
         "showlegend": true,
         "textposition": "auto",
         "type": "bar",
         "x": [
          "21/22",
          "22/23"
         ],
         "xaxis": "x3",
         "y": [
          57,
          72
         ],
         "yaxis": "y3"
        },
        {
         "alignmentgroup": "True",
         "hovertemplate": "BSA=PS<br>Program=Program2<br>Year=%{x}<br>Count=%{y}<extra></extra>",
         "legendgroup": "PS",
         "marker": {
          "color": "#258e25",
          "pattern": {
           "shape": ""
          }
         },
         "name": "PS",
         "offsetgroup": "PS",
         "orientation": "v",
         "showlegend": false,
         "textposition": "auto",
         "type": "bar",
         "x": [
          "21/22",
          "22/23"
         ],
         "xaxis": "x4",
         "y": [
          61,
          64
         ],
         "yaxis": "y4"
        },
        {
         "alignmentgroup": "True",
         "hovertemplate": "BSA=PS<br>Program=Program3<br>Year=%{x}<br>Count=%{y}<extra></extra>",
         "legendgroup": "PS",
         "marker": {
          "color": "#258e25",
          "pattern": {
           "shape": ""
          }
         },
         "name": "PS",
         "offsetgroup": "PS",
         "orientation": "v",
         "showlegend": false,
         "textposition": "auto",
         "type": "bar",
         "x": [
          "21/22",
          "22/23"
         ],
         "xaxis": "x",
         "y": [
          48,
          75
         ],
         "yaxis": "y"
        },
        {
         "alignmentgroup": "True",
         "hovertemplate": "BSA=PS<br>Program=Program4<br>Year=%{x}<br>Count=%{y}<extra></extra>",
         "legendgroup": "PS",
         "marker": {
          "color": "#258e25",
          "pattern": {
           "shape": ""
          }
         },
         "name": "PS",
         "offsetgroup": "PS",
         "orientation": "v",
         "showlegend": false,
         "textposition": "auto",
         "type": "bar",
         "x": [
          "21/22",
          "22/23"
         ],
         "xaxis": "x2",
         "y": [
          70,
          60
         ],
         "yaxis": "y2"
        },
        {
         "alignmentgroup": "True",
         "hovertemplate": "BSA=DI<br>Program=Program1<br>Year=%{x}<br>Count=%{y}<extra></extra>",
         "legendgroup": "DI",
         "marker": {
          "color": "lightblue",
          "pattern": {
           "shape": ""
          }
         },
         "name": "DI",
         "offsetgroup": "DI",
         "orientation": "v",
         "showlegend": true,
         "textposition": "auto",
         "type": "bar",
         "x": [
          "21/22",
          "22/23"
         ],
         "xaxis": "x3",
         "y": [
          60,
          60
         ],
         "yaxis": "y3"
        },
        {
         "alignmentgroup": "True",
         "hovertemplate": "BSA=DI<br>Program=Program2<br>Year=%{x}<br>Count=%{y}<extra></extra>",
         "legendgroup": "DI",
         "marker": {
          "color": "lightblue",
          "pattern": {
           "shape": ""
          }
         },
         "name": "DI",
         "offsetgroup": "DI",
         "orientation": "v",
         "showlegend": false,
         "textposition": "auto",
         "type": "bar",
         "x": [
          "21/22",
          "22/23"
         ],
         "xaxis": "x4",
         "y": [
          69,
          72
         ],
         "yaxis": "y4"
        },
        {
         "alignmentgroup": "True",
         "hovertemplate": "BSA=DI<br>Program=Program3<br>Year=%{x}<br>Count=%{y}<extra></extra>",
         "legendgroup": "DI",
         "marker": {
          "color": "lightblue",
          "pattern": {
           "shape": ""
          }
         },
         "name": "DI",
         "offsetgroup": "DI",
         "orientation": "v",
         "showlegend": false,
         "textposition": "auto",
         "type": "bar",
         "x": [
          "21/22",
          "22/23"
         ],
         "xaxis": "x",
         "y": [
          54,
          54
         ],
         "yaxis": "y"
        },
        {
         "alignmentgroup": "True",
         "hovertemplate": "BSA=DI<br>Program=Program4<br>Year=%{x}<br>Count=%{y}<extra></extra>",
         "legendgroup": "DI",
         "marker": {
          "color": "lightblue",
          "pattern": {
           "shape": ""
          }
         },
         "name": "DI",
         "offsetgroup": "DI",
         "orientation": "v",
         "showlegend": false,
         "textposition": "auto",
         "type": "bar",
         "x": [
          "21/22",
          "22/23"
         ],
         "xaxis": "x2",
         "y": [
          55,
          65
         ],
         "yaxis": "y2"
        }
       ],
       "layout": {
        "annotations": [
         {
          "font": {},
          "showarrow": false,
          "text": "Program=Program3",
          "x": 0.245,
          "xanchor": "center",
          "xref": "paper",
          "y": 0.46499999999999997,
          "yanchor": "bottom",
          "yref": "paper"
         },
         {
          "font": {},
          "showarrow": false,
          "text": "Program=Program4",
          "x": 0.755,
          "xanchor": "center",
          "xref": "paper",
          "y": 0.46499999999999997,
          "yanchor": "bottom",
          "yref": "paper"
         },
         {
          "font": {},
          "showarrow": false,
          "text": "Program=Program1",
          "x": 0.245,
          "xanchor": "center",
          "xref": "paper",
          "y": 0.9999999999999999,
          "yanchor": "bottom",
          "yref": "paper"
         },
         {
          "font": {},
          "showarrow": false,
          "text": "Program=Program2",
          "x": 0.755,
          "xanchor": "center",
          "xref": "paper",
          "y": 0.9999999999999999,
          "yanchor": "bottom",
          "yref": "paper"
         }
        ],
        "bargap": 0.2,
        "barmode": "stack",
        "height": 800,
        "legend": {
         "title": {
          "text": "BSA"
         },
         "tracegroupgap": 0
        },
        "template": {
         "data": {
          "bar": [
           {
            "error_x": {
             "color": "#2a3f5f"
            },
            "error_y": {
             "color": "#2a3f5f"
            },
            "marker": {
             "line": {
              "color": "#E5ECF6",
              "width": 0.5
             },
             "pattern": {
              "fillmode": "overlay",
              "size": 10,
              "solidity": 0.2
             }
            },
            "type": "bar"
           }
          ],
          "barpolar": [
           {
            "marker": {
             "line": {
              "color": "#E5ECF6",
              "width": 0.5
             },
             "pattern": {
              "fillmode": "overlay",
              "size": 10,
              "solidity": 0.2
             }
            },
            "type": "barpolar"
           }
          ],
          "carpet": [
           {
            "aaxis": {
             "endlinecolor": "#2a3f5f",
             "gridcolor": "white",
             "linecolor": "white",
             "minorgridcolor": "white",
             "startlinecolor": "#2a3f5f"
            },
            "baxis": {
             "endlinecolor": "#2a3f5f",
             "gridcolor": "white",
             "linecolor": "white",
             "minorgridcolor": "white",
             "startlinecolor": "#2a3f5f"
            },
            "type": "carpet"
           }
          ],
          "choropleth": [
           {
            "colorbar": {
             "outlinewidth": 0,
             "ticks": ""
            },
            "type": "choropleth"
           }
          ],
          "contour": [
           {
            "colorbar": {
             "outlinewidth": 0,
             "ticks": ""
            },
            "colorscale": [
             [
              0,
              "#0d0887"
             ],
             [
              0.1111111111111111,
              "#46039f"
             ],
             [
              0.2222222222222222,
              "#7201a8"
             ],
             [
              0.3333333333333333,
              "#9c179e"
             ],
             [
              0.4444444444444444,
              "#bd3786"
             ],
             [
              0.5555555555555556,
              "#d8576b"
             ],
             [
              0.6666666666666666,
              "#ed7953"
             ],
             [
              0.7777777777777778,
              "#fb9f3a"
             ],
             [
              0.8888888888888888,
              "#fdca26"
             ],
             [
              1,
              "#f0f921"
             ]
            ],
            "type": "contour"
           }
          ],
          "contourcarpet": [
           {
            "colorbar": {
             "outlinewidth": 0,
             "ticks": ""
            },
            "type": "contourcarpet"
           }
          ],
          "heatmap": [
           {
            "colorbar": {
             "outlinewidth": 0,
             "ticks": ""
            },
            "colorscale": [
             [
              0,
              "#0d0887"
             ],
             [
              0.1111111111111111,
              "#46039f"
             ],
             [
              0.2222222222222222,
              "#7201a8"
             ],
             [
              0.3333333333333333,
              "#9c179e"
             ],
             [
              0.4444444444444444,
              "#bd3786"
             ],
             [
              0.5555555555555556,
              "#d8576b"
             ],
             [
              0.6666666666666666,
              "#ed7953"
             ],
             [
              0.7777777777777778,
              "#fb9f3a"
             ],
             [
              0.8888888888888888,
              "#fdca26"
             ],
             [
              1,
              "#f0f921"
             ]
            ],
            "type": "heatmap"
           }
          ],
          "heatmapgl": [
           {
            "colorbar": {
             "outlinewidth": 0,
             "ticks": ""
            },
            "colorscale": [
             [
              0,
              "#0d0887"
             ],
             [
              0.1111111111111111,
              "#46039f"
             ],
             [
              0.2222222222222222,
              "#7201a8"
             ],
             [
              0.3333333333333333,
              "#9c179e"
             ],
             [
              0.4444444444444444,
              "#bd3786"
             ],
             [
              0.5555555555555556,
              "#d8576b"
             ],
             [
              0.6666666666666666,
              "#ed7953"
             ],
             [
              0.7777777777777778,
              "#fb9f3a"
             ],
             [
              0.8888888888888888,
              "#fdca26"
             ],
             [
              1,
              "#f0f921"
             ]
            ],
            "type": "heatmapgl"
           }
          ],
          "histogram": [
           {
            "marker": {
             "pattern": {
              "fillmode": "overlay",
              "size": 10,
              "solidity": 0.2
             }
            },
            "type": "histogram"
           }
          ],
          "histogram2d": [
           {
            "colorbar": {
             "outlinewidth": 0,
             "ticks": ""
            },
            "colorscale": [
             [
              0,
              "#0d0887"
             ],
             [
              0.1111111111111111,
              "#46039f"
             ],
             [
              0.2222222222222222,
              "#7201a8"
             ],
             [
              0.3333333333333333,
              "#9c179e"
             ],
             [
              0.4444444444444444,
              "#bd3786"
             ],
             [
              0.5555555555555556,
              "#d8576b"
             ],
             [
              0.6666666666666666,
              "#ed7953"
             ],
             [
              0.7777777777777778,
              "#fb9f3a"
             ],
             [
              0.8888888888888888,
              "#fdca26"
             ],
             [
              1,
              "#f0f921"
             ]
            ],
            "type": "histogram2d"
           }
          ],
          "histogram2dcontour": [
           {
            "colorbar": {
             "outlinewidth": 0,
             "ticks": ""
            },
            "colorscale": [
             [
              0,
              "#0d0887"
             ],
             [
              0.1111111111111111,
              "#46039f"
             ],
             [
              0.2222222222222222,
              "#7201a8"
             ],
             [
              0.3333333333333333,
              "#9c179e"
             ],
             [
              0.4444444444444444,
              "#bd3786"
             ],
             [
              0.5555555555555556,
              "#d8576b"
             ],
             [
              0.6666666666666666,
              "#ed7953"
             ],
             [
              0.7777777777777778,
              "#fb9f3a"
             ],
             [
              0.8888888888888888,
              "#fdca26"
             ],
             [
              1,
              "#f0f921"
             ]
            ],
            "type": "histogram2dcontour"
           }
          ],
          "mesh3d": [
           {
            "colorbar": {
             "outlinewidth": 0,
             "ticks": ""
            },
            "type": "mesh3d"
           }
          ],
          "parcoords": [
           {
            "line": {
             "colorbar": {
              "outlinewidth": 0,
              "ticks": ""
             }
            },
            "type": "parcoords"
           }
          ],
          "pie": [
           {
            "automargin": true,
            "type": "pie"
           }
          ],
          "scatter": [
           {
            "fillpattern": {
             "fillmode": "overlay",
             "size": 10,
             "solidity": 0.2
            },
            "type": "scatter"
           }
          ],
          "scatter3d": [
           {
            "line": {
             "colorbar": {
              "outlinewidth": 0,
              "ticks": ""
             }
            },
            "marker": {
             "colorbar": {
              "outlinewidth": 0,
              "ticks": ""
             }
            },
            "type": "scatter3d"
           }
          ],
          "scattercarpet": [
           {
            "marker": {
             "colorbar": {
              "outlinewidth": 0,
              "ticks": ""
             }
            },
            "type": "scattercarpet"
           }
          ],
          "scattergeo": [
           {
            "marker": {
             "colorbar": {
              "outlinewidth": 0,
              "ticks": ""
             }
            },
            "type": "scattergeo"
           }
          ],
          "scattergl": [
           {
            "marker": {
             "colorbar": {
              "outlinewidth": 0,
              "ticks": ""
             }
            },
            "type": "scattergl"
           }
          ],
          "scattermapbox": [
           {
            "marker": {
             "colorbar": {
              "outlinewidth": 0,
              "ticks": ""
             }
            },
            "type": "scattermapbox"
           }
          ],
          "scatterpolar": [
           {
            "marker": {
             "colorbar": {
              "outlinewidth": 0,
              "ticks": ""
             }
            },
            "type": "scatterpolar"
           }
          ],
          "scatterpolargl": [
           {
            "marker": {
             "colorbar": {
              "outlinewidth": 0,
              "ticks": ""
             }
            },
            "type": "scatterpolargl"
           }
          ],
          "scatterternary": [
           {
            "marker": {
             "colorbar": {
              "outlinewidth": 0,
              "ticks": ""
             }
            },
            "type": "scatterternary"
           }
          ],
          "surface": [
           {
            "colorbar": {
             "outlinewidth": 0,
             "ticks": ""
            },
            "colorscale": [
             [
              0,
              "#0d0887"
             ],
             [
              0.1111111111111111,
              "#46039f"
             ],
             [
              0.2222222222222222,
              "#7201a8"
             ],
             [
              0.3333333333333333,
              "#9c179e"
             ],
             [
              0.4444444444444444,
              "#bd3786"
             ],
             [
              0.5555555555555556,
              "#d8576b"
             ],
             [
              0.6666666666666666,
              "#ed7953"
             ],
             [
              0.7777777777777778,
              "#fb9f3a"
             ],
             [
              0.8888888888888888,
              "#fdca26"
             ],
             [
              1,
              "#f0f921"
             ]
            ],
            "type": "surface"
           }
          ],
          "table": [
           {
            "cells": {
             "fill": {
              "color": "#EBF0F8"
             },
             "line": {
              "color": "white"
             }
            },
            "header": {
             "fill": {
              "color": "#C8D4E3"
             },
             "line": {
              "color": "white"
             }
            },
            "type": "table"
           }
          ]
         },
         "layout": {
          "annotationdefaults": {
           "arrowcolor": "#2a3f5f",
           "arrowhead": 0,
           "arrowwidth": 1
          },
          "autotypenumbers": "strict",
          "coloraxis": {
           "colorbar": {
            "outlinewidth": 0,
            "ticks": ""
           }
          },
          "colorscale": {
           "diverging": [
            [
             0,
             "#8e0152"
            ],
            [
             0.1,
             "#c51b7d"
            ],
            [
             0.2,
             "#de77ae"
            ],
            [
             0.3,
             "#f1b6da"
            ],
            [
             0.4,
             "#fde0ef"
            ],
            [
             0.5,
             "#f7f7f7"
            ],
            [
             0.6,
             "#e6f5d0"
            ],
            [
             0.7,
             "#b8e186"
            ],
            [
             0.8,
             "#7fbc41"
            ],
            [
             0.9,
             "#4d9221"
            ],
            [
             1,
             "#276419"
            ]
           ],
           "sequential": [
            [
             0,
             "#0d0887"
            ],
            [
             0.1111111111111111,
             "#46039f"
            ],
            [
             0.2222222222222222,
             "#7201a8"
            ],
            [
             0.3333333333333333,
             "#9c179e"
            ],
            [
             0.4444444444444444,
             "#bd3786"
            ],
            [
             0.5555555555555556,
             "#d8576b"
            ],
            [
             0.6666666666666666,
             "#ed7953"
            ],
            [
             0.7777777777777778,
             "#fb9f3a"
            ],
            [
             0.8888888888888888,
             "#fdca26"
            ],
            [
             1,
             "#f0f921"
            ]
           ],
           "sequentialminus": [
            [
             0,
             "#0d0887"
            ],
            [
             0.1111111111111111,
             "#46039f"
            ],
            [
             0.2222222222222222,
             "#7201a8"
            ],
            [
             0.3333333333333333,
             "#9c179e"
            ],
            [
             0.4444444444444444,
             "#bd3786"
            ],
            [
             0.5555555555555556,
             "#d8576b"
            ],
            [
             0.6666666666666666,
             "#ed7953"
            ],
            [
             0.7777777777777778,
             "#fb9f3a"
            ],
            [
             0.8888888888888888,
             "#fdca26"
            ],
            [
             1,
             "#f0f921"
            ]
           ]
          },
          "colorway": [
           "#636efa",
           "#EF553B",
           "#00cc96",
           "#ab63fa",
           "#FFA15A",
           "#19d3f3",
           "#FF6692",
           "#B6E880",
           "#FF97FF",
           "#FECB52"
          ],
          "font": {
           "color": "#2a3f5f"
          },
          "geo": {
           "bgcolor": "white",
           "lakecolor": "white",
           "landcolor": "#E5ECF6",
           "showlakes": true,
           "showland": true,
           "subunitcolor": "white"
          },
          "hoverlabel": {
           "align": "left"
          },
          "hovermode": "closest",
          "mapbox": {
           "style": "light"
          },
          "paper_bgcolor": "white",
          "plot_bgcolor": "#E5ECF6",
          "polar": {
           "angularaxis": {
            "gridcolor": "white",
            "linecolor": "white",
            "ticks": ""
           },
           "bgcolor": "#E5ECF6",
           "radialaxis": {
            "gridcolor": "white",
            "linecolor": "white",
            "ticks": ""
           }
          },
          "scene": {
           "xaxis": {
            "backgroundcolor": "#E5ECF6",
            "gridcolor": "white",
            "gridwidth": 2,
            "linecolor": "white",
            "showbackground": true,
            "ticks": "",
            "zerolinecolor": "white"
           },
           "yaxis": {
            "backgroundcolor": "#E5ECF6",
            "gridcolor": "white",
            "gridwidth": 2,
            "linecolor": "white",
            "showbackground": true,
            "ticks": "",
            "zerolinecolor": "white"
           },
           "zaxis": {
            "backgroundcolor": "#E5ECF6",
            "gridcolor": "white",
            "gridwidth": 2,
            "linecolor": "white",
            "showbackground": true,
            "ticks": "",
            "zerolinecolor": "white"
           }
          },
          "shapedefaults": {
           "line": {
            "color": "#2a3f5f"
           }
          },
          "ternary": {
           "aaxis": {
            "gridcolor": "white",
            "linecolor": "white",
            "ticks": ""
           },
           "baxis": {
            "gridcolor": "white",
            "linecolor": "white",
            "ticks": ""
           },
           "bgcolor": "#E5ECF6",
           "caxis": {
            "gridcolor": "white",
            "linecolor": "white",
            "ticks": ""
           }
          },
          "title": {
           "x": 0.05
          },
          "xaxis": {
           "automargin": true,
           "gridcolor": "white",
           "linecolor": "white",
           "ticks": "",
           "title": {
            "standoff": 15
           },
           "zerolinecolor": "white",
           "zerolinewidth": 2
          },
          "yaxis": {
           "automargin": true,
           "gridcolor": "white",
           "linecolor": "white",
           "ticks": "",
           "title": {
            "standoff": 15
           },
           "zerolinecolor": "white",
           "zerolinewidth": 2
          }
         }
        },
        "title": {
         "text": "Count of Years Layered by BSA and Program"
        },
        "width": 1200,
        "xaxis": {
         "anchor": "y",
         "categoryarray": [
          "21/22",
          "22/23"
         ],
         "categoryorder": "total ascending",
         "domain": [
          0,
          0.49
         ],
         "title": {
          "text": ""
         }
        },
        "xaxis2": {
         "anchor": "y2",
         "categoryarray": [
          "21/22",
          "22/23"
         ],
         "categoryorder": "array",
         "domain": [
          0.51,
          1
         ],
         "matches": "x",
         "title": {
          "text": ""
         }
        },
        "xaxis3": {
         "anchor": "y3",
         "domain": [
          0,
          0.49
         ],
         "matches": "x",
         "showticklabels": false,
         "title": {
          "text": ""
         }
        },
        "xaxis4": {
         "anchor": "y4",
         "domain": [
          0.51,
          1
         ],
         "matches": "x",
         "showticklabels": false,
         "title": {
          "text": ""
         }
        },
        "yaxis": {
         "anchor": "x",
         "domain": [
          0,
          0.46499999999999997
         ],
         "title": {
          "text": "Count"
         }
        },
        "yaxis2": {
         "anchor": "x2",
         "domain": [
          0,
          0.46499999999999997
         ],
         "matches": "y",
         "showticklabels": false,
         "title": {
          "text": "Count"
         }
        },
        "yaxis3": {
         "anchor": "x3",
         "domain": [
          0.5349999999999999,
          0.9999999999999999
         ],
         "matches": "y",
         "title": {
          "text": "Count"
         }
        },
        "yaxis4": {
         "anchor": "x4",
         "domain": [
          0.5349999999999999,
          0.9999999999999999
         ],
         "matches": "y",
         "showticklabels": false,
         "title": {
          "text": "Count"
         }
        }
       }
      }
     },
     "metadata": {},
     "output_type": "display_data"
    }
   ],
   "source": [
    "# Define the order of 'Program' facet columns\n",
    "program_order = ['Program1', 'Program2', 'Program3', 'Program4']\n",
    "bsa_order = ['STGA', 'NE', 'PS', 'DI']\n",
    "bsa_colors = {\n",
    "    'STGA': '#4d4d4d',\n",
    "    'NE': '#b30000',\n",
    "    'PS': '#258e25',\n",
    "    'DI': 'lightblue'\n",
    "}\n",
    "\n",
    "df_agg = df.groupby(['Year', 'Program', 'BSA']).size().reset_index(name='Count')\n",
    "\n",
    "# Create bar count plot using Plotly Express\n",
    "fig = px.bar(df_agg, x='Year', y='Count', color='BSA', barmode='stack', facet_col='Program', facet_col_wrap=2,\n",
    "             category_orders={'Year': years, 'BSA': bsa_order, 'Program': program_order},\n",
    "             color_discrete_map=bsa_colors,\n",
    "             labels={'Year': 'Year', 'Count': 'Count', 'BSA': 'BSA'}, title='Count of Years Layered by BSA and Program')\n",
    "fig.update_xaxes(title_text='')\n",
    "fig.update_yaxes(title_text='Count')\n",
    "\n",
    "# Adjust size and spacing\n",
    "fig.update_layout(height=800, width=1200, bargap=0.2, xaxis={'categoryorder':'total ascending'})\n",
    "\n",
    "fig.show()"
   ]
  },
  {
   "cell_type": "code",
   "execution_count": 93,
   "metadata": {},
   "outputs": [
    {
     "data": {
      "application/vnd.plotly.v1+json": {
       "config": {
        "plotlyServerURL": "https://plot.ly"
       },
       "data": [
        {
         "marker": {
          "color": "#4d4d4d"
         },
         "name": "STGA",
         "text": [
          66,
          58
         ],
         "textposition": "auto",
         "type": "bar",
         "x": [
          "21/22",
          "22/23"
         ],
         "xaxis": "x",
         "y": [
          66,
          58
         ],
         "yaxis": "y"
        },
        {
         "marker": {
          "color": "#b30000"
         },
         "name": "NE",
         "text": [
          72,
          54
         ],
         "textposition": "auto",
         "type": "bar",
         "x": [
          "21/22",
          "22/23"
         ],
         "xaxis": "x",
         "y": [
          72,
          54
         ],
         "yaxis": "y"
        },
        {
         "marker": {
          "color": "#258e25"
         },
         "name": "PS",
         "text": [
          57,
          72
         ],
         "textposition": "auto",
         "type": "bar",
         "x": [
          "21/22",
          "22/23"
         ],
         "xaxis": "x",
         "y": [
          57,
          72
         ],
         "yaxis": "y"
        },
        {
         "marker": {
          "color": "lightblue"
         },
         "name": "DI",
         "text": [
          60,
          60
         ],
         "textposition": "auto",
         "type": "bar",
         "x": [
          "21/22",
          "22/23"
         ],
         "xaxis": "x",
         "y": [
          60,
          60
         ],
         "yaxis": "y"
        },
        {
         "marker": {
          "color": "#4d4d4d"
         },
         "name": "STGA",
         "text": [
          70,
          52
         ],
         "textposition": "auto",
         "type": "bar",
         "x": [
          "21/22",
          "22/23"
         ],
         "xaxis": "x2",
         "y": [
          70,
          52
         ],
         "yaxis": "y2"
        },
        {
         "marker": {
          "color": "#b30000"
         },
         "name": "NE",
         "text": [
          78,
          61
         ],
         "textposition": "auto",
         "type": "bar",
         "x": [
          "21/22",
          "22/23"
         ],
         "xaxis": "x2",
         "y": [
          78,
          61
         ],
         "yaxis": "y2"
        },
        {
         "marker": {
          "color": "#258e25"
         },
         "name": "PS",
         "text": [
          61,
          64
         ],
         "textposition": "auto",
         "type": "bar",
         "x": [
          "21/22",
          "22/23"
         ],
         "xaxis": "x2",
         "y": [
          61,
          64
         ],
         "yaxis": "y2"
        },
        {
         "marker": {
          "color": "lightblue"
         },
         "name": "DI",
         "text": [
          69,
          72
         ],
         "textposition": "auto",
         "type": "bar",
         "x": [
          "21/22",
          "22/23"
         ],
         "xaxis": "x2",
         "y": [
          69,
          72
         ],
         "yaxis": "y2"
        },
        {
         "marker": {
          "color": "#4d4d4d"
         },
         "name": "STGA",
         "text": [
          81,
          66
         ],
         "textposition": "auto",
         "type": "bar",
         "x": [
          "21/22",
          "22/23"
         ],
         "xaxis": "x3",
         "y": [
          81,
          66
         ],
         "yaxis": "y3"
        },
        {
         "marker": {
          "color": "#b30000"
         },
         "name": "NE",
         "text": [
          56,
          64
         ],
         "textposition": "auto",
         "type": "bar",
         "x": [
          "21/22",
          "22/23"
         ],
         "xaxis": "x3",
         "y": [
          56,
          64
         ],
         "yaxis": "y3"
        },
        {
         "marker": {
          "color": "#258e25"
         },
         "name": "PS",
         "text": [
          48,
          75
         ],
         "textposition": "auto",
         "type": "bar",
         "x": [
          "21/22",
          "22/23"
         ],
         "xaxis": "x3",
         "y": [
          48,
          75
         ],
         "yaxis": "y3"
        },
        {
         "marker": {
          "color": "lightblue"
         },
         "name": "DI",
         "text": [
          54,
          54
         ],
         "textposition": "auto",
         "type": "bar",
         "x": [
          "21/22",
          "22/23"
         ],
         "xaxis": "x3",
         "y": [
          54,
          54
         ],
         "yaxis": "y3"
        },
        {
         "marker": {
          "color": "#4d4d4d"
         },
         "name": "STGA",
         "text": [
          39,
          74
         ],
         "textposition": "auto",
         "type": "bar",
         "x": [
          "21/22",
          "22/23"
         ],
         "xaxis": "x4",
         "y": [
          39,
          74
         ],
         "yaxis": "y4"
        },
        {
         "marker": {
          "color": "#b30000"
         },
         "name": "NE",
         "text": [
          59,
          54
         ],
         "textposition": "auto",
         "type": "bar",
         "x": [
          "21/22",
          "22/23"
         ],
         "xaxis": "x4",
         "y": [
          59,
          54
         ],
         "yaxis": "y4"
        },
        {
         "marker": {
          "color": "#258e25"
         },
         "name": "PS",
         "text": [
          70,
          60
         ],
         "textposition": "auto",
         "type": "bar",
         "x": [
          "21/22",
          "22/23"
         ],
         "xaxis": "x4",
         "y": [
          70,
          60
         ],
         "yaxis": "y4"
        },
        {
         "marker": {
          "color": "lightblue"
         },
         "name": "DI",
         "text": [
          55,
          65
         ],
         "textposition": "auto",
         "type": "bar",
         "x": [
          "21/22",
          "22/23"
         ],
         "xaxis": "x4",
         "y": [
          55,
          65
         ],
         "yaxis": "y4"
        }
       ],
       "layout": {
        "annotations": [
         {
          "font": {
           "size": 16
          },
          "showarrow": false,
          "text": "Program1",
          "x": 0.225,
          "xanchor": "center",
          "xref": "paper",
          "y": 1,
          "yanchor": "bottom",
          "yref": "paper"
         },
         {
          "font": {
           "size": 16
          },
          "showarrow": false,
          "text": "Program2",
          "x": 0.775,
          "xanchor": "center",
          "xref": "paper",
          "y": 1,
          "yanchor": "bottom",
          "yref": "paper"
         },
         {
          "font": {
           "size": 16
          },
          "showarrow": false,
          "text": "Program3",
          "x": 0.225,
          "xanchor": "center",
          "xref": "paper",
          "y": 0.45,
          "yanchor": "bottom",
          "yref": "paper"
         },
         {
          "font": {
           "size": 16
          },
          "showarrow": false,
          "text": "Program4",
          "x": 0.775,
          "xanchor": "center",
          "xref": "paper",
          "y": 0.45,
          "yanchor": "bottom",
          "yref": "paper"
         }
        ],
        "bargap": 0.2,
        "height": 1200,
        "template": {
         "data": {
          "bar": [
           {
            "error_x": {
             "color": "#2a3f5f"
            },
            "error_y": {
             "color": "#2a3f5f"
            },
            "marker": {
             "line": {
              "color": "#E5ECF6",
              "width": 0.5
             },
             "pattern": {
              "fillmode": "overlay",
              "size": 10,
              "solidity": 0.2
             }
            },
            "type": "bar"
           }
          ],
          "barpolar": [
           {
            "marker": {
             "line": {
              "color": "#E5ECF6",
              "width": 0.5
             },
             "pattern": {
              "fillmode": "overlay",
              "size": 10,
              "solidity": 0.2
             }
            },
            "type": "barpolar"
           }
          ],
          "carpet": [
           {
            "aaxis": {
             "endlinecolor": "#2a3f5f",
             "gridcolor": "white",
             "linecolor": "white",
             "minorgridcolor": "white",
             "startlinecolor": "#2a3f5f"
            },
            "baxis": {
             "endlinecolor": "#2a3f5f",
             "gridcolor": "white",
             "linecolor": "white",
             "minorgridcolor": "white",
             "startlinecolor": "#2a3f5f"
            },
            "type": "carpet"
           }
          ],
          "choropleth": [
           {
            "colorbar": {
             "outlinewidth": 0,
             "ticks": ""
            },
            "type": "choropleth"
           }
          ],
          "contour": [
           {
            "colorbar": {
             "outlinewidth": 0,
             "ticks": ""
            },
            "colorscale": [
             [
              0,
              "#0d0887"
             ],
             [
              0.1111111111111111,
              "#46039f"
             ],
             [
              0.2222222222222222,
              "#7201a8"
             ],
             [
              0.3333333333333333,
              "#9c179e"
             ],
             [
              0.4444444444444444,
              "#bd3786"
             ],
             [
              0.5555555555555556,
              "#d8576b"
             ],
             [
              0.6666666666666666,
              "#ed7953"
             ],
             [
              0.7777777777777778,
              "#fb9f3a"
             ],
             [
              0.8888888888888888,
              "#fdca26"
             ],
             [
              1,
              "#f0f921"
             ]
            ],
            "type": "contour"
           }
          ],
          "contourcarpet": [
           {
            "colorbar": {
             "outlinewidth": 0,
             "ticks": ""
            },
            "type": "contourcarpet"
           }
          ],
          "heatmap": [
           {
            "colorbar": {
             "outlinewidth": 0,
             "ticks": ""
            },
            "colorscale": [
             [
              0,
              "#0d0887"
             ],
             [
              0.1111111111111111,
              "#46039f"
             ],
             [
              0.2222222222222222,
              "#7201a8"
             ],
             [
              0.3333333333333333,
              "#9c179e"
             ],
             [
              0.4444444444444444,
              "#bd3786"
             ],
             [
              0.5555555555555556,
              "#d8576b"
             ],
             [
              0.6666666666666666,
              "#ed7953"
             ],
             [
              0.7777777777777778,
              "#fb9f3a"
             ],
             [
              0.8888888888888888,
              "#fdca26"
             ],
             [
              1,
              "#f0f921"
             ]
            ],
            "type": "heatmap"
           }
          ],
          "heatmapgl": [
           {
            "colorbar": {
             "outlinewidth": 0,
             "ticks": ""
            },
            "colorscale": [
             [
              0,
              "#0d0887"
             ],
             [
              0.1111111111111111,
              "#46039f"
             ],
             [
              0.2222222222222222,
              "#7201a8"
             ],
             [
              0.3333333333333333,
              "#9c179e"
             ],
             [
              0.4444444444444444,
              "#bd3786"
             ],
             [
              0.5555555555555556,
              "#d8576b"
             ],
             [
              0.6666666666666666,
              "#ed7953"
             ],
             [
              0.7777777777777778,
              "#fb9f3a"
             ],
             [
              0.8888888888888888,
              "#fdca26"
             ],
             [
              1,
              "#f0f921"
             ]
            ],
            "type": "heatmapgl"
           }
          ],
          "histogram": [
           {
            "marker": {
             "pattern": {
              "fillmode": "overlay",
              "size": 10,
              "solidity": 0.2
             }
            },
            "type": "histogram"
           }
          ],
          "histogram2d": [
           {
            "colorbar": {
             "outlinewidth": 0,
             "ticks": ""
            },
            "colorscale": [
             [
              0,
              "#0d0887"
             ],
             [
              0.1111111111111111,
              "#46039f"
             ],
             [
              0.2222222222222222,
              "#7201a8"
             ],
             [
              0.3333333333333333,
              "#9c179e"
             ],
             [
              0.4444444444444444,
              "#bd3786"
             ],
             [
              0.5555555555555556,
              "#d8576b"
             ],
             [
              0.6666666666666666,
              "#ed7953"
             ],
             [
              0.7777777777777778,
              "#fb9f3a"
             ],
             [
              0.8888888888888888,
              "#fdca26"
             ],
             [
              1,
              "#f0f921"
             ]
            ],
            "type": "histogram2d"
           }
          ],
          "histogram2dcontour": [
           {
            "colorbar": {
             "outlinewidth": 0,
             "ticks": ""
            },
            "colorscale": [
             [
              0,
              "#0d0887"
             ],
             [
              0.1111111111111111,
              "#46039f"
             ],
             [
              0.2222222222222222,
              "#7201a8"
             ],
             [
              0.3333333333333333,
              "#9c179e"
             ],
             [
              0.4444444444444444,
              "#bd3786"
             ],
             [
              0.5555555555555556,
              "#d8576b"
             ],
             [
              0.6666666666666666,
              "#ed7953"
             ],
             [
              0.7777777777777778,
              "#fb9f3a"
             ],
             [
              0.8888888888888888,
              "#fdca26"
             ],
             [
              1,
              "#f0f921"
             ]
            ],
            "type": "histogram2dcontour"
           }
          ],
          "mesh3d": [
           {
            "colorbar": {
             "outlinewidth": 0,
             "ticks": ""
            },
            "type": "mesh3d"
           }
          ],
          "parcoords": [
           {
            "line": {
             "colorbar": {
              "outlinewidth": 0,
              "ticks": ""
             }
            },
            "type": "parcoords"
           }
          ],
          "pie": [
           {
            "automargin": true,
            "type": "pie"
           }
          ],
          "scatter": [
           {
            "fillpattern": {
             "fillmode": "overlay",
             "size": 10,
             "solidity": 0.2
            },
            "type": "scatter"
           }
          ],
          "scatter3d": [
           {
            "line": {
             "colorbar": {
              "outlinewidth": 0,
              "ticks": ""
             }
            },
            "marker": {
             "colorbar": {
              "outlinewidth": 0,
              "ticks": ""
             }
            },
            "type": "scatter3d"
           }
          ],
          "scattercarpet": [
           {
            "marker": {
             "colorbar": {
              "outlinewidth": 0,
              "ticks": ""
             }
            },
            "type": "scattercarpet"
           }
          ],
          "scattergeo": [
           {
            "marker": {
             "colorbar": {
              "outlinewidth": 0,
              "ticks": ""
             }
            },
            "type": "scattergeo"
           }
          ],
          "scattergl": [
           {
            "marker": {
             "colorbar": {
              "outlinewidth": 0,
              "ticks": ""
             }
            },
            "type": "scattergl"
           }
          ],
          "scattermapbox": [
           {
            "marker": {
             "colorbar": {
              "outlinewidth": 0,
              "ticks": ""
             }
            },
            "type": "scattermapbox"
           }
          ],
          "scatterpolar": [
           {
            "marker": {
             "colorbar": {
              "outlinewidth": 0,
              "ticks": ""
             }
            },
            "type": "scatterpolar"
           }
          ],
          "scatterpolargl": [
           {
            "marker": {
             "colorbar": {
              "outlinewidth": 0,
              "ticks": ""
             }
            },
            "type": "scatterpolargl"
           }
          ],
          "scatterternary": [
           {
            "marker": {
             "colorbar": {
              "outlinewidth": 0,
              "ticks": ""
             }
            },
            "type": "scatterternary"
           }
          ],
          "surface": [
           {
            "colorbar": {
             "outlinewidth": 0,
             "ticks": ""
            },
            "colorscale": [
             [
              0,
              "#0d0887"
             ],
             [
              0.1111111111111111,
              "#46039f"
             ],
             [
              0.2222222222222222,
              "#7201a8"
             ],
             [
              0.3333333333333333,
              "#9c179e"
             ],
             [
              0.4444444444444444,
              "#bd3786"
             ],
             [
              0.5555555555555556,
              "#d8576b"
             ],
             [
              0.6666666666666666,
              "#ed7953"
             ],
             [
              0.7777777777777778,
              "#fb9f3a"
             ],
             [
              0.8888888888888888,
              "#fdca26"
             ],
             [
              1,
              "#f0f921"
             ]
            ],
            "type": "surface"
           }
          ],
          "table": [
           {
            "cells": {
             "fill": {
              "color": "#EBF0F8"
             },
             "line": {
              "color": "white"
             }
            },
            "header": {
             "fill": {
              "color": "#C8D4E3"
             },
             "line": {
              "color": "white"
             }
            },
            "type": "table"
           }
          ]
         },
         "layout": {
          "annotationdefaults": {
           "arrowcolor": "#2a3f5f",
           "arrowhead": 0,
           "arrowwidth": 1
          },
          "autotypenumbers": "strict",
          "coloraxis": {
           "colorbar": {
            "outlinewidth": 0,
            "ticks": ""
           }
          },
          "colorscale": {
           "diverging": [
            [
             0,
             "#8e0152"
            ],
            [
             0.1,
             "#c51b7d"
            ],
            [
             0.2,
             "#de77ae"
            ],
            [
             0.3,
             "#f1b6da"
            ],
            [
             0.4,
             "#fde0ef"
            ],
            [
             0.5,
             "#f7f7f7"
            ],
            [
             0.6,
             "#e6f5d0"
            ],
            [
             0.7,
             "#b8e186"
            ],
            [
             0.8,
             "#7fbc41"
            ],
            [
             0.9,
             "#4d9221"
            ],
            [
             1,
             "#276419"
            ]
           ],
           "sequential": [
            [
             0,
             "#0d0887"
            ],
            [
             0.1111111111111111,
             "#46039f"
            ],
            [
             0.2222222222222222,
             "#7201a8"
            ],
            [
             0.3333333333333333,
             "#9c179e"
            ],
            [
             0.4444444444444444,
             "#bd3786"
            ],
            [
             0.5555555555555556,
             "#d8576b"
            ],
            [
             0.6666666666666666,
             "#ed7953"
            ],
            [
             0.7777777777777778,
             "#fb9f3a"
            ],
            [
             0.8888888888888888,
             "#fdca26"
            ],
            [
             1,
             "#f0f921"
            ]
           ],
           "sequentialminus": [
            [
             0,
             "#0d0887"
            ],
            [
             0.1111111111111111,
             "#46039f"
            ],
            [
             0.2222222222222222,
             "#7201a8"
            ],
            [
             0.3333333333333333,
             "#9c179e"
            ],
            [
             0.4444444444444444,
             "#bd3786"
            ],
            [
             0.5555555555555556,
             "#d8576b"
            ],
            [
             0.6666666666666666,
             "#ed7953"
            ],
            [
             0.7777777777777778,
             "#fb9f3a"
            ],
            [
             0.8888888888888888,
             "#fdca26"
            ],
            [
             1,
             "#f0f921"
            ]
           ]
          },
          "colorway": [
           "#636efa",
           "#EF553B",
           "#00cc96",
           "#ab63fa",
           "#FFA15A",
           "#19d3f3",
           "#FF6692",
           "#B6E880",
           "#FF97FF",
           "#FECB52"
          ],
          "font": {
           "color": "#2a3f5f"
          },
          "geo": {
           "bgcolor": "white",
           "lakecolor": "white",
           "landcolor": "#E5ECF6",
           "showlakes": true,
           "showland": true,
           "subunitcolor": "white"
          },
          "hoverlabel": {
           "align": "left"
          },
          "hovermode": "closest",
          "mapbox": {
           "style": "light"
          },
          "paper_bgcolor": "white",
          "plot_bgcolor": "#E5ECF6",
          "polar": {
           "angularaxis": {
            "gridcolor": "white",
            "linecolor": "white",
            "ticks": ""
           },
           "bgcolor": "#E5ECF6",
           "radialaxis": {
            "gridcolor": "white",
            "linecolor": "white",
            "ticks": ""
           }
          },
          "scene": {
           "xaxis": {
            "backgroundcolor": "#E5ECF6",
            "gridcolor": "white",
            "gridwidth": 2,
            "linecolor": "white",
            "showbackground": true,
            "ticks": "",
            "zerolinecolor": "white"
           },
           "yaxis": {
            "backgroundcolor": "#E5ECF6",
            "gridcolor": "white",
            "gridwidth": 2,
            "linecolor": "white",
            "showbackground": true,
            "ticks": "",
            "zerolinecolor": "white"
           },
           "zaxis": {
            "backgroundcolor": "#E5ECF6",
            "gridcolor": "white",
            "gridwidth": 2,
            "linecolor": "white",
            "showbackground": true,
            "ticks": "",
            "zerolinecolor": "white"
           }
          },
          "shapedefaults": {
           "line": {
            "color": "#2a3f5f"
           }
          },
          "ternary": {
           "aaxis": {
            "gridcolor": "white",
            "linecolor": "white",
            "ticks": ""
           },
           "baxis": {
            "gridcolor": "white",
            "linecolor": "white",
            "ticks": ""
           },
           "bgcolor": "#E5ECF6",
           "caxis": {
            "gridcolor": "white",
            "linecolor": "white",
            "ticks": ""
           }
          },
          "title": {
           "x": 0.05
          },
          "xaxis": {
           "automargin": true,
           "gridcolor": "white",
           "linecolor": "white",
           "ticks": "",
           "title": {
            "standoff": 15
           },
           "zerolinecolor": "white",
           "zerolinewidth": 2
          },
          "yaxis": {
           "automargin": true,
           "gridcolor": "white",
           "linecolor": "white",
           "ticks": "",
           "title": {
            "standoff": 15
           },
           "zerolinecolor": "white",
           "zerolinewidth": 2
          }
         }
        },
        "title": {
         "text": "Count of Years Layered by BSA and Program"
        },
        "width": 1600,
        "xaxis": {
         "anchor": "y",
         "domain": [
          0,
          0.45
         ],
         "title": {
          "text": "Year"
         }
        },
        "xaxis2": {
         "anchor": "y2",
         "domain": [
          0.55,
          1
         ],
         "title": {
          "text": "Year"
         }
        },
        "xaxis3": {
         "anchor": "y3",
         "domain": [
          0,
          0.45
         ]
        },
        "xaxis4": {
         "anchor": "y4",
         "domain": [
          0.55,
          1
         ]
        },
        "yaxis": {
         "anchor": "x",
         "domain": [
          0.55,
          1
         ],
         "title": {
          "text": "Count"
         }
        },
        "yaxis2": {
         "anchor": "x2",
         "domain": [
          0.55,
          1
         ]
        },
        "yaxis3": {
         "anchor": "x3",
         "domain": [
          0,
          0.45
         ],
         "title": {
          "text": "Count"
         }
        },
        "yaxis4": {
         "anchor": "x4",
         "domain": [
          0,
          0.45
         ]
        }
       }
      }
     },
     "metadata": {},
     "output_type": "display_data"
    }
   ],
   "source": [
    "# Define the order of 'Program' facet columns\n",
    "program_order = ['Program1', 'Program2', 'Program3', 'Program4']\n",
    "bsa_order = ['STGA', 'NE', 'PS', 'DI']\n",
    "bsa_colors = {\n",
    "    'STGA': '#4d4d4d',\n",
    "    'NE': '#b30000',\n",
    "    'PS': '#258e25',\n",
    "    'DI': 'lightblue'\n",
    "}\n",
    "\n",
    "# Group by 'Year', 'Program', and 'BSA', and count the number of occurrences\n",
    "df_agg = df.groupby(['Year', 'Program', 'BSA']).size().reset_index(name='Count')\n",
    "\n",
    "# Create a figure with subplots arranged in a 2x2 grid\n",
    "fig = make_subplots(rows=2, cols=2, subplot_titles=program_order, horizontal_spacing=0.1, vertical_spacing=0.1)\n",
    "\n",
    "# Loop through each 'Program' facet column\n",
    "for i, program in enumerate(program_order, start=1):\n",
    "    # Filter data for the current program\n",
    "    df_program = df_agg[df_agg['Program'] == program]\n",
    "    \n",
    "    # Loop through each 'BSA' category\n",
    "    for j, bsa in enumerate(bsa_order, start=1):\n",
    "        # Filter data for the current BSA category\n",
    "        df_bsa = df_program[df_program['BSA'] == bsa]\n",
    "        \n",
    "        # Create bar trace\n",
    "        bar = go.Bar(\n",
    "            x=df_bsa['Year'],\n",
    "            y=df_bsa['Count'],\n",
    "            name=bsa,\n",
    "            marker=dict(color=bsa_colors[bsa]),\n",
    "            text=df_bsa['Count'],  # Add text on top of each bar\n",
    "            textposition='auto'  # Automatically position the text\n",
    "        )\n",
    "        \n",
    "        # Add trace to the subplot\n",
    "        fig.add_trace(bar, row=(i+1)//2, col=(i+1)%2+1)\n",
    "\n",
    "# Update layout\n",
    "fig.update_layout(title='Count of Years Layered by BSA and Program', height=800, width=1200)\n",
    "fig.update_layout(bargap=0.2)\n",
    "fig.update_layout(height=1200, width=1600, bargap=0.2)\n",
    "fig.update_xaxes(title_text='Year', row=1, col=1)\n",
    "fig.update_xaxes(title_text='Year', row=1, col=2)\n",
    "fig.update_yaxes(title_text='Count', row=1, col=1)\n",
    "fig.update_yaxes(title_text='Count', row=2, col=1)\n",
    "fig.show()"
   ]
  },
  {
   "cell_type": "code",
   "execution_count": 90,
   "metadata": {},
   "outputs": [
    {
     "name": "stderr",
     "output_type": "stream",
     "text": [
      "C:\\Users\\Maarten Focus\\AppData\\Local\\Temp\\ipykernel_14600\\4006489414.py:24: SettingWithCopyWarning:\n",
      "\n",
      "\n",
      "A value is trying to be set on a copy of a slice from a DataFrame.\n",
      "Try using .loc[row_indexer,col_indexer] = value instead\n",
      "\n",
      "See the caveats in the documentation: https://pandas.pydata.org/pandas-docs/stable/user_guide/indexing.html#returning-a-view-versus-a-copy\n",
      "\n",
      "C:\\Users\\Maarten Focus\\AppData\\Local\\Temp\\ipykernel_14600\\4006489414.py:24: SettingWithCopyWarning:\n",
      "\n",
      "\n",
      "A value is trying to be set on a copy of a slice from a DataFrame.\n",
      "Try using .loc[row_indexer,col_indexer] = value instead\n",
      "\n",
      "See the caveats in the documentation: https://pandas.pydata.org/pandas-docs/stable/user_guide/indexing.html#returning-a-view-versus-a-copy\n",
      "\n",
      "C:\\Users\\Maarten Focus\\AppData\\Local\\Temp\\ipykernel_14600\\4006489414.py:24: SettingWithCopyWarning:\n",
      "\n",
      "\n",
      "A value is trying to be set on a copy of a slice from a DataFrame.\n",
      "Try using .loc[row_indexer,col_indexer] = value instead\n",
      "\n",
      "See the caveats in the documentation: https://pandas.pydata.org/pandas-docs/stable/user_guide/indexing.html#returning-a-view-versus-a-copy\n",
      "\n",
      "C:\\Users\\Maarten Focus\\AppData\\Local\\Temp\\ipykernel_14600\\4006489414.py:24: SettingWithCopyWarning:\n",
      "\n",
      "\n",
      "A value is trying to be set on a copy of a slice from a DataFrame.\n",
      "Try using .loc[row_indexer,col_indexer] = value instead\n",
      "\n",
      "See the caveats in the documentation: https://pandas.pydata.org/pandas-docs/stable/user_guide/indexing.html#returning-a-view-versus-a-copy\n",
      "\n",
      "C:\\Users\\Maarten Focus\\AppData\\Local\\Temp\\ipykernel_14600\\4006489414.py:24: SettingWithCopyWarning:\n",
      "\n",
      "\n",
      "A value is trying to be set on a copy of a slice from a DataFrame.\n",
      "Try using .loc[row_indexer,col_indexer] = value instead\n",
      "\n",
      "See the caveats in the documentation: https://pandas.pydata.org/pandas-docs/stable/user_guide/indexing.html#returning-a-view-versus-a-copy\n",
      "\n",
      "C:\\Users\\Maarten Focus\\AppData\\Local\\Temp\\ipykernel_14600\\4006489414.py:24: SettingWithCopyWarning:\n",
      "\n",
      "\n",
      "A value is trying to be set on a copy of a slice from a DataFrame.\n",
      "Try using .loc[row_indexer,col_indexer] = value instead\n",
      "\n",
      "See the caveats in the documentation: https://pandas.pydata.org/pandas-docs/stable/user_guide/indexing.html#returning-a-view-versus-a-copy\n",
      "\n",
      "C:\\Users\\Maarten Focus\\AppData\\Local\\Temp\\ipykernel_14600\\4006489414.py:24: SettingWithCopyWarning:\n",
      "\n",
      "\n",
      "A value is trying to be set on a copy of a slice from a DataFrame.\n",
      "Try using .loc[row_indexer,col_indexer] = value instead\n",
      "\n",
      "See the caveats in the documentation: https://pandas.pydata.org/pandas-docs/stable/user_guide/indexing.html#returning-a-view-versus-a-copy\n",
      "\n",
      "C:\\Users\\Maarten Focus\\AppData\\Local\\Temp\\ipykernel_14600\\4006489414.py:24: SettingWithCopyWarning:\n",
      "\n",
      "\n",
      "A value is trying to be set on a copy of a slice from a DataFrame.\n",
      "Try using .loc[row_indexer,col_indexer] = value instead\n",
      "\n",
      "See the caveats in the documentation: https://pandas.pydata.org/pandas-docs/stable/user_guide/indexing.html#returning-a-view-versus-a-copy\n",
      "\n"
     ]
    },
    {
     "data": {
      "application/vnd.plotly.v1+json": {
       "config": {
        "plotlyServerURL": "https://plot.ly"
       },
       "data": [
        {
         "legendgroup": "Program1-21/22",
         "marker": {
          "color": "#4d4d4d"
         },
         "name": "STGA",
         "text": [
          16,
          8,
          17,
          15,
          10
         ],
         "textposition": "auto",
         "type": "bar",
         "x": [
          "24",
          "12",
          "6",
          "0",
          "18"
         ],
         "xaxis": "x",
         "y": [
          16,
          8,
          17,
          15,
          10
         ],
         "yaxis": "y"
        },
        {
         "legendgroup": "Program1-21/22",
         "marker": {
          "color": "#b30000"
         },
         "name": "NE",
         "text": [
          19,
          11,
          12,
          11,
          19
         ],
         "textposition": "auto",
         "type": "bar",
         "x": [
          "18",
          "12",
          "24",
          "0",
          "6"
         ],
         "xaxis": "x",
         "y": [
          19,
          11,
          12,
          11,
          19
         ],
         "yaxis": "y"
        },
        {
         "legendgroup": "Program1-21/22",
         "marker": {
          "color": "#258e25"
         },
         "name": "PS",
         "text": [
          13,
          12,
          10,
          8,
          14
         ],
         "textposition": "auto",
         "type": "bar",
         "x": [
          "0",
          "6",
          "12",
          "18",
          "24"
         ],
         "xaxis": "x",
         "y": [
          13,
          12,
          10,
          8,
          14
         ],
         "yaxis": "y"
        },
        {
         "legendgroup": "Program1-21/22",
         "marker": {
          "color": "lightblue"
         },
         "name": "DI",
         "text": [
          10,
          8,
          18,
          12,
          12
         ],
         "textposition": "auto",
         "type": "bar",
         "x": [
          "24",
          "18",
          "12",
          "6",
          "0"
         ],
         "xaxis": "x",
         "y": [
          10,
          8,
          18,
          12,
          12
         ],
         "yaxis": "y"
        },
        {
         "legendgroup": "Program1-22/23",
         "marker": {
          "color": "#4d4d4d"
         },
         "name": "STGA",
         "text": [
          14,
          12,
          14,
          9,
          9
         ],
         "textposition": "auto",
         "type": "bar",
         "x": [
          "24",
          "12",
          "6",
          "0",
          "18"
         ],
         "xaxis": "x2",
         "y": [
          14,
          12,
          14,
          9,
          9
         ],
         "yaxis": "y2"
        },
        {
         "legendgroup": "Program1-22/23",
         "marker": {
          "color": "#b30000"
         },
         "name": "NE",
         "text": [
          10,
          10,
          11,
          14,
          9
         ],
         "textposition": "auto",
         "type": "bar",
         "x": [
          "18",
          "12",
          "24",
          "0",
          "6"
         ],
         "xaxis": "x2",
         "y": [
          10,
          10,
          11,
          14,
          9
         ],
         "yaxis": "y2"
        },
        {
         "legendgroup": "Program1-22/23",
         "marker": {
          "color": "#258e25"
         },
         "name": "PS",
         "text": [
          16,
          16,
          10,
          13,
          17
         ],
         "textposition": "auto",
         "type": "bar",
         "x": [
          "0",
          "6",
          "12",
          "18",
          "24"
         ],
         "xaxis": "x2",
         "y": [
          16,
          16,
          10,
          13,
          17
         ],
         "yaxis": "y2"
        },
        {
         "legendgroup": "Program1-22/23",
         "marker": {
          "color": "lightblue"
         },
         "name": "DI",
         "text": [
          15,
          9,
          14,
          7,
          15
         ],
         "textposition": "auto",
         "type": "bar",
         "x": [
          "24",
          "18",
          "12",
          "6",
          "0"
         ],
         "xaxis": "x2",
         "y": [
          15,
          9,
          14,
          7,
          15
         ],
         "yaxis": "y2"
        },
        {
         "legendgroup": "Program2-21/22",
         "marker": {
          "color": "#4d4d4d"
         },
         "name": "STGA",
         "text": [
          15,
          13,
          8,
          17,
          17
         ],
         "textposition": "auto",
         "type": "bar",
         "x": [
          "24",
          "12",
          "6",
          "0",
          "18"
         ],
         "xaxis": "x3",
         "y": [
          15,
          13,
          8,
          17,
          17
         ],
         "yaxis": "y3"
        },
        {
         "legendgroup": "Program2-21/22",
         "marker": {
          "color": "#b30000"
         },
         "name": "NE",
         "text": [
          20,
          11,
          10,
          16,
          21
         ],
         "textposition": "auto",
         "type": "bar",
         "x": [
          "18",
          "12",
          "24",
          "0",
          "6"
         ],
         "xaxis": "x3",
         "y": [
          20,
          11,
          10,
          16,
          21
         ],
         "yaxis": "y3"
        },
        {
         "legendgroup": "Program2-21/22",
         "marker": {
          "color": "#258e25"
         },
         "name": "PS",
         "text": [
          13,
          8,
          18,
          9,
          13
         ],
         "textposition": "auto",
         "type": "bar",
         "x": [
          "0",
          "6",
          "12",
          "18",
          "24"
         ],
         "xaxis": "x3",
         "y": [
          13,
          8,
          18,
          9,
          13
         ],
         "yaxis": "y3"
        },
        {
         "legendgroup": "Program2-21/22",
         "marker": {
          "color": "lightblue"
         },
         "name": "DI",
         "text": [
          17,
          10,
          16,
          19,
          7
         ],
         "textposition": "auto",
         "type": "bar",
         "x": [
          "24",
          "18",
          "12",
          "6",
          "0"
         ],
         "xaxis": "x3",
         "y": [
          17,
          10,
          16,
          19,
          7
         ],
         "yaxis": "y3"
        },
        {
         "legendgroup": "Program2-22/23",
         "marker": {
          "color": "#4d4d4d"
         },
         "name": "STGA",
         "text": [
          9,
          13,
          11,
          7,
          12
         ],
         "textposition": "auto",
         "type": "bar",
         "x": [
          "24",
          "12",
          "6",
          "0",
          "18"
         ],
         "xaxis": "x4",
         "y": [
          9,
          13,
          11,
          7,
          12
         ],
         "yaxis": "y4"
        },
        {
         "legendgroup": "Program2-22/23",
         "marker": {
          "color": "#b30000"
         },
         "name": "NE",
         "text": [
          14,
          17,
          10,
          10,
          10
         ],
         "textposition": "auto",
         "type": "bar",
         "x": [
          "18",
          "12",
          "24",
          "0",
          "6"
         ],
         "xaxis": "x4",
         "y": [
          14,
          17,
          10,
          10,
          10
         ],
         "yaxis": "y4"
        },
        {
         "legendgroup": "Program2-22/23",
         "marker": {
          "color": "#258e25"
         },
         "name": "PS",
         "text": [
          16,
          5,
          16,
          14,
          13
         ],
         "textposition": "auto",
         "type": "bar",
         "x": [
          "0",
          "6",
          "12",
          "18",
          "24"
         ],
         "xaxis": "x4",
         "y": [
          16,
          5,
          16,
          14,
          13
         ],
         "yaxis": "y4"
        },
        {
         "legendgroup": "Program2-22/23",
         "marker": {
          "color": "lightblue"
         },
         "name": "DI",
         "text": [
          11,
          15,
          12,
          21,
          13
         ],
         "textposition": "auto",
         "type": "bar",
         "x": [
          "24",
          "18",
          "12",
          "6",
          "0"
         ],
         "xaxis": "x4",
         "y": [
          11,
          15,
          12,
          21,
          13
         ],
         "yaxis": "y4"
        },
        {
         "legendgroup": "Program3-21/22",
         "marker": {
          "color": "#4d4d4d"
         },
         "name": "STGA",
         "text": [
          11,
          24,
          13,
          16,
          17
         ],
         "textposition": "auto",
         "type": "bar",
         "x": [
          "24",
          "12",
          "6",
          "0",
          "18"
         ],
         "xaxis": "x5",
         "y": [
          11,
          24,
          13,
          16,
          17
         ],
         "yaxis": "y5"
        },
        {
         "legendgroup": "Program3-21/22",
         "marker": {
          "color": "#b30000"
         },
         "name": "NE",
         "text": [
          13,
          8,
          16,
          10,
          9
         ],
         "textposition": "auto",
         "type": "bar",
         "x": [
          "18",
          "12",
          "24",
          "0",
          "6"
         ],
         "xaxis": "x5",
         "y": [
          13,
          8,
          16,
          10,
          9
         ],
         "yaxis": "y5"
        },
        {
         "legendgroup": "Program3-21/22",
         "marker": {
          "color": "#258e25"
         },
         "name": "PS",
         "text": [
          10,
          4,
          10,
          9,
          15
         ],
         "textposition": "auto",
         "type": "bar",
         "x": [
          "0",
          "6",
          "12",
          "18",
          "24"
         ],
         "xaxis": "x5",
         "y": [
          10,
          4,
          10,
          9,
          15
         ],
         "yaxis": "y5"
        },
        {
         "legendgroup": "Program3-21/22",
         "marker": {
          "color": "lightblue"
         },
         "name": "DI",
         "text": [
          16,
          8,
          14,
          7,
          9
         ],
         "textposition": "auto",
         "type": "bar",
         "x": [
          "24",
          "18",
          "12",
          "6",
          "0"
         ],
         "xaxis": "x5",
         "y": [
          16,
          8,
          14,
          7,
          9
         ],
         "yaxis": "y5"
        },
        {
         "legendgroup": "Program3-22/23",
         "marker": {
          "color": "#4d4d4d"
         },
         "name": "STGA",
         "text": [
          8,
          13,
          11,
          16,
          18
         ],
         "textposition": "auto",
         "type": "bar",
         "x": [
          "24",
          "12",
          "6",
          "0",
          "18"
         ],
         "xaxis": "x6",
         "y": [
          8,
          13,
          11,
          16,
          18
         ],
         "yaxis": "y6"
        },
        {
         "legendgroup": "Program3-22/23",
         "marker": {
          "color": "#b30000"
         },
         "name": "NE",
         "text": [
          17,
          13,
          12,
          10,
          12
         ],
         "textposition": "auto",
         "type": "bar",
         "x": [
          "18",
          "12",
          "24",
          "0",
          "6"
         ],
         "xaxis": "x6",
         "y": [
          17,
          13,
          12,
          10,
          12
         ],
         "yaxis": "y6"
        },
        {
         "legendgroup": "Program3-22/23",
         "marker": {
          "color": "#258e25"
         },
         "name": "PS",
         "text": [
          14,
          11,
          20,
          11,
          19
         ],
         "textposition": "auto",
         "type": "bar",
         "x": [
          "0",
          "6",
          "12",
          "18",
          "24"
         ],
         "xaxis": "x6",
         "y": [
          14,
          11,
          20,
          11,
          19
         ],
         "yaxis": "y6"
        },
        {
         "legendgroup": "Program3-22/23",
         "marker": {
          "color": "lightblue"
         },
         "name": "DI",
         "text": [
          12,
          9,
          14,
          9,
          10
         ],
         "textposition": "auto",
         "type": "bar",
         "x": [
          "24",
          "18",
          "12",
          "6",
          "0"
         ],
         "xaxis": "x6",
         "y": [
          12,
          9,
          14,
          9,
          10
         ],
         "yaxis": "y6"
        },
        {
         "legendgroup": "Program4-21/22",
         "marker": {
          "color": "#4d4d4d"
         },
         "name": "STGA",
         "text": [
          8,
          6,
          6,
          11,
          8
         ],
         "textposition": "auto",
         "type": "bar",
         "x": [
          "24",
          "12",
          "6",
          "0",
          "18"
         ],
         "xaxis": "x7",
         "y": [
          8,
          6,
          6,
          11,
          8
         ],
         "yaxis": "y7"
        },
        {
         "legendgroup": "Program4-21/22",
         "marker": {
          "color": "#b30000"
         },
         "name": "NE",
         "text": [
          12,
          10,
          16,
          8,
          13
         ],
         "textposition": "auto",
         "type": "bar",
         "x": [
          "18",
          "12",
          "24",
          "0",
          "6"
         ],
         "xaxis": "x7",
         "y": [
          12,
          10,
          16,
          8,
          13
         ],
         "yaxis": "y7"
        },
        {
         "legendgroup": "Program4-21/22",
         "marker": {
          "color": "#258e25"
         },
         "name": "PS",
         "text": [
          20,
          15,
          9,
          12,
          14
         ],
         "textposition": "auto",
         "type": "bar",
         "x": [
          "0",
          "6",
          "12",
          "18",
          "24"
         ],
         "xaxis": "x7",
         "y": [
          20,
          15,
          9,
          12,
          14
         ],
         "yaxis": "y7"
        },
        {
         "legendgroup": "Program4-21/22",
         "marker": {
          "color": "lightblue"
         },
         "name": "DI",
         "text": [
          7,
          12,
          13,
          12,
          11
         ],
         "textposition": "auto",
         "type": "bar",
         "x": [
          "24",
          "18",
          "12",
          "6",
          "0"
         ],
         "xaxis": "x7",
         "y": [
          7,
          12,
          13,
          12,
          11
         ],
         "yaxis": "y7"
        },
        {
         "legendgroup": "Program4-22/23",
         "marker": {
          "color": "#4d4d4d"
         },
         "name": "STGA",
         "text": [
          15,
          14,
          13,
          18,
          14
         ],
         "textposition": "auto",
         "type": "bar",
         "x": [
          "24",
          "12",
          "6",
          "0",
          "18"
         ],
         "xaxis": "x8",
         "y": [
          15,
          14,
          13,
          18,
          14
         ],
         "yaxis": "y8"
        },
        {
         "legendgroup": "Program4-22/23",
         "marker": {
          "color": "#b30000"
         },
         "name": "NE",
         "text": [
          10,
          15,
          11,
          9,
          9
         ],
         "textposition": "auto",
         "type": "bar",
         "x": [
          "18",
          "12",
          "24",
          "0",
          "6"
         ],
         "xaxis": "x8",
         "y": [
          10,
          15,
          11,
          9,
          9
         ],
         "yaxis": "y8"
        },
        {
         "legendgroup": "Program4-22/23",
         "marker": {
          "color": "#258e25"
         },
         "name": "PS",
         "text": [
          13,
          8,
          11,
          17,
          11
         ],
         "textposition": "auto",
         "type": "bar",
         "x": [
          "0",
          "6",
          "12",
          "18",
          "24"
         ],
         "xaxis": "x8",
         "y": [
          13,
          8,
          11,
          17,
          11
         ],
         "yaxis": "y8"
        },
        {
         "legendgroup": "Program4-22/23",
         "marker": {
          "color": "lightblue"
         },
         "name": "DI",
         "text": [
          12,
          15,
          12,
          11,
          15
         ],
         "textposition": "auto",
         "type": "bar",
         "x": [
          "24",
          "18",
          "12",
          "6",
          "0"
         ],
         "xaxis": "x8",
         "y": [
          12,
          15,
          12,
          11,
          15
         ],
         "yaxis": "y8"
        }
       ],
       "layout": {
        "annotations": [
         {
          "font": {
           "size": 14
          },
          "showarrow": false,
          "text": "Legend:",
          "x": 0.5,
          "xanchor": "center",
          "xref": "paper",
          "y": -0.1,
          "yanchor": "bottom",
          "yref": "paper"
         },
         {
          "bgcolor": "#4d4d4d",
          "bordercolor": "black",
          "borderpad": 4,
          "borderwidth": 1,
          "font": {
           "size": 14
          },
          "showarrow": false,
          "text": "STGA",
          "x": 0.5,
          "xanchor": "center",
          "xref": "paper",
          "y": -0.1,
          "yanchor": "bottom",
          "yref": "paper",
          "yshift": -30
         },
         {
          "bgcolor": "#b30000",
          "bordercolor": "black",
          "borderpad": 4,
          "borderwidth": 1,
          "font": {
           "size": 14
          },
          "showarrow": false,
          "text": "NE",
          "x": 0.65,
          "xanchor": "center",
          "xref": "paper",
          "y": -0.1,
          "yanchor": "bottom",
          "yref": "paper",
          "yshift": -30
         },
         {
          "bgcolor": "#258e25",
          "bordercolor": "black",
          "borderpad": 4,
          "borderwidth": 1,
          "font": {
           "size": 14
          },
          "showarrow": false,
          "text": "PS",
          "x": 0.8,
          "xanchor": "center",
          "xref": "paper",
          "y": -0.1,
          "yanchor": "bottom",
          "yref": "paper",
          "yshift": -30
         },
         {
          "bgcolor": "lightblue",
          "bordercolor": "black",
          "borderpad": 4,
          "borderwidth": 1,
          "font": {
           "size": 14
          },
          "showarrow": false,
          "text": "DI",
          "x": 0.95,
          "xanchor": "center",
          "xref": "paper",
          "y": -0.1,
          "yanchor": "bottom",
          "yref": "paper",
          "yshift": -30
         },
         {
          "font": {
           "size": 14
          },
          "showarrow": false,
          "text": "Legend:",
          "x": 0.5,
          "xanchor": "center",
          "xref": "paper",
          "y": -0.1,
          "yanchor": "bottom",
          "yref": "paper"
         },
         {
          "bgcolor": "#4d4d4d",
          "bordercolor": "black",
          "borderpad": 4,
          "borderwidth": 1,
          "font": {
           "size": 14
          },
          "showarrow": false,
          "text": "STGA",
          "x": 0.5,
          "xanchor": "center",
          "xref": "paper",
          "y": -0.1,
          "yanchor": "bottom",
          "yref": "paper",
          "yshift": -30
         },
         {
          "bgcolor": "#b30000",
          "bordercolor": "black",
          "borderpad": 4,
          "borderwidth": 1,
          "font": {
           "size": 14
          },
          "showarrow": false,
          "text": "NE",
          "x": 0.65,
          "xanchor": "center",
          "xref": "paper",
          "y": -0.1,
          "yanchor": "bottom",
          "yref": "paper",
          "yshift": -30
         }
        ],
        "bargap": 0.2,
        "height": 1200,
        "legend": {
         "title": {
          "text": ""
         }
        },
        "template": {
         "data": {
          "bar": [
           {
            "error_x": {
             "color": "#2a3f5f"
            },
            "error_y": {
             "color": "#2a3f5f"
            },
            "marker": {
             "line": {
              "color": "#E5ECF6",
              "width": 0.5
             },
             "pattern": {
              "fillmode": "overlay",
              "size": 10,
              "solidity": 0.2
             }
            },
            "type": "bar"
           }
          ],
          "barpolar": [
           {
            "marker": {
             "line": {
              "color": "#E5ECF6",
              "width": 0.5
             },
             "pattern": {
              "fillmode": "overlay",
              "size": 10,
              "solidity": 0.2
             }
            },
            "type": "barpolar"
           }
          ],
          "carpet": [
           {
            "aaxis": {
             "endlinecolor": "#2a3f5f",
             "gridcolor": "white",
             "linecolor": "white",
             "minorgridcolor": "white",
             "startlinecolor": "#2a3f5f"
            },
            "baxis": {
             "endlinecolor": "#2a3f5f",
             "gridcolor": "white",
             "linecolor": "white",
             "minorgridcolor": "white",
             "startlinecolor": "#2a3f5f"
            },
            "type": "carpet"
           }
          ],
          "choropleth": [
           {
            "colorbar": {
             "outlinewidth": 0,
             "ticks": ""
            },
            "type": "choropleth"
           }
          ],
          "contour": [
           {
            "colorbar": {
             "outlinewidth": 0,
             "ticks": ""
            },
            "colorscale": [
             [
              0,
              "#0d0887"
             ],
             [
              0.1111111111111111,
              "#46039f"
             ],
             [
              0.2222222222222222,
              "#7201a8"
             ],
             [
              0.3333333333333333,
              "#9c179e"
             ],
             [
              0.4444444444444444,
              "#bd3786"
             ],
             [
              0.5555555555555556,
              "#d8576b"
             ],
             [
              0.6666666666666666,
              "#ed7953"
             ],
             [
              0.7777777777777778,
              "#fb9f3a"
             ],
             [
              0.8888888888888888,
              "#fdca26"
             ],
             [
              1,
              "#f0f921"
             ]
            ],
            "type": "contour"
           }
          ],
          "contourcarpet": [
           {
            "colorbar": {
             "outlinewidth": 0,
             "ticks": ""
            },
            "type": "contourcarpet"
           }
          ],
          "heatmap": [
           {
            "colorbar": {
             "outlinewidth": 0,
             "ticks": ""
            },
            "colorscale": [
             [
              0,
              "#0d0887"
             ],
             [
              0.1111111111111111,
              "#46039f"
             ],
             [
              0.2222222222222222,
              "#7201a8"
             ],
             [
              0.3333333333333333,
              "#9c179e"
             ],
             [
              0.4444444444444444,
              "#bd3786"
             ],
             [
              0.5555555555555556,
              "#d8576b"
             ],
             [
              0.6666666666666666,
              "#ed7953"
             ],
             [
              0.7777777777777778,
              "#fb9f3a"
             ],
             [
              0.8888888888888888,
              "#fdca26"
             ],
             [
              1,
              "#f0f921"
             ]
            ],
            "type": "heatmap"
           }
          ],
          "heatmapgl": [
           {
            "colorbar": {
             "outlinewidth": 0,
             "ticks": ""
            },
            "colorscale": [
             [
              0,
              "#0d0887"
             ],
             [
              0.1111111111111111,
              "#46039f"
             ],
             [
              0.2222222222222222,
              "#7201a8"
             ],
             [
              0.3333333333333333,
              "#9c179e"
             ],
             [
              0.4444444444444444,
              "#bd3786"
             ],
             [
              0.5555555555555556,
              "#d8576b"
             ],
             [
              0.6666666666666666,
              "#ed7953"
             ],
             [
              0.7777777777777778,
              "#fb9f3a"
             ],
             [
              0.8888888888888888,
              "#fdca26"
             ],
             [
              1,
              "#f0f921"
             ]
            ],
            "type": "heatmapgl"
           }
          ],
          "histogram": [
           {
            "marker": {
             "pattern": {
              "fillmode": "overlay",
              "size": 10,
              "solidity": 0.2
             }
            },
            "type": "histogram"
           }
          ],
          "histogram2d": [
           {
            "colorbar": {
             "outlinewidth": 0,
             "ticks": ""
            },
            "colorscale": [
             [
              0,
              "#0d0887"
             ],
             [
              0.1111111111111111,
              "#46039f"
             ],
             [
              0.2222222222222222,
              "#7201a8"
             ],
             [
              0.3333333333333333,
              "#9c179e"
             ],
             [
              0.4444444444444444,
              "#bd3786"
             ],
             [
              0.5555555555555556,
              "#d8576b"
             ],
             [
              0.6666666666666666,
              "#ed7953"
             ],
             [
              0.7777777777777778,
              "#fb9f3a"
             ],
             [
              0.8888888888888888,
              "#fdca26"
             ],
             [
              1,
              "#f0f921"
             ]
            ],
            "type": "histogram2d"
           }
          ],
          "histogram2dcontour": [
           {
            "colorbar": {
             "outlinewidth": 0,
             "ticks": ""
            },
            "colorscale": [
             [
              0,
              "#0d0887"
             ],
             [
              0.1111111111111111,
              "#46039f"
             ],
             [
              0.2222222222222222,
              "#7201a8"
             ],
             [
              0.3333333333333333,
              "#9c179e"
             ],
             [
              0.4444444444444444,
              "#bd3786"
             ],
             [
              0.5555555555555556,
              "#d8576b"
             ],
             [
              0.6666666666666666,
              "#ed7953"
             ],
             [
              0.7777777777777778,
              "#fb9f3a"
             ],
             [
              0.8888888888888888,
              "#fdca26"
             ],
             [
              1,
              "#f0f921"
             ]
            ],
            "type": "histogram2dcontour"
           }
          ],
          "mesh3d": [
           {
            "colorbar": {
             "outlinewidth": 0,
             "ticks": ""
            },
            "type": "mesh3d"
           }
          ],
          "parcoords": [
           {
            "line": {
             "colorbar": {
              "outlinewidth": 0,
              "ticks": ""
             }
            },
            "type": "parcoords"
           }
          ],
          "pie": [
           {
            "automargin": true,
            "type": "pie"
           }
          ],
          "scatter": [
           {
            "fillpattern": {
             "fillmode": "overlay",
             "size": 10,
             "solidity": 0.2
            },
            "type": "scatter"
           }
          ],
          "scatter3d": [
           {
            "line": {
             "colorbar": {
              "outlinewidth": 0,
              "ticks": ""
             }
            },
            "marker": {
             "colorbar": {
              "outlinewidth": 0,
              "ticks": ""
             }
            },
            "type": "scatter3d"
           }
          ],
          "scattercarpet": [
           {
            "marker": {
             "colorbar": {
              "outlinewidth": 0,
              "ticks": ""
             }
            },
            "type": "scattercarpet"
           }
          ],
          "scattergeo": [
           {
            "marker": {
             "colorbar": {
              "outlinewidth": 0,
              "ticks": ""
             }
            },
            "type": "scattergeo"
           }
          ],
          "scattergl": [
           {
            "marker": {
             "colorbar": {
              "outlinewidth": 0,
              "ticks": ""
             }
            },
            "type": "scattergl"
           }
          ],
          "scattermapbox": [
           {
            "marker": {
             "colorbar": {
              "outlinewidth": 0,
              "ticks": ""
             }
            },
            "type": "scattermapbox"
           }
          ],
          "scatterpolar": [
           {
            "marker": {
             "colorbar": {
              "outlinewidth": 0,
              "ticks": ""
             }
            },
            "type": "scatterpolar"
           }
          ],
          "scatterpolargl": [
           {
            "marker": {
             "colorbar": {
              "outlinewidth": 0,
              "ticks": ""
             }
            },
            "type": "scatterpolargl"
           }
          ],
          "scatterternary": [
           {
            "marker": {
             "colorbar": {
              "outlinewidth": 0,
              "ticks": ""
             }
            },
            "type": "scatterternary"
           }
          ],
          "surface": [
           {
            "colorbar": {
             "outlinewidth": 0,
             "ticks": ""
            },
            "colorscale": [
             [
              0,
              "#0d0887"
             ],
             [
              0.1111111111111111,
              "#46039f"
             ],
             [
              0.2222222222222222,
              "#7201a8"
             ],
             [
              0.3333333333333333,
              "#9c179e"
             ],
             [
              0.4444444444444444,
              "#bd3786"
             ],
             [
              0.5555555555555556,
              "#d8576b"
             ],
             [
              0.6666666666666666,
              "#ed7953"
             ],
             [
              0.7777777777777778,
              "#fb9f3a"
             ],
             [
              0.8888888888888888,
              "#fdca26"
             ],
             [
              1,
              "#f0f921"
             ]
            ],
            "type": "surface"
           }
          ],
          "table": [
           {
            "cells": {
             "fill": {
              "color": "#EBF0F8"
             },
             "line": {
              "color": "white"
             }
            },
            "header": {
             "fill": {
              "color": "#C8D4E3"
             },
             "line": {
              "color": "white"
             }
            },
            "type": "table"
           }
          ]
         },
         "layout": {
          "annotationdefaults": {
           "arrowcolor": "#2a3f5f",
           "arrowhead": 0,
           "arrowwidth": 1
          },
          "autotypenumbers": "strict",
          "coloraxis": {
           "colorbar": {
            "outlinewidth": 0,
            "ticks": ""
           }
          },
          "colorscale": {
           "diverging": [
            [
             0,
             "#8e0152"
            ],
            [
             0.1,
             "#c51b7d"
            ],
            [
             0.2,
             "#de77ae"
            ],
            [
             0.3,
             "#f1b6da"
            ],
            [
             0.4,
             "#fde0ef"
            ],
            [
             0.5,
             "#f7f7f7"
            ],
            [
             0.6,
             "#e6f5d0"
            ],
            [
             0.7,
             "#b8e186"
            ],
            [
             0.8,
             "#7fbc41"
            ],
            [
             0.9,
             "#4d9221"
            ],
            [
             1,
             "#276419"
            ]
           ],
           "sequential": [
            [
             0,
             "#0d0887"
            ],
            [
             0.1111111111111111,
             "#46039f"
            ],
            [
             0.2222222222222222,
             "#7201a8"
            ],
            [
             0.3333333333333333,
             "#9c179e"
            ],
            [
             0.4444444444444444,
             "#bd3786"
            ],
            [
             0.5555555555555556,
             "#d8576b"
            ],
            [
             0.6666666666666666,
             "#ed7953"
            ],
            [
             0.7777777777777778,
             "#fb9f3a"
            ],
            [
             0.8888888888888888,
             "#fdca26"
            ],
            [
             1,
             "#f0f921"
            ]
           ],
           "sequentialminus": [
            [
             0,
             "#0d0887"
            ],
            [
             0.1111111111111111,
             "#46039f"
            ],
            [
             0.2222222222222222,
             "#7201a8"
            ],
            [
             0.3333333333333333,
             "#9c179e"
            ],
            [
             0.4444444444444444,
             "#bd3786"
            ],
            [
             0.5555555555555556,
             "#d8576b"
            ],
            [
             0.6666666666666666,
             "#ed7953"
            ],
            [
             0.7777777777777778,
             "#fb9f3a"
            ],
            [
             0.8888888888888888,
             "#fdca26"
            ],
            [
             1,
             "#f0f921"
            ]
           ]
          },
          "colorway": [
           "#636efa",
           "#EF553B",
           "#00cc96",
           "#ab63fa",
           "#FFA15A",
           "#19d3f3",
           "#FF6692",
           "#B6E880",
           "#FF97FF",
           "#FECB52"
          ],
          "font": {
           "color": "#2a3f5f"
          },
          "geo": {
           "bgcolor": "white",
           "lakecolor": "white",
           "landcolor": "#E5ECF6",
           "showlakes": true,
           "showland": true,
           "subunitcolor": "white"
          },
          "hoverlabel": {
           "align": "left"
          },
          "hovermode": "closest",
          "mapbox": {
           "style": "light"
          },
          "paper_bgcolor": "white",
          "plot_bgcolor": "#E5ECF6",
          "polar": {
           "angularaxis": {
            "gridcolor": "white",
            "linecolor": "white",
            "ticks": ""
           },
           "bgcolor": "#E5ECF6",
           "radialaxis": {
            "gridcolor": "white",
            "linecolor": "white",
            "ticks": ""
           }
          },
          "scene": {
           "xaxis": {
            "backgroundcolor": "#E5ECF6",
            "gridcolor": "white",
            "gridwidth": 2,
            "linecolor": "white",
            "showbackground": true,
            "ticks": "",
            "zerolinecolor": "white"
           },
           "yaxis": {
            "backgroundcolor": "#E5ECF6",
            "gridcolor": "white",
            "gridwidth": 2,
            "linecolor": "white",
            "showbackground": true,
            "ticks": "",
            "zerolinecolor": "white"
           },
           "zaxis": {
            "backgroundcolor": "#E5ECF6",
            "gridcolor": "white",
            "gridwidth": 2,
            "linecolor": "white",
            "showbackground": true,
            "ticks": "",
            "zerolinecolor": "white"
           }
          },
          "shapedefaults": {
           "line": {
            "color": "#2a3f5f"
           }
          },
          "ternary": {
           "aaxis": {
            "gridcolor": "white",
            "linecolor": "white",
            "ticks": ""
           },
           "baxis": {
            "gridcolor": "white",
            "linecolor": "white",
            "ticks": ""
           },
           "bgcolor": "#E5ECF6",
           "caxis": {
            "gridcolor": "white",
            "linecolor": "white",
            "ticks": ""
           }
          },
          "title": {
           "x": 0.05
          },
          "xaxis": {
           "automargin": true,
           "gridcolor": "white",
           "linecolor": "white",
           "ticks": "",
           "title": {
            "standoff": 15
           },
           "zerolinecolor": "white",
           "zerolinewidth": 2
          },
          "yaxis": {
           "automargin": true,
           "gridcolor": "white",
           "linecolor": "white",
           "ticks": "",
           "title": {
            "standoff": 15
           },
           "zerolinecolor": "white",
           "zerolinewidth": 2
          }
         }
        },
        "title": {
         "text": "Count of Credits B1B2 Layered by BSA and Program"
        },
        "width": 1600,
        "xaxis": {
         "anchor": "y",
         "categoryarray": [
          "0",
          "6",
          "12",
          "18",
          "24"
         ],
         "categoryorder": "array",
         "domain": [
          0,
          0.475
         ],
         "title": {
          "text": "Credits B1B2 - Program1 - 21/22"
         },
         "type": "category"
        },
        "xaxis2": {
         "anchor": "y2",
         "categoryarray": [
          "0",
          "6",
          "12",
          "18",
          "24"
         ],
         "categoryorder": "array",
         "domain": [
          0.525,
          1
         ],
         "title": {
          "text": "Credits B1B2 - Program1 - 22/23"
         },
         "type": "category"
        },
        "xaxis3": {
         "anchor": "y3",
         "categoryarray": [
          "0",
          "6",
          "12",
          "18",
          "24"
         ],
         "categoryorder": "array",
         "domain": [
          0,
          0.475
         ],
         "title": {
          "text": "Credits B1B2 - Program2 - 21/22"
         },
         "type": "category"
        },
        "xaxis4": {
         "anchor": "y4",
         "categoryarray": [
          "0",
          "6",
          "12",
          "18",
          "24"
         ],
         "categoryorder": "array",
         "domain": [
          0.525,
          1
         ],
         "title": {
          "text": "Credits B1B2 - Program2 - 22/23"
         },
         "type": "category"
        },
        "xaxis5": {
         "anchor": "y5",
         "categoryarray": [
          "0",
          "6",
          "12",
          "18",
          "24"
         ],
         "categoryorder": "array",
         "domain": [
          0,
          0.475
         ],
         "title": {
          "text": "Credits B1B2 - Program3 - 21/22"
         },
         "type": "category"
        },
        "xaxis6": {
         "anchor": "y6",
         "categoryarray": [
          "0",
          "6",
          "12",
          "18",
          "24"
         ],
         "categoryorder": "array",
         "domain": [
          0.525,
          1
         ],
         "title": {
          "text": "Credits B1B2 - Program3 - 22/23"
         },
         "type": "category"
        },
        "xaxis7": {
         "anchor": "y7",
         "categoryarray": [
          "0",
          "6",
          "12",
          "18",
          "24"
         ],
         "categoryorder": "array",
         "domain": [
          0,
          0.475
         ],
         "title": {
          "text": "Credits B1B2 - Program4 - 21/22"
         },
         "type": "category"
        },
        "xaxis8": {
         "anchor": "y8",
         "categoryarray": [
          "0",
          "6",
          "12",
          "18",
          "24"
         ],
         "categoryorder": "array",
         "domain": [
          0.525,
          1
         ],
         "title": {
          "text": "Credits B1B2 - Program4 - 22/23"
         },
         "type": "category"
        },
        "yaxis": {
         "anchor": "x",
         "domain": [
          0.825,
          1
         ],
         "title": {
          "text": "Count"
         }
        },
        "yaxis2": {
         "anchor": "x2",
         "domain": [
          0.825,
          1
         ],
         "title": {
          "text": "Count"
         }
        },
        "yaxis3": {
         "anchor": "x3",
         "domain": [
          0.55,
          0.7250000000000001
         ],
         "title": {
          "text": "Count"
         }
        },
        "yaxis4": {
         "anchor": "x4",
         "domain": [
          0.55,
          0.7250000000000001
         ],
         "title": {
          "text": "Count"
         }
        },
        "yaxis5": {
         "anchor": "x5",
         "domain": [
          0.275,
          0.45
         ],
         "title": {
          "text": "Count"
         }
        },
        "yaxis6": {
         "anchor": "x6",
         "domain": [
          0.275,
          0.45
         ],
         "title": {
          "text": "Count"
         }
        },
        "yaxis7": {
         "anchor": "x7",
         "domain": [
          0,
          0.175
         ],
         "title": {
          "text": "Count"
         }
        },
        "yaxis8": {
         "anchor": "x8",
         "domain": [
          0,
          0.175
         ],
         "title": {
          "text": "Count"
         }
        }
       }
      }
     },
     "metadata": {},
     "output_type": "display_data"
    }
   ],
   "source": [
    "# Group by 'Year', 'Program', 'BSA', and 'Crd-B1B2', and count the number of occurrences\n",
    "df_agg = df.groupby(['Year', 'Program', 'BSA', 'Crd-B1B2']).size().reset_index(name='Count')\n",
    "\n",
    "# Define custom order and colors for BSA categories\n",
    "bsa_order = ['STGA', 'NE', 'PS', 'DI']\n",
    "bsa_colors = {\n",
    "    'STGA': '#4d4d4d',\n",
    "    'NE': '#b30000',\n",
    "    'PS': '#258e25',\n",
    "    'DI': 'lightblue'\n",
    "}\n",
    "\n",
    "\n",
    "# Create a figure with subplots arranged in a 4x2 grid\n",
    "fig = make_subplots(rows=4, cols=2, subplot_titles=[f'{program} - {year}' for program in programs for year in years], horizontal_spacing=0.05, vertical_spacing=0.1)\n",
    "\n",
    "# Loop through each subplot\n",
    "for i, program in enumerate(programs):\n",
    "    for j, year in enumerate(years):\n",
    "        # Filter data for the current year and program\n",
    "        df_subset = df_agg[(df_agg['Year'] == year) & (df_agg['Program'] == program)]\n",
    "        \n",
    "        # Change the order of df_subset based on bsa_order\n",
    "        df_subset['BSA'] = pd.Categorical(df_subset['BSA'], categories=bsa_order, ordered=True)\n",
    "        df_subset = df_subset.sort_values(by='BSA')\n",
    "        \n",
    "        # Create bar plot\n",
    "        for bsa in bsa_order:\n",
    "            df_bsa = df_subset[df_subset['BSA'] == bsa]\n",
    "            bar = go.Bar(\n",
    "                x=df_bsa['Crd-B1B2'].astype(str),  # Treat Crd-B1B2 values as strings\n",
    "                y=df_bsa['Count'],\n",
    "                marker=dict(color=bsa_colors[bsa]),\n",
    "                name=bsa,\n",
    "                legendgroup=f'{program}-{year}',  # Specify the legend group\n",
    "                text=df_bsa['Count'],  # Text for each bar\n",
    "                textposition='auto'  # Position of the text\n",
    "            )\n",
    "            \n",
    "            # Add bar plot to the corresponding subplot\n",
    "            fig.add_trace(bar, row=i+1, col=j+1)\n",
    "\n",
    "        # Update x-axis and y-axis labels\n",
    "        fig.update_xaxes(title_text=f'Credits B1B2 - {program} - {year}', type='category', row=i+1, col=j+1)\n",
    "        fig.update_yaxes(title_text='Count', row=i+1, col=j+1)\n",
    "\n",
    "\n",
    "# Manually create legend annotations\n",
    "legend_annotations = [\n",
    "    dict(\n",
    "        x=0.5,\n",
    "        y=-0.1,\n",
    "        xref='paper',\n",
    "        yref='paper',\n",
    "        text='Legend:',\n",
    "        showarrow=False,\n",
    "        font=dict(size=14)\n",
    "    )\n",
    "]\n",
    "\n",
    "# Add legend annotations for each BSA category\n",
    "for i, bsa in enumerate(bsa_order):\n",
    "    legend_annotations.append(\n",
    "        dict(\n",
    "            x=0.5 + 0.15 * i,\n",
    "            y=-0.1,\n",
    "            xref='paper',\n",
    "            yref='paper',\n",
    "            text=f'{bsa}',\n",
    "            showarrow=False,\n",
    "            font=dict(size=14),\n",
    "            bgcolor=bsa_colors[bsa],\n",
    "            bordercolor='black',\n",
    "            borderwidth=1,\n",
    "            borderpad=4,\n",
    "            yshift=-30\n",
    "        )\n",
    "    )\n",
    "\n",
    "# Update layout\n",
    "fig.update_layout(title='Count of Credits B1B2 Layered by BSA and Program', height=800, width=1200)\n",
    "fig.update_layout(height=1200, width=1600, bargap=0.2)\n",
    "fig.update_xaxes(categoryorder='array', categoryarray=[str(x) for x in credits_b1b2_values])\n",
    "fig.update_yaxes(title_text='Count')\n",
    "fig.update_layout(legend=dict(title=''), annotations=legend_annotations)  # Remove legend title\n",
    "fig.show()"
   ]
  }
 ],
 "metadata": {
  "kernelspec": {
   "display_name": "Python 3",
   "language": "python",
   "name": "python3"
  },
  "language_info": {
   "codemirror_mode": {
    "name": "ipython",
    "version": 3
   },
   "file_extension": ".py",
   "mimetype": "text/x-python",
   "name": "python",
   "nbconvert_exporter": "python",
   "pygments_lexer": "ipython3",
   "version": "3.12.0"
  }
 },
 "nbformat": 4,
 "nbformat_minor": 2
}
