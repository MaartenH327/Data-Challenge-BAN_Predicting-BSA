{
 "cells": [
  {
   "cell_type": "code",
   "execution_count": null,
   "metadata": {},
   "outputs": [],
   "source": [
    "import pandas as pd\n",
    "import numpy as np\n",
    "import matplotlib.pyplot as plt\n",
    "import seaborn as sns"
   ]
  },
  {
   "cell_type": "code",
   "execution_count": null,
   "metadata": {},
   "outputs": [],
   "source": [
    "df_programs = []\n",
    "\n",
    "for i in range(4):\n",
    "    #Train data\n",
    "    df = pd.read_excel('BSA-dataset_2122_2223-Train_stud_a.xlsx', sheet_name=i)\n",
    "    df1 = df[df[\"Year\"] == \"21/22\"]\n",
    "    df2 =df[df[\"Year\"] == \"22/23\"]\n",
    "\n",
    "    df1_val = df1.sample(frac=0.3, random_state=25)\n",
    "    df1_train = df1.drop(df1_val.index)\n",
    "\n",
    "    df1_val[\"Origin\"] = \"test\"\n",
    "    df1_train[\"Origin\"] = \"train\"\n",
    "\n",
    "    df1_final = pd.concat([df1_val,df1_train])\n",
    "\n",
    "\n",
    "\n",
    "    df2_val = df2.sample(frac=0.3, random_state=25)\n",
    "    df2_train = df2.drop(df2_val.index)\n",
    "\n",
    "    df2_val[\"Origin\"] = \"test\"\n",
    "    df2_train[\"Origin\"] = \"train\"\n",
    "\n",
    "\n",
    "    df2_final = pd.concat([df1_final,df2_train]) \n",
    "\n",
    "\n",
    "    df_final = pd.concat([df2_val,df2_final]) \n",
    "    df_programs.append(df_final)\n"
   ]
  },
  {
   "cell_type": "code",
   "execution_count": null,
   "metadata": {},
   "outputs": [],
   "source": [
    "df = pd.concat(df_programs,ignore_index=True)\n",
    "columns_to_drop = [col for col in df.columns if col.startswith(\"Co\")]\n",
    "df = df.drop(columns=columns_to_drop)\n",
    "df.columns"
   ]
  },
  {
   "cell_type": "code",
   "execution_count": null,
   "metadata": {},
   "outputs": [],
   "source": [
    "\n",
    "plt.figure(figsize=(8, 6))\n",
    "sns.countplot(x='Credits-Y1', data=df[df[\"\"]])\n",
    "plt.title('Credits year')\n",
    "plt.xlabel('Gender')\n",
    "plt.ylabel('Count')\n",
    "plt.show()\n"
   ]
  },
  {
   "cell_type": "code",
   "execution_count": null,
   "metadata": {},
   "outputs": [],
   "source": [
    "passed_counts = df[['BSA']].sum()\n",
    "\n",
    "# Plotting the count of students who passed each course\n",
    "plt.figure(figsize=(10, 6))\n",
    "sns.countplot(data=df, x =\"Program\", hue = \"BSA\")\n",
    "plt.title('Count of Students Who Passed Each Course')\n",
    "plt.xlabel('Course')\n",
    "plt.ylabel('Count')\n",
    "plt.show()\n"
   ]
  },
  {
   "cell_type": "code",
   "execution_count": null,
   "metadata": {},
   "outputs": [],
   "source": [
    "pivot_df = df.pivot_table(index=\"Program\", columns=\"BSA\", aggfunc=\"size\", fill_value=0)\n",
    "\n",
    "bsa_oder = [\"STGA\",\"NE\",\"PS\",\"DI\"]\n",
    "pivot_df = pivot_df.reindex(columns=bsa_oder)\n",
    "\n",
    "pivot_df.plot(kind=\"bar\", stacked=True,figsize=(10,6))\n",
    "\n",
    "plt.grid(True)"
   ]
  }
 ],
 "metadata": {
  "kernelspec": {
   "display_name": "Python 3",
   "language": "python",
   "name": "python3"
  },
  "language_info": {
   "codemirror_mode": {
    "name": "ipython",
    "version": 3
   },
   "file_extension": ".py",
   "mimetype": "text/x-python",
   "name": "python",
   "nbconvert_exporter": "python",
   "pygments_lexer": "ipython3",
   "version": "3.12.3"
  }
 },
 "nbformat": 4,
 "nbformat_minor": 2
}
