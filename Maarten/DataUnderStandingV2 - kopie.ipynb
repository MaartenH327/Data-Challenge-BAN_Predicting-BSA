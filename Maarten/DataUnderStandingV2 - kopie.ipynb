{
 "cells": [
  {
   "cell_type": "code",
   "execution_count": 57,
   "metadata": {},
   "outputs": [
    {
     "data": {
      "application/vnd.plotly.v1+json": {
       "config": {
        "plotlyServerURL": "https://plot.ly"
       },
       "data": [
        {
         "marker": {
          "color": "#4d4d4d"
         },
         "name": "STGA",
         "text": [
          2
         ],
         "textposition": "auto",
         "type": "bar",
         "x": [
          1
         ],
         "xaxis": "x",
         "y": [
          2
         ],
         "yaxis": "y"
        },
        {
         "marker": {
          "color": "#b30000"
         },
         "name": "NE",
         "text": [
          1,
          2
         ],
         "textposition": "auto",
         "type": "bar",
         "x": [
          0,
          1
         ],
         "xaxis": "x",
         "y": [
          1,
          2
         ],
         "yaxis": "y"
        },
        {
         "marker": {
          "color": "#258e25"
         },
         "name": "PS",
         "text": [
          1,
          3
         ],
         "textposition": "auto",
         "type": "bar",
         "x": [
          0,
          1
         ],
         "xaxis": "x",
         "y": [
          1,
          3
         ],
         "yaxis": "y"
        },
        {
         "marker": {
          "color": "lightblue"
         },
         "name": "DI",
         "text": [
          4,
          2
         ],
         "textposition": "auto",
         "type": "bar",
         "x": [
          0,
          1
         ],
         "xaxis": "x",
         "y": [
          4,
          2
         ],
         "yaxis": "y"
        },
        {
         "marker": {
          "color": "#4d4d4d"
         },
         "name": "STGA",
         "text": [
          1,
          1
         ],
         "textposition": "auto",
         "type": "bar",
         "x": [
          0,
          1
         ],
         "xaxis": "x2",
         "y": [
          1,
          1
         ],
         "yaxis": "y2"
        },
        {
         "marker": {
          "color": "#b30000"
         },
         "name": "NE",
         "text": [
          3
         ],
         "textposition": "auto",
         "type": "bar",
         "x": [
          0
         ],
         "xaxis": "x2",
         "y": [
          3
         ],
         "yaxis": "y2"
        },
        {
         "marker": {
          "color": "#258e25"
         },
         "name": "PS",
         "text": [
          3,
          1
         ],
         "textposition": "auto",
         "type": "bar",
         "x": [
          0,
          1
         ],
         "xaxis": "x2",
         "y": [
          3,
          1
         ],
         "yaxis": "y2"
        },
        {
         "marker": {
          "color": "lightblue"
         },
         "name": "DI",
         "text": [
          4,
          2
         ],
         "textposition": "auto",
         "type": "bar",
         "x": [
          0,
          1
         ],
         "xaxis": "x2",
         "y": [
          4,
          2
         ],
         "yaxis": "y2"
        },
        {
         "marker": {
          "color": "#4d4d4d"
         },
         "name": "STGA",
         "text": [
          2
         ],
         "textposition": "auto",
         "type": "bar",
         "x": [
          0
         ],
         "xaxis": "x3",
         "y": [
          2
         ],
         "yaxis": "y3"
        },
        {
         "marker": {
          "color": "#b30000"
         },
         "name": "NE",
         "text": [
          2,
          1
         ],
         "textposition": "auto",
         "type": "bar",
         "x": [
          0,
          1
         ],
         "xaxis": "x3",
         "y": [
          2,
          1
         ],
         "yaxis": "y3"
        },
        {
         "marker": {
          "color": "#258e25"
         },
         "name": "PS",
         "text": [
          3,
          1
         ],
         "textposition": "auto",
         "type": "bar",
         "x": [
          0,
          1
         ],
         "xaxis": "x3",
         "y": [
          3,
          1
         ],
         "yaxis": "y3"
        },
        {
         "marker": {
          "color": "lightblue"
         },
         "name": "DI",
         "text": [
          2,
          4
         ],
         "textposition": "auto",
         "type": "bar",
         "x": [
          0,
          1
         ],
         "xaxis": "x3",
         "y": [
          2,
          4
         ],
         "yaxis": "y3"
        },
        {
         "marker": {
          "color": "#4d4d4d"
         },
         "name": "STGA",
         "text": [
          1,
          1
         ],
         "textposition": "auto",
         "type": "bar",
         "x": [
          0,
          1
         ],
         "xaxis": "x4",
         "y": [
          1,
          1
         ],
         "yaxis": "y4"
        },
        {
         "marker": {
          "color": "#b30000"
         },
         "name": "NE",
         "text": [
          2,
          1
         ],
         "textposition": "auto",
         "type": "bar",
         "x": [
          0,
          1
         ],
         "xaxis": "x4",
         "y": [
          2,
          1
         ],
         "yaxis": "y4"
        },
        {
         "marker": {
          "color": "#258e25"
         },
         "name": "PS",
         "text": [
          4
         ],
         "textposition": "auto",
         "type": "bar",
         "x": [
          1
         ],
         "xaxis": "x4",
         "y": [
          4
         ],
         "yaxis": "y4"
        },
        {
         "marker": {
          "color": "lightblue"
         },
         "name": "DI",
         "text": [
          1,
          5
         ],
         "textposition": "auto",
         "type": "bar",
         "x": [
          0,
          1
         ],
         "xaxis": "x4",
         "y": [
          1,
          5
         ],
         "yaxis": "y4"
        },
        {
         "marker": {
          "color": "#4d4d4d"
         },
         "name": "STGA",
         "text": [
          3
         ],
         "textposition": "auto",
         "type": "bar",
         "x": [
          1
         ],
         "xaxis": "x5",
         "y": [
          3
         ],
         "yaxis": "y5"
        },
        {
         "marker": {
          "color": "#b30000"
         },
         "name": "NE",
         "text": [
          2,
          2
         ],
         "textposition": "auto",
         "type": "bar",
         "x": [
          0,
          1
         ],
         "xaxis": "x5",
         "y": [
          2,
          2
         ],
         "yaxis": "y5"
        },
        {
         "marker": {
          "color": "#258e25"
         },
         "name": "PS",
         "text": [],
         "textposition": "auto",
         "type": "bar",
         "x": [],
         "xaxis": "x5",
         "y": [],
         "yaxis": "y5"
        },
        {
         "marker": {
          "color": "lightblue"
         },
         "name": "DI",
         "text": [
          1,
          3
         ],
         "textposition": "auto",
         "type": "bar",
         "x": [
          0,
          1
         ],
         "xaxis": "x5",
         "y": [
          1,
          3
         ],
         "yaxis": "y5"
        },
        {
         "marker": {
          "color": "#4d4d4d"
         },
         "name": "STGA",
         "text": [
          2,
          1
         ],
         "textposition": "auto",
         "type": "bar",
         "x": [
          0,
          1
         ],
         "xaxis": "x6",
         "y": [
          2,
          1
         ],
         "yaxis": "y6"
        },
        {
         "marker": {
          "color": "#b30000"
         },
         "name": "NE",
         "text": [
          2,
          2
         ],
         "textposition": "auto",
         "type": "bar",
         "x": [
          0,
          1
         ],
         "xaxis": "x6",
         "y": [
          2,
          2
         ],
         "yaxis": "y6"
        },
        {
         "marker": {
          "color": "#258e25"
         },
         "name": "PS",
         "text": [],
         "textposition": "auto",
         "type": "bar",
         "x": [],
         "xaxis": "x6",
         "y": [],
         "yaxis": "y6"
        },
        {
         "marker": {
          "color": "lightblue"
         },
         "name": "DI",
         "text": [
          2,
          2
         ],
         "textposition": "auto",
         "type": "bar",
         "x": [
          0,
          1
         ],
         "xaxis": "x6",
         "y": [
          2,
          2
         ],
         "yaxis": "y6"
        },
        {
         "marker": {
          "color": "#4d4d4d"
         },
         "name": "STGA",
         "text": [
          2,
          1
         ],
         "textposition": "auto",
         "type": "bar",
         "x": [
          0,
          1
         ],
         "xaxis": "x7",
         "y": [
          2,
          1
         ],
         "yaxis": "y7"
        },
        {
         "marker": {
          "color": "#b30000"
         },
         "name": "NE",
         "text": [
          4
         ],
         "textposition": "auto",
         "type": "bar",
         "x": [
          0
         ],
         "xaxis": "x7",
         "y": [
          4
         ],
         "yaxis": "y7"
        },
        {
         "marker": {
          "color": "#258e25"
         },
         "name": "PS",
         "text": [],
         "textposition": "auto",
         "type": "bar",
         "x": [],
         "xaxis": "x7",
         "y": [],
         "yaxis": "y7"
        },
        {
         "marker": {
          "color": "lightblue"
         },
         "name": "DI",
         "text": [
          4
         ],
         "textposition": "auto",
         "type": "bar",
         "x": [
          1
         ],
         "xaxis": "x7",
         "y": [
          4
         ],
         "yaxis": "y7"
        },
        {
         "marker": {
          "color": "#4d4d4d"
         },
         "name": "STGA",
         "text": [
          2,
          1
         ],
         "textposition": "auto",
         "type": "bar",
         "x": [
          0,
          1
         ],
         "xaxis": "x8",
         "y": [
          2,
          1
         ],
         "yaxis": "y8"
        },
        {
         "marker": {
          "color": "#b30000"
         },
         "name": "NE",
         "text": [
          3,
          1
         ],
         "textposition": "auto",
         "type": "bar",
         "x": [
          0,
          1
         ],
         "xaxis": "x8",
         "y": [
          3,
          1
         ],
         "yaxis": "y8"
        },
        {
         "marker": {
          "color": "#258e25"
         },
         "name": "PS",
         "text": [],
         "textposition": "auto",
         "type": "bar",
         "x": [],
         "xaxis": "x8",
         "y": [],
         "yaxis": "y8"
        },
        {
         "marker": {
          "color": "lightblue"
         },
         "name": "DI",
         "text": [
          3,
          1
         ],
         "textposition": "auto",
         "type": "bar",
         "x": [
          0,
          1
         ],
         "xaxis": "x8",
         "y": [
          3,
          1
         ],
         "yaxis": "y8"
        },
        {
         "marker": {
          "color": "#4d4d4d"
         },
         "name": "STGA",
         "text": [],
         "textposition": "auto",
         "type": "bar",
         "x": [],
         "xaxis": "x9",
         "y": [],
         "yaxis": "y9"
        },
        {
         "marker": {
          "color": "#b30000"
         },
         "name": "NE",
         "text": [
          2,
          1
         ],
         "textposition": "auto",
         "type": "bar",
         "x": [
          0,
          1
         ],
         "xaxis": "x9",
         "y": [
          2,
          1
         ],
         "yaxis": "y9"
        },
        {
         "marker": {
          "color": "#258e25"
         },
         "name": "PS",
         "text": [
          1,
          2
         ],
         "textposition": "auto",
         "type": "bar",
         "x": [
          0,
          1
         ],
         "xaxis": "x9",
         "y": [
          1,
          2
         ],
         "yaxis": "y9"
        },
        {
         "marker": {
          "color": "lightblue"
         },
         "name": "DI",
         "text": [
          1,
          1
         ],
         "textposition": "auto",
         "type": "bar",
         "x": [
          0,
          1
         ],
         "xaxis": "x9",
         "y": [
          1,
          1
         ],
         "yaxis": "y9"
        },
        {
         "marker": {
          "color": "#4d4d4d"
         },
         "name": "STGA",
         "text": [],
         "textposition": "auto",
         "type": "bar",
         "x": [],
         "xaxis": "x10",
         "y": [],
         "yaxis": "y10"
        },
        {
         "marker": {
          "color": "#b30000"
         },
         "name": "NE",
         "text": [
          3
         ],
         "textposition": "auto",
         "type": "bar",
         "x": [
          1
         ],
         "xaxis": "x10",
         "y": [
          3
         ],
         "yaxis": "y10"
        },
        {
         "marker": {
          "color": "#258e25"
         },
         "name": "PS",
         "text": [
          2,
          1
         ],
         "textposition": "auto",
         "type": "bar",
         "x": [
          0,
          1
         ],
         "xaxis": "x10",
         "y": [
          2,
          1
         ],
         "yaxis": "y10"
        },
        {
         "marker": {
          "color": "lightblue"
         },
         "name": "DI",
         "text": [
          2
         ],
         "textposition": "auto",
         "type": "bar",
         "x": [
          0
         ],
         "xaxis": "x10",
         "y": [
          2
         ],
         "yaxis": "y10"
        },
        {
         "marker": {
          "color": "#4d4d4d"
         },
         "name": "STGA",
         "text": [],
         "textposition": "auto",
         "type": "bar",
         "x": [],
         "xaxis": "x11",
         "y": [],
         "yaxis": "y11"
        },
        {
         "marker": {
          "color": "#b30000"
         },
         "name": "NE",
         "text": [
          1,
          2
         ],
         "textposition": "auto",
         "type": "bar",
         "x": [
          0,
          1
         ],
         "xaxis": "x11",
         "y": [
          1,
          2
         ],
         "yaxis": "y11"
        },
        {
         "marker": {
          "color": "#258e25"
         },
         "name": "PS",
         "text": [
          3
         ],
         "textposition": "auto",
         "type": "bar",
         "x": [
          1
         ],
         "xaxis": "x11",
         "y": [
          3
         ],
         "yaxis": "y11"
        },
        {
         "marker": {
          "color": "lightblue"
         },
         "name": "DI",
         "text": [
          1,
          1
         ],
         "textposition": "auto",
         "type": "bar",
         "x": [
          0,
          1
         ],
         "xaxis": "x11",
         "y": [
          1,
          1
         ],
         "yaxis": "y11"
        },
        {
         "marker": {
          "color": "#4d4d4d"
         },
         "name": "STGA",
         "text": [],
         "textposition": "auto",
         "type": "bar",
         "x": [],
         "xaxis": "x12",
         "y": [],
         "yaxis": "y12"
        },
        {
         "marker": {
          "color": "#b30000"
         },
         "name": "NE",
         "text": [
          1,
          2
         ],
         "textposition": "auto",
         "type": "bar",
         "x": [
          0,
          1
         ],
         "xaxis": "x12",
         "y": [
          1,
          2
         ],
         "yaxis": "y12"
        },
        {
         "marker": {
          "color": "#258e25"
         },
         "name": "PS",
         "text": [
          2,
          1
         ],
         "textposition": "auto",
         "type": "bar",
         "x": [
          0,
          1
         ],
         "xaxis": "x12",
         "y": [
          2,
          1
         ],
         "yaxis": "y12"
        },
        {
         "marker": {
          "color": "lightblue"
         },
         "name": "DI",
         "text": [
          2
         ],
         "textposition": "auto",
         "type": "bar",
         "x": [
          0
         ],
         "xaxis": "x12",
         "y": [
          2
         ],
         "yaxis": "y12"
        },
        {
         "marker": {
          "color": "#4d4d4d"
         },
         "name": "STGA",
         "text": [
          4
         ],
         "textposition": "auto",
         "type": "bar",
         "x": [
          0
         ],
         "xaxis": "x13",
         "y": [
          4
         ],
         "yaxis": "y13"
        },
        {
         "marker": {
          "color": "#b30000"
         },
         "name": "NE",
         "text": [
          1,
          1
         ],
         "textposition": "auto",
         "type": "bar",
         "x": [
          0,
          1
         ],
         "xaxis": "x13",
         "y": [
          1,
          1
         ],
         "yaxis": "y13"
        },
        {
         "marker": {
          "color": "#258e25"
         },
         "name": "PS",
         "text": [
          1,
          1
         ],
         "textposition": "auto",
         "type": "bar",
         "x": [
          0,
          1
         ],
         "xaxis": "x13",
         "y": [
          1,
          1
         ],
         "yaxis": "y13"
        },
        {
         "marker": {
          "color": "lightblue"
         },
         "name": "DI",
         "text": [
          2,
          2
         ],
         "textposition": "auto",
         "type": "bar",
         "x": [
          0,
          1
         ],
         "xaxis": "x13",
         "y": [
          2,
          2
         ],
         "yaxis": "y13"
        },
        {
         "marker": {
          "color": "#4d4d4d"
         },
         "name": "STGA",
         "text": [
          4
         ],
         "textposition": "auto",
         "type": "bar",
         "x": [
          0
         ],
         "xaxis": "x14",
         "y": [
          4
         ],
         "yaxis": "y14"
        },
        {
         "marker": {
          "color": "#b30000"
         },
         "name": "NE",
         "text": [
          2
         ],
         "textposition": "auto",
         "type": "bar",
         "x": [
          0
         ],
         "xaxis": "x14",
         "y": [
          2
         ],
         "yaxis": "y14"
        },
        {
         "marker": {
          "color": "#258e25"
         },
         "name": "PS",
         "text": [
          2
         ],
         "textposition": "auto",
         "type": "bar",
         "x": [
          1
         ],
         "xaxis": "x14",
         "y": [
          2
         ],
         "yaxis": "y14"
        },
        {
         "marker": {
          "color": "lightblue"
         },
         "name": "DI",
         "text": [
          2,
          2
         ],
         "textposition": "auto",
         "type": "bar",
         "x": [
          0,
          1
         ],
         "xaxis": "x14",
         "y": [
          2,
          2
         ],
         "yaxis": "y14"
        },
        {
         "marker": {
          "color": "#4d4d4d"
         },
         "name": "STGA",
         "text": [
          1,
          3
         ],
         "textposition": "auto",
         "type": "bar",
         "x": [
          0,
          1
         ],
         "xaxis": "x15",
         "y": [
          1,
          3
         ],
         "yaxis": "y15"
        },
        {
         "marker": {
          "color": "#b30000"
         },
         "name": "NE",
         "text": [
          2
         ],
         "textposition": "auto",
         "type": "bar",
         "x": [
          0
         ],
         "xaxis": "x15",
         "y": [
          2
         ],
         "yaxis": "y15"
        },
        {
         "marker": {
          "color": "#258e25"
         },
         "name": "PS",
         "text": [
          1,
          1
         ],
         "textposition": "auto",
         "type": "bar",
         "x": [
          0,
          1
         ],
         "xaxis": "x15",
         "y": [
          1,
          1
         ],
         "yaxis": "y15"
        },
        {
         "marker": {
          "color": "lightblue"
         },
         "name": "DI",
         "text": [
          1,
          3
         ],
         "textposition": "auto",
         "type": "bar",
         "x": [
          0,
          1
         ],
         "xaxis": "x15",
         "y": [
          1,
          3
         ],
         "yaxis": "y15"
        },
        {
         "marker": {
          "color": "#4d4d4d"
         },
         "name": "STGA",
         "text": [
          3,
          1
         ],
         "textposition": "auto",
         "type": "bar",
         "x": [
          0,
          1
         ],
         "xaxis": "x16",
         "y": [
          3,
          1
         ],
         "yaxis": "y16"
        },
        {
         "marker": {
          "color": "#b30000"
         },
         "name": "NE",
         "text": [
          1,
          1
         ],
         "textposition": "auto",
         "type": "bar",
         "x": [
          0,
          1
         ],
         "xaxis": "x16",
         "y": [
          1,
          1
         ],
         "yaxis": "y16"
        },
        {
         "marker": {
          "color": "#258e25"
         },
         "name": "PS",
         "text": [
          1,
          1
         ],
         "textposition": "auto",
         "type": "bar",
         "x": [
          0,
          1
         ],
         "xaxis": "x16",
         "y": [
          1,
          1
         ],
         "yaxis": "y16"
        },
        {
         "marker": {
          "color": "lightblue"
         },
         "name": "DI",
         "text": [
          2,
          2
         ],
         "textposition": "auto",
         "type": "bar",
         "x": [
          0,
          1
         ],
         "xaxis": "x16",
         "y": [
          2,
          2
         ],
         "yaxis": "y16"
        },
        {
         "marker": {
          "color": "#4d4d4d"
         },
         "name": "STGA",
         "text": [
          2,
          1
         ],
         "textposition": "auto",
         "type": "bar",
         "x": [
          0,
          1
         ],
         "xaxis": "x17",
         "y": [
          2,
          1
         ],
         "yaxis": "y17"
        },
        {
         "marker": {
          "color": "#b30000"
         },
         "name": "NE",
         "text": [
          1
         ],
         "textposition": "auto",
         "type": "bar",
         "x": [
          0
         ],
         "xaxis": "x17",
         "y": [
          1
         ],
         "yaxis": "y17"
        },
        {
         "marker": {
          "color": "#258e25"
         },
         "name": "PS",
         "text": [
          1,
          2
         ],
         "textposition": "auto",
         "type": "bar",
         "x": [
          0,
          1
         ],
         "xaxis": "x17",
         "y": [
          1,
          2
         ],
         "yaxis": "y17"
        },
        {
         "marker": {
          "color": "lightblue"
         },
         "name": "DI",
         "text": [
          1,
          2
         ],
         "textposition": "auto",
         "type": "bar",
         "x": [
          0,
          1
         ],
         "xaxis": "x17",
         "y": [
          1,
          2
         ],
         "yaxis": "y17"
        },
        {
         "marker": {
          "color": "#4d4d4d"
         },
         "name": "STGA",
         "text": [
          2,
          1
         ],
         "textposition": "auto",
         "type": "bar",
         "x": [
          0,
          1
         ],
         "xaxis": "x18",
         "y": [
          2,
          1
         ],
         "yaxis": "y18"
        },
        {
         "marker": {
          "color": "#b30000"
         },
         "name": "NE",
         "text": [
          1
         ],
         "textposition": "auto",
         "type": "bar",
         "x": [
          0
         ],
         "xaxis": "x18",
         "y": [
          1
         ],
         "yaxis": "y18"
        },
        {
         "marker": {
          "color": "#258e25"
         },
         "name": "PS",
         "text": [
          3
         ],
         "textposition": "auto",
         "type": "bar",
         "x": [
          1
         ],
         "xaxis": "x18",
         "y": [
          3
         ],
         "yaxis": "y18"
        },
        {
         "marker": {
          "color": "lightblue"
         },
         "name": "DI",
         "text": [
          3
         ],
         "textposition": "auto",
         "type": "bar",
         "x": [
          1
         ],
         "xaxis": "x18",
         "y": [
          3
         ],
         "yaxis": "y18"
        },
        {
         "marker": {
          "color": "#4d4d4d"
         },
         "name": "STGA",
         "text": [
          2,
          1
         ],
         "textposition": "auto",
         "type": "bar",
         "x": [
          0,
          1
         ],
         "xaxis": "x19",
         "y": [
          2,
          1
         ],
         "yaxis": "y19"
        },
        {
         "marker": {
          "color": "#b30000"
         },
         "name": "NE",
         "text": [
          1
         ],
         "textposition": "auto",
         "type": "bar",
         "x": [
          1
         ],
         "xaxis": "x19",
         "y": [
          1
         ],
         "yaxis": "y19"
        },
        {
         "marker": {
          "color": "#258e25"
         },
         "name": "PS",
         "text": [
          2,
          1
         ],
         "textposition": "auto",
         "type": "bar",
         "x": [
          0,
          1
         ],
         "xaxis": "x19",
         "y": [
          2,
          1
         ],
         "yaxis": "y19"
        },
        {
         "marker": {
          "color": "lightblue"
         },
         "name": "DI",
         "text": [
          1,
          2
         ],
         "textposition": "auto",
         "type": "bar",
         "x": [
          0,
          1
         ],
         "xaxis": "x19",
         "y": [
          1,
          2
         ],
         "yaxis": "y19"
        },
        {
         "marker": {
          "color": "#4d4d4d"
         },
         "name": "STGA",
         "text": [
          2,
          1
         ],
         "textposition": "auto",
         "type": "bar",
         "x": [
          0,
          1
         ],
         "xaxis": "x20",
         "y": [
          2,
          1
         ],
         "yaxis": "y20"
        },
        {
         "marker": {
          "color": "#b30000"
         },
         "name": "NE",
         "text": [
          1
         ],
         "textposition": "auto",
         "type": "bar",
         "x": [
          0
         ],
         "xaxis": "x20",
         "y": [
          1
         ],
         "yaxis": "y20"
        },
        {
         "marker": {
          "color": "#258e25"
         },
         "name": "PS",
         "text": [
          1,
          2
         ],
         "textposition": "auto",
         "type": "bar",
         "x": [
          0,
          1
         ],
         "xaxis": "x20",
         "y": [
          1,
          2
         ],
         "yaxis": "y20"
        },
        {
         "marker": {
          "color": "lightblue"
         },
         "name": "DI",
         "text": [
          1,
          2
         ],
         "textposition": "auto",
         "type": "bar",
         "x": [
          0,
          1
         ],
         "xaxis": "x20",
         "y": [
          1,
          2
         ],
         "yaxis": "y20"
        },
        {
         "marker": {
          "color": "#4d4d4d"
         },
         "name": "STGA",
         "text": [
          3,
          4
         ],
         "textposition": "auto",
         "type": "bar",
         "x": [
          0,
          1
         ],
         "xaxis": "x21",
         "y": [
          3,
          4
         ],
         "yaxis": "y21"
        },
        {
         "marker": {
          "color": "#b30000"
         },
         "name": "NE",
         "text": [
          1,
          4
         ],
         "textposition": "auto",
         "type": "bar",
         "x": [
          0,
          1
         ],
         "xaxis": "x21",
         "y": [
          1,
          4
         ],
         "yaxis": "y21"
        },
        {
         "marker": {
          "color": "#258e25"
         },
         "name": "PS",
         "text": [
          2,
          3
         ],
         "textposition": "auto",
         "type": "bar",
         "x": [
          0,
          1
         ],
         "xaxis": "x21",
         "y": [
          2,
          3
         ],
         "yaxis": "y21"
        },
        {
         "marker": {
          "color": "lightblue"
         },
         "name": "DI",
         "text": [
          1,
          2
         ],
         "textposition": "auto",
         "type": "bar",
         "x": [
          0,
          1
         ],
         "xaxis": "x21",
         "y": [
          1,
          2
         ],
         "yaxis": "y21"
        },
        {
         "marker": {
          "color": "#4d4d4d"
         },
         "name": "STGA",
         "text": [
          3,
          4
         ],
         "textposition": "auto",
         "type": "bar",
         "x": [
          0,
          1
         ],
         "xaxis": "x22",
         "y": [
          3,
          4
         ],
         "yaxis": "y22"
        },
        {
         "marker": {
          "color": "#b30000"
         },
         "name": "NE",
         "text": [
          4,
          1
         ],
         "textposition": "auto",
         "type": "bar",
         "x": [
          0,
          1
         ],
         "xaxis": "x22",
         "y": [
          4,
          1
         ],
         "yaxis": "y22"
        },
        {
         "marker": {
          "color": "#258e25"
         },
         "name": "PS",
         "text": [
          5
         ],
         "textposition": "auto",
         "type": "bar",
         "x": [
          0
         ],
         "xaxis": "x22",
         "y": [
          5
         ],
         "yaxis": "y22"
        },
        {
         "marker": {
          "color": "lightblue"
         },
         "name": "DI",
         "text": [
          2,
          1
         ],
         "textposition": "auto",
         "type": "bar",
         "x": [
          0,
          1
         ],
         "xaxis": "x22",
         "y": [
          2,
          1
         ],
         "yaxis": "y22"
        },
        {
         "marker": {
          "color": "#4d4d4d"
         },
         "name": "STGA",
         "text": [
          4,
          3
         ],
         "textposition": "auto",
         "type": "bar",
         "x": [
          0,
          1
         ],
         "xaxis": "x23",
         "y": [
          4,
          3
         ],
         "yaxis": "y23"
        },
        {
         "marker": {
          "color": "#b30000"
         },
         "name": "NE",
         "text": [
          2,
          3
         ],
         "textposition": "auto",
         "type": "bar",
         "x": [
          0,
          1
         ],
         "xaxis": "x23",
         "y": [
          2,
          3
         ],
         "yaxis": "y23"
        },
        {
         "marker": {
          "color": "#258e25"
         },
         "name": "PS",
         "text": [
          2,
          3
         ],
         "textposition": "auto",
         "type": "bar",
         "x": [
          0,
          1
         ],
         "xaxis": "x23",
         "y": [
          2,
          3
         ],
         "yaxis": "y23"
        },
        {
         "marker": {
          "color": "lightblue"
         },
         "name": "DI",
         "text": [
          3
         ],
         "textposition": "auto",
         "type": "bar",
         "x": [
          0
         ],
         "xaxis": "x23",
         "y": [
          3
         ],
         "yaxis": "y23"
        },
        {
         "marker": {
          "color": "#4d4d4d"
         },
         "name": "STGA",
         "text": [
          5,
          2
         ],
         "textposition": "auto",
         "type": "bar",
         "x": [
          0,
          1
         ],
         "xaxis": "x24",
         "y": [
          5,
          2
         ],
         "yaxis": "y24"
        },
        {
         "marker": {
          "color": "#b30000"
         },
         "name": "NE",
         "text": [
          2,
          3
         ],
         "textposition": "auto",
         "type": "bar",
         "x": [
          0,
          1
         ],
         "xaxis": "x24",
         "y": [
          2,
          3
         ],
         "yaxis": "y24"
        },
        {
         "marker": {
          "color": "#258e25"
         },
         "name": "PS",
         "text": [
          3,
          2
         ],
         "textposition": "auto",
         "type": "bar",
         "x": [
          0,
          1
         ],
         "xaxis": "x24",
         "y": [
          3,
          2
         ],
         "yaxis": "y24"
        },
        {
         "marker": {
          "color": "lightblue"
         },
         "name": "DI",
         "text": [
          2,
          1
         ],
         "textposition": "auto",
         "type": "bar",
         "x": [
          0,
          1
         ],
         "xaxis": "x24",
         "y": [
          2,
          1
         ],
         "yaxis": "y24"
        },
        {
         "marker": {
          "color": "#4d4d4d"
         },
         "name": "STGA",
         "text": [
          3,
          3
         ],
         "textposition": "auto",
         "type": "bar",
         "x": [
          0,
          1
         ],
         "xaxis": "x25",
         "y": [
          3,
          3
         ],
         "yaxis": "y25"
        },
        {
         "marker": {
          "color": "#b30000"
         },
         "name": "NE",
         "text": [
          2
         ],
         "textposition": "auto",
         "type": "bar",
         "x": [
          0
         ],
         "xaxis": "x25",
         "y": [
          2
         ],
         "yaxis": "y25"
        },
        {
         "marker": {
          "color": "#258e25"
         },
         "name": "PS",
         "text": [
          2
         ],
         "textposition": "auto",
         "type": "bar",
         "x": [
          1
         ],
         "xaxis": "x25",
         "y": [
          2
         ],
         "yaxis": "y25"
        },
        {
         "marker": {
          "color": "lightblue"
         },
         "name": "DI",
         "text": [
          1
         ],
         "textposition": "auto",
         "type": "bar",
         "x": [
          0
         ],
         "xaxis": "x25",
         "y": [
          1
         ],
         "yaxis": "y25"
        },
        {
         "marker": {
          "color": "#4d4d4d"
         },
         "name": "STGA",
         "text": [
          4,
          2
         ],
         "textposition": "auto",
         "type": "bar",
         "x": [
          0,
          1
         ],
         "xaxis": "x26",
         "y": [
          4,
          2
         ],
         "yaxis": "y26"
        },
        {
         "marker": {
          "color": "#b30000"
         },
         "name": "NE",
         "text": [
          1,
          1
         ],
         "textposition": "auto",
         "type": "bar",
         "x": [
          0,
          1
         ],
         "xaxis": "x26",
         "y": [
          1,
          1
         ],
         "yaxis": "y26"
        },
        {
         "marker": {
          "color": "#258e25"
         },
         "name": "PS",
         "text": [
          1,
          1
         ],
         "textposition": "auto",
         "type": "bar",
         "x": [
          0,
          1
         ],
         "xaxis": "x26",
         "y": [
          1,
          1
         ],
         "yaxis": "y26"
        },
        {
         "marker": {
          "color": "lightblue"
         },
         "name": "DI",
         "text": [
          1
         ],
         "textposition": "auto",
         "type": "bar",
         "x": [
          1
         ],
         "xaxis": "x26",
         "y": [
          1
         ],
         "yaxis": "y26"
        },
        {
         "marker": {
          "color": "#4d4d4d"
         },
         "name": "STGA",
         "text": [
          4,
          2
         ],
         "textposition": "auto",
         "type": "bar",
         "x": [
          0,
          1
         ],
         "xaxis": "x27",
         "y": [
          4,
          2
         ],
         "yaxis": "y27"
        },
        {
         "marker": {
          "color": "#b30000"
         },
         "name": "NE",
         "text": [
          1,
          1
         ],
         "textposition": "auto",
         "type": "bar",
         "x": [
          0,
          1
         ],
         "xaxis": "x27",
         "y": [
          1,
          1
         ],
         "yaxis": "y27"
        },
        {
         "marker": {
          "color": "#258e25"
         },
         "name": "PS",
         "text": [
          2
         ],
         "textposition": "auto",
         "type": "bar",
         "x": [
          0
         ],
         "xaxis": "x27",
         "y": [
          2
         ],
         "yaxis": "y27"
        },
        {
         "marker": {
          "color": "lightblue"
         },
         "name": "DI",
         "text": [
          1
         ],
         "textposition": "auto",
         "type": "bar",
         "x": [
          0
         ],
         "xaxis": "x27",
         "y": [
          1
         ],
         "yaxis": "y27"
        },
        {
         "marker": {
          "color": "#4d4d4d"
         },
         "name": "STGA",
         "text": [
          2,
          4
         ],
         "textposition": "auto",
         "type": "bar",
         "x": [
          0,
          1
         ],
         "xaxis": "x28",
         "y": [
          2,
          4
         ],
         "yaxis": "y28"
        },
        {
         "marker": {
          "color": "#b30000"
         },
         "name": "NE",
         "text": [
          2
         ],
         "textposition": "auto",
         "type": "bar",
         "x": [
          0
         ],
         "xaxis": "x28",
         "y": [
          2
         ],
         "yaxis": "y28"
        },
        {
         "marker": {
          "color": "#258e25"
         },
         "name": "PS",
         "text": [
          2
         ],
         "textposition": "auto",
         "type": "bar",
         "x": [
          1
         ],
         "xaxis": "x28",
         "y": [
          2
         ],
         "yaxis": "y28"
        },
        {
         "marker": {
          "color": "lightblue"
         },
         "name": "DI",
         "text": [
          1
         ],
         "textposition": "auto",
         "type": "bar",
         "x": [
          0
         ],
         "xaxis": "x28",
         "y": [
          1
         ],
         "yaxis": "y28"
        },
        {
         "marker": {
          "color": "#4d4d4d"
         },
         "name": "STGA",
         "text": [
          2,
          1
         ],
         "textposition": "auto",
         "type": "bar",
         "x": [
          0,
          1
         ],
         "xaxis": "x29",
         "y": [
          2,
          1
         ],
         "yaxis": "y29"
        },
        {
         "marker": {
          "color": "#b30000"
         },
         "name": "NE",
         "text": [
          1,
          1
         ],
         "textposition": "auto",
         "type": "bar",
         "x": [
          0,
          1
         ],
         "xaxis": "x29",
         "y": [
          1,
          1
         ],
         "yaxis": "y29"
        },
        {
         "marker": {
          "color": "#258e25"
         },
         "name": "PS",
         "text": [
          1,
          3
         ],
         "textposition": "auto",
         "type": "bar",
         "x": [
          0,
          1
         ],
         "xaxis": "x29",
         "y": [
          1,
          3
         ],
         "yaxis": "y29"
        },
        {
         "marker": {
          "color": "lightblue"
         },
         "name": "DI",
         "text": [
          4
         ],
         "textposition": "auto",
         "type": "bar",
         "x": [
          0
         ],
         "xaxis": "x29",
         "y": [
          4
         ],
         "yaxis": "y29"
        },
        {
         "marker": {
          "color": "#4d4d4d"
         },
         "name": "STGA",
         "text": [
          2,
          1
         ],
         "textposition": "auto",
         "type": "bar",
         "x": [
          0,
          1
         ],
         "xaxis": "x30",
         "y": [
          2,
          1
         ],
         "yaxis": "y30"
        },
        {
         "marker": {
          "color": "#b30000"
         },
         "name": "NE",
         "text": [
          1,
          1
         ],
         "textposition": "auto",
         "type": "bar",
         "x": [
          0,
          1
         ],
         "xaxis": "x30",
         "y": [
          1,
          1
         ],
         "yaxis": "y30"
        },
        {
         "marker": {
          "color": "#258e25"
         },
         "name": "PS",
         "text": [
          4
         ],
         "textposition": "auto",
         "type": "bar",
         "x": [
          1
         ],
         "xaxis": "x30",
         "y": [
          4
         ],
         "yaxis": "y30"
        },
        {
         "marker": {
          "color": "lightblue"
         },
         "name": "DI",
         "text": [
          2,
          2
         ],
         "textposition": "auto",
         "type": "bar",
         "x": [
          0,
          1
         ],
         "xaxis": "x30",
         "y": [
          2,
          2
         ],
         "yaxis": "y30"
        },
        {
         "marker": {
          "color": "#4d4d4d"
         },
         "name": "STGA",
         "text": [
          2,
          1
         ],
         "textposition": "auto",
         "type": "bar",
         "x": [
          0,
          1
         ],
         "xaxis": "x31",
         "y": [
          2,
          1
         ],
         "yaxis": "y31"
        },
        {
         "marker": {
          "color": "#b30000"
         },
         "name": "NE",
         "text": [
          2
         ],
         "textposition": "auto",
         "type": "bar",
         "x": [
          0
         ],
         "xaxis": "x31",
         "y": [
          2
         ],
         "yaxis": "y31"
        },
        {
         "marker": {
          "color": "#258e25"
         },
         "name": "PS",
         "text": [
          4
         ],
         "textposition": "auto",
         "type": "bar",
         "x": [
          1
         ],
         "xaxis": "x31",
         "y": [
          4
         ],
         "yaxis": "y31"
        },
        {
         "marker": {
          "color": "lightblue"
         },
         "name": "DI",
         "text": [
          1,
          3
         ],
         "textposition": "auto",
         "type": "bar",
         "x": [
          0,
          1
         ],
         "xaxis": "x31",
         "y": [
          1,
          3
         ],
         "yaxis": "y31"
        },
        {
         "marker": {
          "color": "#4d4d4d"
         },
         "name": "STGA",
         "text": [
          2,
          1
         ],
         "textposition": "auto",
         "type": "bar",
         "x": [
          0,
          1
         ],
         "xaxis": "x32",
         "y": [
          2,
          1
         ],
         "yaxis": "y32"
        },
        {
         "marker": {
          "color": "#b30000"
         },
         "name": "NE",
         "text": [
          2
         ],
         "textposition": "auto",
         "type": "bar",
         "x": [
          0
         ],
         "xaxis": "x32",
         "y": [
          2
         ],
         "yaxis": "y32"
        },
        {
         "marker": {
          "color": "#258e25"
         },
         "name": "PS",
         "text": [
          4
         ],
         "textposition": "auto",
         "type": "bar",
         "x": [
          0
         ],
         "xaxis": "x32",
         "y": [
          4
         ],
         "yaxis": "y32"
        },
        {
         "marker": {
          "color": "lightblue"
         },
         "name": "DI",
         "text": [
          4
         ],
         "textposition": "auto",
         "type": "bar",
         "x": [
          0
         ],
         "xaxis": "x32",
         "y": [
          4
         ],
         "yaxis": "y32"
        }
       ],
       "layout": {
        "annotations": [
         {
          "font": {
           "size": 12
          },
          "showarrow": false,
          "text": "Program1 21/22 CourseA1",
          "x": 0.10625,
          "xanchor": "center",
          "xref": "paper",
          "y": 1,
          "yanchor": "bottom",
          "yref": "paper"
         },
         {
          "font": {
           "size": 12
          },
          "showarrow": false,
          "text": "Program1 21/22 CourseB1",
          "x": 0.36875,
          "xanchor": "center",
          "xref": "paper",
          "y": 1,
          "yanchor": "bottom",
          "yref": "paper"
         },
         {
          "font": {
           "size": 12
          },
          "showarrow": false,
          "text": "Program1 21/22 CourseC1",
          "x": 0.6312500000000001,
          "xanchor": "center",
          "xref": "paper",
          "y": 1,
          "yanchor": "bottom",
          "yref": "paper"
         },
         {
          "font": {
           "size": 12
          },
          "showarrow": false,
          "text": "Program1 21/22 CourseD1",
          "x": 0.89375,
          "xanchor": "center",
          "xref": "paper",
          "y": 1,
          "yanchor": "bottom",
          "yref": "paper"
         },
         {
          "font": {
           "size": 12
          },
          "showarrow": false,
          "text": "Program1 22/23 CourseA1",
          "x": 0.10625,
          "xanchor": "center",
          "xref": "paper",
          "y": 0.8625,
          "yanchor": "bottom",
          "yref": "paper"
         },
         {
          "font": {
           "size": 12
          },
          "showarrow": false,
          "text": "Program1 22/23 CourseB1",
          "x": 0.36875,
          "xanchor": "center",
          "xref": "paper",
          "y": 0.8625,
          "yanchor": "bottom",
          "yref": "paper"
         },
         {
          "font": {
           "size": 12
          },
          "showarrow": false,
          "text": "Program1 22/23 CourseC1",
          "x": 0.6312500000000001,
          "xanchor": "center",
          "xref": "paper",
          "y": 0.8625,
          "yanchor": "bottom",
          "yref": "paper"
         },
         {
          "font": {
           "size": 12
          },
          "showarrow": false,
          "text": "Program1 22/23 CourseD1",
          "x": 0.89375,
          "xanchor": "center",
          "xref": "paper",
          "y": 0.8625,
          "yanchor": "bottom",
          "yref": "paper"
         },
         {
          "font": {
           "size": 12
          },
          "showarrow": false,
          "text": "Program2 21/22 CourseA2",
          "x": 0.10625,
          "xanchor": "center",
          "xref": "paper",
          "y": 0.725,
          "yanchor": "bottom",
          "yref": "paper"
         },
         {
          "font": {
           "size": 12
          },
          "showarrow": false,
          "text": "Program2 21/22 CourseB2",
          "x": 0.36875,
          "xanchor": "center",
          "xref": "paper",
          "y": 0.725,
          "yanchor": "bottom",
          "yref": "paper"
         },
         {
          "font": {
           "size": 12
          },
          "showarrow": false,
          "text": "Program2 21/22 CourseC2",
          "x": 0.6312500000000001,
          "xanchor": "center",
          "xref": "paper",
          "y": 0.725,
          "yanchor": "bottom",
          "yref": "paper"
         },
         {
          "font": {
           "size": 12
          },
          "showarrow": false,
          "text": "Program2 21/22 CourseD2",
          "x": 0.89375,
          "xanchor": "center",
          "xref": "paper",
          "y": 0.725,
          "yanchor": "bottom",
          "yref": "paper"
         },
         {
          "font": {
           "size": 12
          },
          "showarrow": false,
          "text": "Program2 22/23 CourseA2",
          "x": 0.10625,
          "xanchor": "center",
          "xref": "paper",
          "y": 0.5875,
          "yanchor": "bottom",
          "yref": "paper"
         },
         {
          "font": {
           "size": 12
          },
          "showarrow": false,
          "text": "Program2 22/23 CourseB2",
          "x": 0.36875,
          "xanchor": "center",
          "xref": "paper",
          "y": 0.5875,
          "yanchor": "bottom",
          "yref": "paper"
         },
         {
          "font": {
           "size": 12
          },
          "showarrow": false,
          "text": "Program2 22/23 CourseC2",
          "x": 0.6312500000000001,
          "xanchor": "center",
          "xref": "paper",
          "y": 0.5875,
          "yanchor": "bottom",
          "yref": "paper"
         },
         {
          "font": {
           "size": 12
          },
          "showarrow": false,
          "text": "Program2 22/23 CourseD2",
          "x": 0.89375,
          "xanchor": "center",
          "xref": "paper",
          "y": 0.5875,
          "yanchor": "bottom",
          "yref": "paper"
         },
         {
          "font": {
           "size": 12
          },
          "showarrow": false,
          "text": "Program3 21/22 CourseA3",
          "x": 0.10625,
          "xanchor": "center",
          "xref": "paper",
          "y": 0.45,
          "yanchor": "bottom",
          "yref": "paper"
         },
         {
          "font": {
           "size": 12
          },
          "showarrow": false,
          "text": "Program3 21/22 CourseB3",
          "x": 0.36875,
          "xanchor": "center",
          "xref": "paper",
          "y": 0.45,
          "yanchor": "bottom",
          "yref": "paper"
         },
         {
          "font": {
           "size": 12
          },
          "showarrow": false,
          "text": "Program3 21/22 CourseC3",
          "x": 0.6312500000000001,
          "xanchor": "center",
          "xref": "paper",
          "y": 0.45,
          "yanchor": "bottom",
          "yref": "paper"
         },
         {
          "font": {
           "size": 12
          },
          "showarrow": false,
          "text": "Program3 21/22 CourseD3",
          "x": 0.89375,
          "xanchor": "center",
          "xref": "paper",
          "y": 0.45,
          "yanchor": "bottom",
          "yref": "paper"
         },
         {
          "font": {
           "size": 12
          },
          "showarrow": false,
          "text": "Program3 22/23 CourseA3",
          "x": 0.10625,
          "xanchor": "center",
          "xref": "paper",
          "y": 0.3125,
          "yanchor": "bottom",
          "yref": "paper"
         },
         {
          "font": {
           "size": 12
          },
          "showarrow": false,
          "text": "Program3 22/23 CourseB3",
          "x": 0.36875,
          "xanchor": "center",
          "xref": "paper",
          "y": 0.3125,
          "yanchor": "bottom",
          "yref": "paper"
         },
         {
          "font": {
           "size": 12
          },
          "showarrow": false,
          "text": "Program3 22/23 CourseC3",
          "x": 0.6312500000000001,
          "xanchor": "center",
          "xref": "paper",
          "y": 0.3125,
          "yanchor": "bottom",
          "yref": "paper"
         },
         {
          "font": {
           "size": 12
          },
          "showarrow": false,
          "text": "Program3 22/23 CourseD3",
          "x": 0.89375,
          "xanchor": "center",
          "xref": "paper",
          "y": 0.3125,
          "yanchor": "bottom",
          "yref": "paper"
         },
         {
          "font": {
           "size": 12
          },
          "showarrow": false,
          "text": "Program4 21/22 CourseA4",
          "x": 0.10625,
          "xanchor": "center",
          "xref": "paper",
          "y": 0.175,
          "yanchor": "bottom",
          "yref": "paper"
         },
         {
          "font": {
           "size": 12
          },
          "showarrow": false,
          "text": "Program4 21/22 CourseB4",
          "x": 0.36875,
          "xanchor": "center",
          "xref": "paper",
          "y": 0.175,
          "yanchor": "bottom",
          "yref": "paper"
         },
         {
          "font": {
           "size": 12
          },
          "showarrow": false,
          "text": "Program4 21/22 CourseC4",
          "x": 0.6312500000000001,
          "xanchor": "center",
          "xref": "paper",
          "y": 0.175,
          "yanchor": "bottom",
          "yref": "paper"
         },
         {
          "font": {
           "size": 12
          },
          "showarrow": false,
          "text": "Program4 21/22 CourseD4",
          "x": 0.89375,
          "xanchor": "center",
          "xref": "paper",
          "y": 0.175,
          "yanchor": "bottom",
          "yref": "paper"
         },
         {
          "font": {
           "size": 12
          },
          "showarrow": false,
          "text": "Program4 22/23 CourseA4",
          "x": 0.10625,
          "xanchor": "center",
          "xref": "paper",
          "y": 0.03749999999999999,
          "yanchor": "bottom",
          "yref": "paper"
         },
         {
          "font": {
           "size": 12
          },
          "showarrow": false,
          "text": "Program4 22/23 CourseB4",
          "x": 0.36875,
          "xanchor": "center",
          "xref": "paper",
          "y": 0.03749999999999999,
          "yanchor": "bottom",
          "yref": "paper"
         },
         {
          "font": {
           "size": 12
          },
          "showarrow": false,
          "text": "Program4 22/23 CourseC4",
          "x": 0.6312500000000001,
          "xanchor": "center",
          "xref": "paper",
          "y": 0.03749999999999999,
          "yanchor": "bottom",
          "yref": "paper"
         },
         {
          "font": {
           "size": 12
          },
          "showarrow": false,
          "text": "Program4 22/23 CourseD4",
          "x": 0.89375,
          "xanchor": "center",
          "xref": "paper",
          "y": 0.03749999999999999,
          "yanchor": "bottom",
          "yref": "paper"
         }
        ],
        "bargap": 0.2,
        "height": 2400,
        "showlegend": false,
        "template": {
         "data": {
          "bar": [
           {
            "error_x": {
             "color": "#2a3f5f"
            },
            "error_y": {
             "color": "#2a3f5f"
            },
            "marker": {
             "line": {
              "color": "#E5ECF6",
              "width": 0.5
             },
             "pattern": {
              "fillmode": "overlay",
              "size": 10,
              "solidity": 0.2
             }
            },
            "type": "bar"
           }
          ],
          "barpolar": [
           {
            "marker": {
             "line": {
              "color": "#E5ECF6",
              "width": 0.5
             },
             "pattern": {
              "fillmode": "overlay",
              "size": 10,
              "solidity": 0.2
             }
            },
            "type": "barpolar"
           }
          ],
          "carpet": [
           {
            "aaxis": {
             "endlinecolor": "#2a3f5f",
             "gridcolor": "white",
             "linecolor": "white",
             "minorgridcolor": "white",
             "startlinecolor": "#2a3f5f"
            },
            "baxis": {
             "endlinecolor": "#2a3f5f",
             "gridcolor": "white",
             "linecolor": "white",
             "minorgridcolor": "white",
             "startlinecolor": "#2a3f5f"
            },
            "type": "carpet"
           }
          ],
          "choropleth": [
           {
            "colorbar": {
             "outlinewidth": 0,
             "ticks": ""
            },
            "type": "choropleth"
           }
          ],
          "contour": [
           {
            "colorbar": {
             "outlinewidth": 0,
             "ticks": ""
            },
            "colorscale": [
             [
              0,
              "#0d0887"
             ],
             [
              0.1111111111111111,
              "#46039f"
             ],
             [
              0.2222222222222222,
              "#7201a8"
             ],
             [
              0.3333333333333333,
              "#9c179e"
             ],
             [
              0.4444444444444444,
              "#bd3786"
             ],
             [
              0.5555555555555556,
              "#d8576b"
             ],
             [
              0.6666666666666666,
              "#ed7953"
             ],
             [
              0.7777777777777778,
              "#fb9f3a"
             ],
             [
              0.8888888888888888,
              "#fdca26"
             ],
             [
              1,
              "#f0f921"
             ]
            ],
            "type": "contour"
           }
          ],
          "contourcarpet": [
           {
            "colorbar": {
             "outlinewidth": 0,
             "ticks": ""
            },
            "type": "contourcarpet"
           }
          ],
          "heatmap": [
           {
            "colorbar": {
             "outlinewidth": 0,
             "ticks": ""
            },
            "colorscale": [
             [
              0,
              "#0d0887"
             ],
             [
              0.1111111111111111,
              "#46039f"
             ],
             [
              0.2222222222222222,
              "#7201a8"
             ],
             [
              0.3333333333333333,
              "#9c179e"
             ],
             [
              0.4444444444444444,
              "#bd3786"
             ],
             [
              0.5555555555555556,
              "#d8576b"
             ],
             [
              0.6666666666666666,
              "#ed7953"
             ],
             [
              0.7777777777777778,
              "#fb9f3a"
             ],
             [
              0.8888888888888888,
              "#fdca26"
             ],
             [
              1,
              "#f0f921"
             ]
            ],
            "type": "heatmap"
           }
          ],
          "heatmapgl": [
           {
            "colorbar": {
             "outlinewidth": 0,
             "ticks": ""
            },
            "colorscale": [
             [
              0,
              "#0d0887"
             ],
             [
              0.1111111111111111,
              "#46039f"
             ],
             [
              0.2222222222222222,
              "#7201a8"
             ],
             [
              0.3333333333333333,
              "#9c179e"
             ],
             [
              0.4444444444444444,
              "#bd3786"
             ],
             [
              0.5555555555555556,
              "#d8576b"
             ],
             [
              0.6666666666666666,
              "#ed7953"
             ],
             [
              0.7777777777777778,
              "#fb9f3a"
             ],
             [
              0.8888888888888888,
              "#fdca26"
             ],
             [
              1,
              "#f0f921"
             ]
            ],
            "type": "heatmapgl"
           }
          ],
          "histogram": [
           {
            "marker": {
             "pattern": {
              "fillmode": "overlay",
              "size": 10,
              "solidity": 0.2
             }
            },
            "type": "histogram"
           }
          ],
          "histogram2d": [
           {
            "colorbar": {
             "outlinewidth": 0,
             "ticks": ""
            },
            "colorscale": [
             [
              0,
              "#0d0887"
             ],
             [
              0.1111111111111111,
              "#46039f"
             ],
             [
              0.2222222222222222,
              "#7201a8"
             ],
             [
              0.3333333333333333,
              "#9c179e"
             ],
             [
              0.4444444444444444,
              "#bd3786"
             ],
             [
              0.5555555555555556,
              "#d8576b"
             ],
             [
              0.6666666666666666,
              "#ed7953"
             ],
             [
              0.7777777777777778,
              "#fb9f3a"
             ],
             [
              0.8888888888888888,
              "#fdca26"
             ],
             [
              1,
              "#f0f921"
             ]
            ],
            "type": "histogram2d"
           }
          ],
          "histogram2dcontour": [
           {
            "colorbar": {
             "outlinewidth": 0,
             "ticks": ""
            },
            "colorscale": [
             [
              0,
              "#0d0887"
             ],
             [
              0.1111111111111111,
              "#46039f"
             ],
             [
              0.2222222222222222,
              "#7201a8"
             ],
             [
              0.3333333333333333,
              "#9c179e"
             ],
             [
              0.4444444444444444,
              "#bd3786"
             ],
             [
              0.5555555555555556,
              "#d8576b"
             ],
             [
              0.6666666666666666,
              "#ed7953"
             ],
             [
              0.7777777777777778,
              "#fb9f3a"
             ],
             [
              0.8888888888888888,
              "#fdca26"
             ],
             [
              1,
              "#f0f921"
             ]
            ],
            "type": "histogram2dcontour"
           }
          ],
          "mesh3d": [
           {
            "colorbar": {
             "outlinewidth": 0,
             "ticks": ""
            },
            "type": "mesh3d"
           }
          ],
          "parcoords": [
           {
            "line": {
             "colorbar": {
              "outlinewidth": 0,
              "ticks": ""
             }
            },
            "type": "parcoords"
           }
          ],
          "pie": [
           {
            "automargin": true,
            "type": "pie"
           }
          ],
          "scatter": [
           {
            "fillpattern": {
             "fillmode": "overlay",
             "size": 10,
             "solidity": 0.2
            },
            "type": "scatter"
           }
          ],
          "scatter3d": [
           {
            "line": {
             "colorbar": {
              "outlinewidth": 0,
              "ticks": ""
             }
            },
            "marker": {
             "colorbar": {
              "outlinewidth": 0,
              "ticks": ""
             }
            },
            "type": "scatter3d"
           }
          ],
          "scattercarpet": [
           {
            "marker": {
             "colorbar": {
              "outlinewidth": 0,
              "ticks": ""
             }
            },
            "type": "scattercarpet"
           }
          ],
          "scattergeo": [
           {
            "marker": {
             "colorbar": {
              "outlinewidth": 0,
              "ticks": ""
             }
            },
            "type": "scattergeo"
           }
          ],
          "scattergl": [
           {
            "marker": {
             "colorbar": {
              "outlinewidth": 0,
              "ticks": ""
             }
            },
            "type": "scattergl"
           }
          ],
          "scattermapbox": [
           {
            "marker": {
             "colorbar": {
              "outlinewidth": 0,
              "ticks": ""
             }
            },
            "type": "scattermapbox"
           }
          ],
          "scatterpolar": [
           {
            "marker": {
             "colorbar": {
              "outlinewidth": 0,
              "ticks": ""
             }
            },
            "type": "scatterpolar"
           }
          ],
          "scatterpolargl": [
           {
            "marker": {
             "colorbar": {
              "outlinewidth": 0,
              "ticks": ""
             }
            },
            "type": "scatterpolargl"
           }
          ],
          "scatterternary": [
           {
            "marker": {
             "colorbar": {
              "outlinewidth": 0,
              "ticks": ""
             }
            },
            "type": "scatterternary"
           }
          ],
          "surface": [
           {
            "colorbar": {
             "outlinewidth": 0,
             "ticks": ""
            },
            "colorscale": [
             [
              0,
              "#0d0887"
             ],
             [
              0.1111111111111111,
              "#46039f"
             ],
             [
              0.2222222222222222,
              "#7201a8"
             ],
             [
              0.3333333333333333,
              "#9c179e"
             ],
             [
              0.4444444444444444,
              "#bd3786"
             ],
             [
              0.5555555555555556,
              "#d8576b"
             ],
             [
              0.6666666666666666,
              "#ed7953"
             ],
             [
              0.7777777777777778,
              "#fb9f3a"
             ],
             [
              0.8888888888888888,
              "#fdca26"
             ],
             [
              1,
              "#f0f921"
             ]
            ],
            "type": "surface"
           }
          ],
          "table": [
           {
            "cells": {
             "fill": {
              "color": "#EBF0F8"
             },
             "line": {
              "color": "white"
             }
            },
            "header": {
             "fill": {
              "color": "#C8D4E3"
             },
             "line": {
              "color": "white"
             }
            },
            "type": "table"
           }
          ]
         },
         "layout": {
          "annotationdefaults": {
           "arrowcolor": "#2a3f5f",
           "arrowhead": 0,
           "arrowwidth": 1
          },
          "autotypenumbers": "strict",
          "coloraxis": {
           "colorbar": {
            "outlinewidth": 0,
            "ticks": ""
           }
          },
          "colorscale": {
           "diverging": [
            [
             0,
             "#8e0152"
            ],
            [
             0.1,
             "#c51b7d"
            ],
            [
             0.2,
             "#de77ae"
            ],
            [
             0.3,
             "#f1b6da"
            ],
            [
             0.4,
             "#fde0ef"
            ],
            [
             0.5,
             "#f7f7f7"
            ],
            [
             0.6,
             "#e6f5d0"
            ],
            [
             0.7,
             "#b8e186"
            ],
            [
             0.8,
             "#7fbc41"
            ],
            [
             0.9,
             "#4d9221"
            ],
            [
             1,
             "#276419"
            ]
           ],
           "sequential": [
            [
             0,
             "#0d0887"
            ],
            [
             0.1111111111111111,
             "#46039f"
            ],
            [
             0.2222222222222222,
             "#7201a8"
            ],
            [
             0.3333333333333333,
             "#9c179e"
            ],
            [
             0.4444444444444444,
             "#bd3786"
            ],
            [
             0.5555555555555556,
             "#d8576b"
            ],
            [
             0.6666666666666666,
             "#ed7953"
            ],
            [
             0.7777777777777778,
             "#fb9f3a"
            ],
            [
             0.8888888888888888,
             "#fdca26"
            ],
            [
             1,
             "#f0f921"
            ]
           ],
           "sequentialminus": [
            [
             0,
             "#0d0887"
            ],
            [
             0.1111111111111111,
             "#46039f"
            ],
            [
             0.2222222222222222,
             "#7201a8"
            ],
            [
             0.3333333333333333,
             "#9c179e"
            ],
            [
             0.4444444444444444,
             "#bd3786"
            ],
            [
             0.5555555555555556,
             "#d8576b"
            ],
            [
             0.6666666666666666,
             "#ed7953"
            ],
            [
             0.7777777777777778,
             "#fb9f3a"
            ],
            [
             0.8888888888888888,
             "#fdca26"
            ],
            [
             1,
             "#f0f921"
            ]
           ]
          },
          "colorway": [
           "#636efa",
           "#EF553B",
           "#00cc96",
           "#ab63fa",
           "#FFA15A",
           "#19d3f3",
           "#FF6692",
           "#B6E880",
           "#FF97FF",
           "#FECB52"
          ],
          "font": {
           "color": "#2a3f5f"
          },
          "geo": {
           "bgcolor": "white",
           "lakecolor": "white",
           "landcolor": "#E5ECF6",
           "showlakes": true,
           "showland": true,
           "subunitcolor": "white"
          },
          "hoverlabel": {
           "align": "left"
          },
          "hovermode": "closest",
          "mapbox": {
           "style": "light"
          },
          "paper_bgcolor": "white",
          "plot_bgcolor": "#E5ECF6",
          "polar": {
           "angularaxis": {
            "gridcolor": "white",
            "linecolor": "white",
            "ticks": ""
           },
           "bgcolor": "#E5ECF6",
           "radialaxis": {
            "gridcolor": "white",
            "linecolor": "white",
            "ticks": ""
           }
          },
          "scene": {
           "xaxis": {
            "backgroundcolor": "#E5ECF6",
            "gridcolor": "white",
            "gridwidth": 2,
            "linecolor": "white",
            "showbackground": true,
            "ticks": "",
            "zerolinecolor": "white"
           },
           "yaxis": {
            "backgroundcolor": "#E5ECF6",
            "gridcolor": "white",
            "gridwidth": 2,
            "linecolor": "white",
            "showbackground": true,
            "ticks": "",
            "zerolinecolor": "white"
           },
           "zaxis": {
            "backgroundcolor": "#E5ECF6",
            "gridcolor": "white",
            "gridwidth": 2,
            "linecolor": "white",
            "showbackground": true,
            "ticks": "",
            "zerolinecolor": "white"
           }
          },
          "shapedefaults": {
           "line": {
            "color": "#2a3f5f"
           }
          },
          "ternary": {
           "aaxis": {
            "gridcolor": "white",
            "linecolor": "white",
            "ticks": ""
           },
           "baxis": {
            "gridcolor": "white",
            "linecolor": "white",
            "ticks": ""
           },
           "bgcolor": "#E5ECF6",
           "caxis": {
            "gridcolor": "white",
            "linecolor": "white",
            "ticks": ""
           }
          },
          "title": {
           "x": 0.05
          },
          "xaxis": {
           "automargin": true,
           "gridcolor": "white",
           "linecolor": "white",
           "ticks": "",
           "title": {
            "standoff": 15
           },
           "zerolinecolor": "white",
           "zerolinewidth": 2
          },
          "yaxis": {
           "automargin": true,
           "gridcolor": "white",
           "linecolor": "white",
           "ticks": "",
           "title": {
            "standoff": 15
           },
           "zerolinecolor": "white",
           "zerolinewidth": 2
          }
         }
        },
        "title": {
         "text": "Count of Scenarios Layered by BSA and Program"
        },
        "width": 800,
        "xaxis": {
         "anchor": "y",
         "domain": [
          0,
          0.2125
         ]
        },
        "xaxis10": {
         "anchor": "y10",
         "domain": [
          0.2625,
          0.475
         ]
        },
        "xaxis11": {
         "anchor": "y11",
         "domain": [
          0.525,
          0.7375
         ]
        },
        "xaxis12": {
         "anchor": "y12",
         "domain": [
          0.7875,
          1
         ]
        },
        "xaxis13": {
         "anchor": "y13",
         "domain": [
          0,
          0.2125
         ]
        },
        "xaxis14": {
         "anchor": "y14",
         "domain": [
          0.2625,
          0.475
         ]
        },
        "xaxis15": {
         "anchor": "y15",
         "domain": [
          0.525,
          0.7375
         ]
        },
        "xaxis16": {
         "anchor": "y16",
         "domain": [
          0.7875,
          1
         ]
        },
        "xaxis17": {
         "anchor": "y17",
         "domain": [
          0,
          0.2125
         ]
        },
        "xaxis18": {
         "anchor": "y18",
         "domain": [
          0.2625,
          0.475
         ]
        },
        "xaxis19": {
         "anchor": "y19",
         "domain": [
          0.525,
          0.7375
         ]
        },
        "xaxis2": {
         "anchor": "y2",
         "domain": [
          0.2625,
          0.475
         ]
        },
        "xaxis20": {
         "anchor": "y20",
         "domain": [
          0.7875,
          1
         ]
        },
        "xaxis21": {
         "anchor": "y21",
         "domain": [
          0,
          0.2125
         ]
        },
        "xaxis22": {
         "anchor": "y22",
         "domain": [
          0.2625,
          0.475
         ]
        },
        "xaxis23": {
         "anchor": "y23",
         "domain": [
          0.525,
          0.7375
         ]
        },
        "xaxis24": {
         "anchor": "y24",
         "domain": [
          0.7875,
          1
         ]
        },
        "xaxis25": {
         "anchor": "y25",
         "domain": [
          0,
          0.2125
         ]
        },
        "xaxis26": {
         "anchor": "y26",
         "domain": [
          0.2625,
          0.475
         ]
        },
        "xaxis27": {
         "anchor": "y27",
         "domain": [
          0.525,
          0.7375
         ]
        },
        "xaxis28": {
         "anchor": "y28",
         "domain": [
          0.7875,
          1
         ]
        },
        "xaxis29": {
         "anchor": "y29",
         "domain": [
          0,
          0.2125
         ]
        },
        "xaxis3": {
         "anchor": "y3",
         "domain": [
          0.525,
          0.7375
         ]
        },
        "xaxis30": {
         "anchor": "y30",
         "domain": [
          0.2625,
          0.475
         ]
        },
        "xaxis31": {
         "anchor": "y31",
         "domain": [
          0.525,
          0.7375
         ]
        },
        "xaxis32": {
         "anchor": "y32",
         "domain": [
          0.7875,
          1
         ]
        },
        "xaxis4": {
         "anchor": "y4",
         "domain": [
          0.7875,
          1
         ]
        },
        "xaxis5": {
         "anchor": "y5",
         "domain": [
          0,
          0.2125
         ]
        },
        "xaxis6": {
         "anchor": "y6",
         "domain": [
          0.2625,
          0.475
         ]
        },
        "xaxis7": {
         "anchor": "y7",
         "domain": [
          0.525,
          0.7375
         ]
        },
        "xaxis8": {
         "anchor": "y8",
         "domain": [
          0.7875,
          1
         ]
        },
        "xaxis9": {
         "anchor": "y9",
         "domain": [
          0,
          0.2125
         ]
        },
        "yaxis": {
         "anchor": "x",
         "domain": [
          0.9625,
          1
         ],
         "title": {
          "text": "Count"
         }
        },
        "yaxis10": {
         "anchor": "x10",
         "domain": [
          0.6875,
          0.725
         ],
         "title": {
          "text": "Count"
         }
        },
        "yaxis11": {
         "anchor": "x11",
         "domain": [
          0.6875,
          0.725
         ],
         "title": {
          "text": "Count"
         }
        },
        "yaxis12": {
         "anchor": "x12",
         "domain": [
          0.6875,
          0.725
         ],
         "title": {
          "text": "Count"
         }
        },
        "yaxis13": {
         "anchor": "x13",
         "domain": [
          0.55,
          0.5875
         ],
         "title": {
          "text": "Count"
         }
        },
        "yaxis14": {
         "anchor": "x14",
         "domain": [
          0.55,
          0.5875
         ],
         "title": {
          "text": "Count"
         }
        },
        "yaxis15": {
         "anchor": "x15",
         "domain": [
          0.55,
          0.5875
         ],
         "title": {
          "text": "Count"
         }
        },
        "yaxis16": {
         "anchor": "x16",
         "domain": [
          0.55,
          0.5875
         ],
         "title": {
          "text": "Count"
         }
        },
        "yaxis17": {
         "anchor": "x17",
         "domain": [
          0.41250000000000003,
          0.45
         ],
         "title": {
          "text": "Count"
         }
        },
        "yaxis18": {
         "anchor": "x18",
         "domain": [
          0.41250000000000003,
          0.45
         ],
         "title": {
          "text": "Count"
         }
        },
        "yaxis19": {
         "anchor": "x19",
         "domain": [
          0.41250000000000003,
          0.45
         ],
         "title": {
          "text": "Count"
         }
        },
        "yaxis2": {
         "anchor": "x2",
         "domain": [
          0.9625,
          1
         ],
         "title": {
          "text": "Count"
         }
        },
        "yaxis20": {
         "anchor": "x20",
         "domain": [
          0.41250000000000003,
          0.45
         ],
         "title": {
          "text": "Count"
         }
        },
        "yaxis21": {
         "anchor": "x21",
         "domain": [
          0.275,
          0.3125
         ],
         "title": {
          "text": "Count"
         }
        },
        "yaxis22": {
         "anchor": "x22",
         "domain": [
          0.275,
          0.3125
         ],
         "title": {
          "text": "Count"
         }
        },
        "yaxis23": {
         "anchor": "x23",
         "domain": [
          0.275,
          0.3125
         ],
         "title": {
          "text": "Count"
         }
        },
        "yaxis24": {
         "anchor": "x24",
         "domain": [
          0.275,
          0.3125
         ],
         "title": {
          "text": "Count"
         }
        },
        "yaxis25": {
         "anchor": "x25",
         "domain": [
          0.1375,
          0.175
         ],
         "title": {
          "text": "Count"
         }
        },
        "yaxis26": {
         "anchor": "x26",
         "domain": [
          0.1375,
          0.175
         ],
         "title": {
          "text": "Count"
         }
        },
        "yaxis27": {
         "anchor": "x27",
         "domain": [
          0.1375,
          0.175
         ],
         "title": {
          "text": "Count"
         }
        },
        "yaxis28": {
         "anchor": "x28",
         "domain": [
          0.1375,
          0.175
         ],
         "title": {
          "text": "Count"
         }
        },
        "yaxis29": {
         "anchor": "x29",
         "domain": [
          0,
          0.03749999999999999
         ],
         "title": {
          "text": "Count"
         }
        },
        "yaxis3": {
         "anchor": "x3",
         "domain": [
          0.9625,
          1
         ],
         "title": {
          "text": "Count"
         }
        },
        "yaxis30": {
         "anchor": "x30",
         "domain": [
          0,
          0.03749999999999999
         ],
         "title": {
          "text": "Count"
         }
        },
        "yaxis31": {
         "anchor": "x31",
         "domain": [
          0,
          0.03749999999999999
         ],
         "title": {
          "text": "Count"
         }
        },
        "yaxis32": {
         "anchor": "x32",
         "domain": [
          0,
          0.03749999999999999
         ],
         "title": {
          "text": "Count"
         }
        },
        "yaxis4": {
         "anchor": "x4",
         "domain": [
          0.9625,
          1
         ],
         "title": {
          "text": "Count"
         }
        },
        "yaxis5": {
         "anchor": "x5",
         "domain": [
          0.8250000000000001,
          0.8625
         ],
         "title": {
          "text": "Count"
         }
        },
        "yaxis6": {
         "anchor": "x6",
         "domain": [
          0.8250000000000001,
          0.8625
         ],
         "title": {
          "text": "Count"
         }
        },
        "yaxis7": {
         "anchor": "x7",
         "domain": [
          0.8250000000000001,
          0.8625
         ],
         "title": {
          "text": "Count"
         }
        },
        "yaxis8": {
         "anchor": "x8",
         "domain": [
          0.8250000000000001,
          0.8625
         ],
         "title": {
          "text": "Count"
         }
        },
        "yaxis9": {
         "anchor": "x9",
         "domain": [
          0.6875,
          0.725
         ],
         "title": {
          "text": "Count"
         }
        }
       }
      }
     },
     "metadata": {},
     "output_type": "display_data"
    }
   ],
   "source": [
    "import pandas as pd\n",
    "import numpy as np\n",
    "import itertools\n",
    "import plotly.graph_objects as go\n",
    "from plotly.subplots import make_subplots\n",
    "\n",
    "# Sample DataFrame for reference\n",
    "np.random.seed(42)\n",
    "df = pd.DataFrame({\n",
    "    'Year': np.random.choice(['21/22', '22/23'], 100),\n",
    "    'Program': np.random.choice(['Program1', 'Program2', 'Program3', 'Program4'], 100),\n",
    "    'BSA': np.random.choice(['STGA', 'NE', 'PS', 'DI'], 100),\n",
    "    'CourseA1': np.random.uniform(0, 10, 100),\n",
    "    'CourseB1': np.random.uniform(0, 10, 100),\n",
    "    'CourseC1': np.random.uniform(0, 10, 100),\n",
    "    'CourseD1': np.random.uniform(0, 10, 100),\n",
    "    'CourseA2': np.random.uniform(0, 10, 100),\n",
    "    'CourseB2': np.random.uniform(0, 10, 100),\n",
    "    'CourseC2': np.random.uniform(0, 10, 100),\n",
    "    'CourseD2': np.random.uniform(0, 10, 100),\n",
    "    'CourseA3': np.random.uniform(0, 10, 100),\n",
    "    'CourseB3': np.random.uniform(0, 10, 100),\n",
    "    'CourseC3': np.random.uniform(0, 10, 100),\n",
    "    'CourseD3': np.random.uniform(0, 10, 100),\n",
    "    'CourseA4': np.random.uniform(0, 10, 100),\n",
    "    'CourseB4': np.random.uniform(0, 10, 100),\n",
    "    'CourseC4': np.random.uniform(0, 10, 100),\n",
    "    'CourseD4': np.random.uniform(0, 10, 100)\n",
    "})\n",
    "\n",
    "# Define the passing grade\n",
    "passing_grade = 5.5\n",
    "\n",
    "# Define the courses for each program\n",
    "courses = {\n",
    "    'Program1': ['CourseA1', 'CourseB1', 'CourseC1', 'CourseD1'],\n",
    "    'Program2': ['CourseA2', 'CourseB2', 'CourseC2', 'CourseD2'],\n",
    "    'Program3': ['CourseA3', 'CourseB3', 'CourseC3', 'CourseD3'],\n",
    "    'Program4': ['CourseA4', 'CourseB4', 'CourseC4', 'CourseD4']\n",
    "}\n",
    "\n",
    "# Create pass/fail indicators and scenarios\n",
    "df['Scenario'] = ''\n",
    "for program, course_list in courses.items():\n",
    "    for course in course_list:\n",
    "        df[f'{course}_pass'] = (df[course] >= passing_grade).astype(int)\n",
    "    df.loc[df['Program'] == program, 'Scenario'] = df[df['Program'] == program][[f'{course}_pass' for course in course_list]].astype(str).agg(''.join, axis=1)\n",
    "\n",
    "# Define custom order of scenarios\n",
    "scenarios = [1,0]\n",
    "\n",
    "# Define the order of 'Program' facet columns and BSA categories\n",
    "program_order = ['Program1', 'Program2', 'Program3', 'Program4']\n",
    "bsa_order = ['STGA', 'NE', 'PS', 'DI']\n",
    "bsa_colors = {\n",
    "    'STGA': '#4d4d4d',\n",
    "    'NE': '#b30000',\n",
    "    'PS': '#258e25',\n",
    "    'DI': 'lightblue'\n",
    "}\n",
    "\n",
    "\n",
    "\n",
    "# Create a figure with subplots arranged in a 8x1 grid\n",
    "fig = make_subplots(rows=8, cols=4, subplot_titles=[f'{program} {year} {course}' for program in program_order for year in df['Year'].unique() for course in courses[program]], vertical_spacing=0.1)\n",
    "\n",
    "# Loop through each 'Program' facet column and 'Year' facet row\n",
    "row_counter = 1\n",
    "for program in program_order:\n",
    "    for year in df['Year'].unique():\n",
    "        # Filter data for the current program and year\n",
    "        df_subset = df[(df['Program'] == program) & (df['Year'] == year)]\n",
    "        \n",
    "        for i, course in enumerate(courses[program], start=1):\n",
    "                # Prepare data for plotting\n",
    "            df_subset2 = df_subset.groupby(['BSA', f'{course}_pass']).size().reset_index(name='Count')\n",
    "            # Loop through each 'BSA' category\n",
    "            for bsa in bsa_order:\n",
    "                # Filter data for the current BSA category\n",
    "                df_bsa = df_subset2[df_subset2['BSA'] == bsa]\n",
    "                \n",
    "                # Create bar trace\n",
    "                bar = go.Bar(\n",
    "                    x=pd.Categorical(df_bsa[f'{course}_pass'], categories=scenarios, ordered=True),\n",
    "                    y=df_bsa['Count'],\n",
    "                    name=bsa,\n",
    "                    marker=dict(color=bsa_colors[bsa]),\n",
    "                    text=df_bsa['Count'],  # Add text on top of each bar\n",
    "                    textposition='auto'  # Automatically position the text\n",
    "                )\n",
    "                \n",
    "                # Add trace to the subplot\n",
    "                fig.add_trace(bar, row=row_counter, col=i)\n",
    "        \n",
    "        row_counter += 1\n",
    "\n",
    "# Update layout\n",
    "fig.update_layout(title='Count of Scenarios Layered by BSA and Program', height=2400, width=800)\n",
    "fig.update_layout(bargap=0.2)\n",
    "#fig.update_xaxes(title_text='Scenario')\n",
    "fig.update_yaxes(title_text='Count')\n",
    "fig.update_layout(showlegend=False)  # Hide the legend\n",
    "fig.update_annotations(font_size=12)  # Update font size for subplot titles\n",
    "fig.show()\n",
    "\n",
    "\n"
   ]
  }
 ],
 "metadata": {
  "kernelspec": {
   "display_name": "Python 3",
   "language": "python",
   "name": "python3"
  },
  "language_info": {
   "codemirror_mode": {
    "name": "ipython",
    "version": 3
   },
   "file_extension": ".py",
   "mimetype": "text/x-python",
   "name": "python",
   "nbconvert_exporter": "python",
   "pygments_lexer": "ipython3",
   "version": "3.12.0"
  }
 },
 "nbformat": 4,
 "nbformat_minor": 2
}
