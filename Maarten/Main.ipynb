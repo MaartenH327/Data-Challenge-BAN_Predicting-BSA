{
 "cells": [
  {
   "cell_type": "code",
   "execution_count": 3,
   "metadata": {},
   "outputs": [],
   "source": [
    "import pandas as pd\n",
    "from rake_nltk import Rake\n",
    "import numpy as np\n",
    "from sklearn.metrics.pairwise import cosine_similarity\n",
    "from sklearn.feature_extraction.text import CountVectorizer"
   ]
  },
  {
   "cell_type": "code",
   "execution_count": 4,
   "metadata": {},
   "outputs": [
    {
     "data": {
      "text/plain": [
       "Index(['train', 'Gender', 'Nationality', 'PreEducation', 'Program', 'Year',\n",
       "       'BSA', 'Course3-1', 'Course9-1', 'Course8-1', 'Course7-1', 'Course3-R',\n",
       "       'Course9-R', 'Credits-B1B2', 'Course23', 'Course26', 'Course3',\n",
       "       'Course16', 'Course8', 'Course9', 'Course22', 'Course7', 'Course25',\n",
       "       'Course24', 'Credits-Y1'],\n",
       "      dtype='object')"
      ]
     },
     "execution_count": 4,
     "metadata": {},
     "output_type": "execute_result"
    }
   ],
   "source": [
    "df = pd.read_csv('BSA-dataset-synthetic.csv', sep=';')\n",
    "\n",
    "# Transform 'Gender' column\n",
    "df['Gender'] = df['Gender'].apply(lambda x: 1 if x == 'F' else 0)\n",
    "df['BSA'] = df['BSA'].apply(lambda x: 1 if x == 'PS' else 0)\n",
    "\n",
    "df.head()\n",
    "df.columns\n"
   ]
  },
  {
   "cell_type": "code",
   "execution_count": 5,
   "metadata": {},
   "outputs": [
    {
     "name": "stderr",
     "output_type": "stream",
     "text": [
      "C:\\Users\\maart\\AppData\\Local\\Temp\\ipykernel_20116\\2810321101.py:205: FutureWarning: The behavior of DataFrame concatenation with empty or all-NA entries is deprecated. In a future version, this will no longer exclude empty or all-NA columns when determining the result dtypes. To retain the old behavior, exclude the relevant entries before the concat operation.\n",
      "  final_df = pd.concat(new_dfs, ignore_index=True)\n"
     ]
    }
   ],
   "source": [
    "class StudentCourseResults:\n",
    "    firstTryGrades = []\n",
    "    resitGrades = []\n",
    "    endGrades = []\n",
    "    def __init__(self, course_name):\n",
    "        self.course_id = course_name\n",
    "        self.endgrade = None\n",
    "        self.first_try_grade = None\n",
    "        self.resit_grade = None\n",
    "        self.blok = None\n",
    "\n",
    "        #dummies\n",
    "        self.passed_Course = None\n",
    "        self.passed_Excellent = None  # 8.5-10\n",
    "        self.passed_Good = None       # 7.5-8\n",
    "        self.passed_Satisfactory = None  # 6.5-7\n",
    "        self.passed_Sufficient = None  # 6\n",
    "\n",
    "\n",
    "        self.firstTry_passed=None\n",
    "        self.firstTry_present=None\n",
    "        self.both_notPresent=None\n",
    "        self.MaartenFactor = None\n",
    "\n",
    "    def set_endgrade(self, endgrade):\n",
    "        if np.isnan(endgrade):\n",
    "            endgrade = None  \n",
    "        self.endgrade = endgrade\n",
    "\n",
    "    def set_first_try_grade(self, grade):\n",
    "        if np.isnan(grade):\n",
    "            grade = None\n",
    "        self.first_try_grade = grade\n",
    "        self.blok = 2\n",
    "\n",
    "    def set_resit_grade(self, grade):\n",
    "        if np.isnan(grade):\n",
    "            grade = None  \n",
    "        self.resit_grade = grade\n",
    "        self.blok = 1\n",
    "\n",
    "    def create_dummies(self):\n",
    "\n",
    "        self.passed_Course = False\n",
    "        self.passed_Excellent = False  # 8.5-10\n",
    "        self.passed_Good = False       # 7.5-8\n",
    "        self.passed_Satisfactory = False  # 6.5-7\n",
    "        self.passed_Sufficient = False  # 6\n",
    "\n",
    "        self.firstTry_passed = False\n",
    "        self.firstTry_present = False\n",
    "        self.both_notPresent = False\n",
    "\n",
    "        if self.endgrade is None:\n",
    "            self.both_notPresent = True\n",
    "            return\n",
    "\n",
    "        if 8.5 <= self.endgrade <= 10:\n",
    "            self.passed_Excellent = True\n",
    "\n",
    "        if 7.5 <= self.endgrade < 8.5:\n",
    "            self.passed_Good = True\n",
    "\n",
    "        if 6.5 <= self.endgrade < 7.5:\n",
    "            self.passed_Satisfactory = True\n",
    "\n",
    "        if self.endgrade == 6:\n",
    "            self.passed_Sufficient = True\n",
    "\n",
    "        if self.endgrade >= 5.5:\n",
    "            self.passed_Course = True\n",
    "        \n",
    "        #Of te wel deze data hebben we niet\n",
    "        if self.blok == None:\n",
    "            return\n",
    "        \n",
    "\n",
    "        if self.blok == 1:\n",
    "            \"\"\"\n",
    "            self.firstTry_passed = False\n",
    "            self.firstTry_present = False\n",
    "            self.both_notPresent = False\n",
    "            \"\"\"\n",
    "            if self.first_try_grade != None:\n",
    "                self.firstTry_present = True\n",
    "\n",
    "            if self.first_try_grade != None and self.resit_grade == None and self.passed_Course ==True:\n",
    "                self.firstTry_passed = True\n",
    "                self.firstTry_present = True                \n",
    "\n",
    "            if self.first_try_grade == None and self.resit_grade == None:\n",
    "                self.both_notPresent = True\n",
    "            \n",
    "\n",
    "        if self.blok == 2:\n",
    "            \"\"\"\n",
    "            self.firstTry_passed = False\n",
    "            self.firstTry_present = False\n",
    "            \"\"\"\n",
    "            if self.first_try_grade != None:\n",
    "                self.firstTry_present = True    \n",
    "                #dit moet dus gefixed worden\n",
    "                if self.first_try_grade >= 5.5:\n",
    "                    self.firstTry_passed= True \n",
    "\n",
    "\n",
    "    def __print__(self):\n",
    "        string = \"mooi man\"\n",
    "        return string\n",
    "    \n",
    "    def for_df_column(self):\n",
    "        # Example usage:\n",
    "        courses_data = {}\n",
    "        \n",
    "        if(self.passed_Course == None):\n",
    "            return courses_data\n",
    "\n",
    "        if self.blok == None:\n",
    "            courses_data = {\n",
    "                \"x_\"+self.course_id + \"_Endgrade\": self.endgrade,\n",
    "                \"x_\"+self.course_id + \"_PassedCourse\": int(self.passed_Course), \n",
    "                \"x_\"+self.course_id + \"_passed_Excellent\": int(self.passed_Excellent),\n",
    "                \"x_\"+self.course_id + \"_passed_Good\": int(self.passed_Good),\n",
    "                \"x_\"+self.course_id + \"_passed_Satisfactory\": int(self.passed_Satisfactory),\n",
    "                \"x_\"+self.course_id + \"_passed_Sufficient\": int(self.passed_Sufficient),                               \n",
    "            }\n",
    "        elif self.blok == 1:\n",
    "            courses_data = {\n",
    "                \"1_\"+self.course_id + \"_Endgrade\": self.endgrade,\n",
    "                \"1_\"+self.course_id + \"_FirstTryPassed\": int(self.firstTry_passed),\n",
    "                \"1_\"+self.course_id + \"_FirstTryPresent\": int(self.firstTry_present),\n",
    "                \"1_\"+self.course_id + \"_Both_notPresent\": int(self.both_notPresent),\n",
    "\n",
    "                \"1_\"+self.course_id + \"_PassedCourse\": int(self.passed_Course),\n",
    "                \"1_\"+self.course_id + \"_passed_Excellent\": int(self.passed_Excellent),\n",
    "                \"1_\"+self.course_id + \"_passed_Good\": int(self.passed_Good),\n",
    "                \"1_\"+self.course_id + \"_passed_Satisfactory\": int(self.passed_Satisfactory),\n",
    "                \"1_\"+self.course_id + \"_passed_Sufficient\": int(self.passed_Sufficient),\n",
    "\n",
    "\n",
    "            }         \n",
    "        elif self.blok == 2:\n",
    "            courses_data = {\n",
    "                \"2_\"+self.course_id + \"_Endgrade\": self.endgrade,\n",
    "                \"2_\"+self.course_id + \"_FirstTryPassed\": int(self.firstTry_passed),\n",
    "                \"2_\"+self.course_id + \"_FirstTryPresent\": int(self.firstTry_present),\n",
    "                \"2_\"+self.course_id + \"_PassedCourse\": int(self.passed_Course),\n",
    "                \"2_\"+self.course_id + \"_passed_Excellent\": int(self.passed_Excellent),\n",
    "                \"2_\"+self.course_id + \"_passed_Good\": int(self.passed_Good),\n",
    "                \"2_\"+self.course_id + \"_passed_Satisfactory\": int(self.passed_Satisfactory),\n",
    "                \"2_\"+self.course_id + \"_passed_Sufficient\": int(self.passed_Sufficient),\n",
    "            }         \n",
    "        return courses_data\n",
    "\n",
    "# Create an empty dictionary to store Course objects\n",
    "\n",
    "# Create an empty list to store DataFrames for each row\n",
    "new_dfs = []\n",
    "\n",
    "# Iterate over each row in the original DataFrame\n",
    "for i in range(len(df)):\n",
    "    courses = {}\n",
    "    # Iterate over each column in the DataFrame\n",
    "    for column in df.columns:\n",
    "        # Check if the column represents a course\n",
    "        if column.startswith('Course'):\n",
    "            # Extract the course name\n",
    "            course_name = column.split('-')[0]\n",
    "            # Check if the course object exists in the dictionary\n",
    "            if course_name not in courses:\n",
    "                # If not, create a new Course object\n",
    "                course = StudentCourseResults(course_name)\n",
    "                courses[course_name] = course\n",
    "            else:\n",
    "                # If it exists, retrieve the existing Course object\n",
    "                course = courses[course_name]\n",
    "\n",
    "            # Get the endgrade for the current course from the DataFrame\n",
    "            endgrade = df.loc[i, column]\n",
    "\n",
    "            # Set the endgrade, first try grade, or resit grade based on the column name\n",
    "            if '-1' in column:\n",
    "                course.set_first_try_grade(endgrade)\n",
    "            elif '-R' in column:\n",
    "                course.set_resit_grade(endgrade)\n",
    "            else:\n",
    "                course.set_endgrade(endgrade)\n",
    "\n",
    "    # Create an empty dictionary to store the data for the current row\n",
    "    row_data = {}\n",
    "    \n",
    "    # Populate the dictionary with data for the current row\n",
    "    for course_name, course in courses.items():\n",
    "        course.create_dummies()\n",
    "        row_data.update(course.for_df_column())\n",
    "\n",
    "\n",
    "    # Create a DataFrame from the row data\n",
    "    new_df = pd.DataFrame([row_data])\n",
    "\n",
    "    # Append the new DataFrame to the list\n",
    "    new_dfs.append(new_df)\n",
    "\n",
    "# Concatenate all DataFrames in the list to create the final DataFrame\n",
    "final_df = pd.concat(new_dfs, ignore_index=True)\n",
    "\n",
    "\n"
   ]
  },
  {
   "cell_type": "code",
   "execution_count": 6,
   "metadata": {},
   "outputs": [
    {
     "data": {
      "text/html": [
       "<div>\n",
       "<style scoped>\n",
       "    .dataframe tbody tr th:only-of-type {\n",
       "        vertical-align: middle;\n",
       "    }\n",
       "\n",
       "    .dataframe tbody tr th {\n",
       "        vertical-align: top;\n",
       "    }\n",
       "\n",
       "    .dataframe thead th {\n",
       "        text-align: right;\n",
       "    }\n",
       "</style>\n",
       "<table border=\"1\" class=\"dataframe\">\n",
       "  <thead>\n",
       "    <tr style=\"text-align: right;\">\n",
       "      <th></th>\n",
       "      <th>1_Course3_Endgrade</th>\n",
       "      <th>1_Course3_FirstTryPassed</th>\n",
       "      <th>1_Course3_FirstTryPresent</th>\n",
       "      <th>1_Course3_Both_notPresent</th>\n",
       "      <th>1_Course3_PassedCourse</th>\n",
       "      <th>1_Course3_passed_Excellent</th>\n",
       "      <th>1_Course3_passed_Good</th>\n",
       "      <th>1_Course3_passed_Satisfactory</th>\n",
       "      <th>1_Course3_passed_Sufficient</th>\n",
       "      <th>1_Course9_Endgrade</th>\n",
       "      <th>...</th>\n",
       "      <th>x_Course25_passed_Excellent</th>\n",
       "      <th>x_Course25_passed_Good</th>\n",
       "      <th>x_Course25_passed_Satisfactory</th>\n",
       "      <th>x_Course25_passed_Sufficient</th>\n",
       "      <th>x_Course24_Endgrade</th>\n",
       "      <th>x_Course24_PassedCourse</th>\n",
       "      <th>x_Course24_passed_Excellent</th>\n",
       "      <th>x_Course24_passed_Good</th>\n",
       "      <th>x_Course24_passed_Satisfactory</th>\n",
       "      <th>x_Course24_passed_Sufficient</th>\n",
       "    </tr>\n",
       "  </thead>\n",
       "  <tbody>\n",
       "    <tr>\n",
       "      <th>0</th>\n",
       "      <td>2.5</td>\n",
       "      <td>0</td>\n",
       "      <td>1</td>\n",
       "      <td>0</td>\n",
       "      <td>0</td>\n",
       "      <td>0</td>\n",
       "      <td>0</td>\n",
       "      <td>0</td>\n",
       "      <td>0</td>\n",
       "      <td>NaN</td>\n",
       "      <td>...</td>\n",
       "      <td>0</td>\n",
       "      <td>0</td>\n",
       "      <td>0</td>\n",
       "      <td>0</td>\n",
       "      <td>NaN</td>\n",
       "      <td>0</td>\n",
       "      <td>0</td>\n",
       "      <td>0</td>\n",
       "      <td>0</td>\n",
       "      <td>0</td>\n",
       "    </tr>\n",
       "    <tr>\n",
       "      <th>1</th>\n",
       "      <td>3.5</td>\n",
       "      <td>0</td>\n",
       "      <td>1</td>\n",
       "      <td>0</td>\n",
       "      <td>0</td>\n",
       "      <td>0</td>\n",
       "      <td>0</td>\n",
       "      <td>0</td>\n",
       "      <td>0</td>\n",
       "      <td>5.0</td>\n",
       "      <td>...</td>\n",
       "      <td>0</td>\n",
       "      <td>0</td>\n",
       "      <td>0</td>\n",
       "      <td>0</td>\n",
       "      <td>4.0</td>\n",
       "      <td>0</td>\n",
       "      <td>0</td>\n",
       "      <td>0</td>\n",
       "      <td>0</td>\n",
       "      <td>0</td>\n",
       "    </tr>\n",
       "    <tr>\n",
       "      <th>2</th>\n",
       "      <td>2.5</td>\n",
       "      <td>0</td>\n",
       "      <td>1</td>\n",
       "      <td>0</td>\n",
       "      <td>0</td>\n",
       "      <td>0</td>\n",
       "      <td>0</td>\n",
       "      <td>0</td>\n",
       "      <td>0</td>\n",
       "      <td>1.5</td>\n",
       "      <td>...</td>\n",
       "      <td>0</td>\n",
       "      <td>0</td>\n",
       "      <td>0</td>\n",
       "      <td>0</td>\n",
       "      <td>NaN</td>\n",
       "      <td>0</td>\n",
       "      <td>0</td>\n",
       "      <td>0</td>\n",
       "      <td>0</td>\n",
       "      <td>0</td>\n",
       "    </tr>\n",
       "    <tr>\n",
       "      <th>3</th>\n",
       "      <td>5.0</td>\n",
       "      <td>0</td>\n",
       "      <td>1</td>\n",
       "      <td>0</td>\n",
       "      <td>0</td>\n",
       "      <td>0</td>\n",
       "      <td>0</td>\n",
       "      <td>0</td>\n",
       "      <td>0</td>\n",
       "      <td>1.5</td>\n",
       "      <td>...</td>\n",
       "      <td>0</td>\n",
       "      <td>0</td>\n",
       "      <td>0</td>\n",
       "      <td>0</td>\n",
       "      <td>NaN</td>\n",
       "      <td>0</td>\n",
       "      <td>0</td>\n",
       "      <td>0</td>\n",
       "      <td>0</td>\n",
       "      <td>0</td>\n",
       "    </tr>\n",
       "    <tr>\n",
       "      <th>4</th>\n",
       "      <td>NaN</td>\n",
       "      <td>0</td>\n",
       "      <td>0</td>\n",
       "      <td>1</td>\n",
       "      <td>0</td>\n",
       "      <td>0</td>\n",
       "      <td>0</td>\n",
       "      <td>0</td>\n",
       "      <td>0</td>\n",
       "      <td>NaN</td>\n",
       "      <td>...</td>\n",
       "      <td>0</td>\n",
       "      <td>0</td>\n",
       "      <td>0</td>\n",
       "      <td>0</td>\n",
       "      <td>NaN</td>\n",
       "      <td>0</td>\n",
       "      <td>0</td>\n",
       "      <td>0</td>\n",
       "      <td>0</td>\n",
       "      <td>0</td>\n",
       "    </tr>\n",
       "    <tr>\n",
       "      <th>...</th>\n",
       "      <td>...</td>\n",
       "      <td>...</td>\n",
       "      <td>...</td>\n",
       "      <td>...</td>\n",
       "      <td>...</td>\n",
       "      <td>...</td>\n",
       "      <td>...</td>\n",
       "      <td>...</td>\n",
       "      <td>...</td>\n",
       "      <td>...</td>\n",
       "      <td>...</td>\n",
       "      <td>...</td>\n",
       "      <td>...</td>\n",
       "      <td>...</td>\n",
       "      <td>...</td>\n",
       "      <td>...</td>\n",
       "      <td>...</td>\n",
       "      <td>...</td>\n",
       "      <td>...</td>\n",
       "      <td>...</td>\n",
       "      <td>...</td>\n",
       "    </tr>\n",
       "    <tr>\n",
       "      <th>56</th>\n",
       "      <td>8.0</td>\n",
       "      <td>1</td>\n",
       "      <td>1</td>\n",
       "      <td>0</td>\n",
       "      <td>1</td>\n",
       "      <td>0</td>\n",
       "      <td>1</td>\n",
       "      <td>0</td>\n",
       "      <td>0</td>\n",
       "      <td>7.0</td>\n",
       "      <td>...</td>\n",
       "      <td>0</td>\n",
       "      <td>1</td>\n",
       "      <td>0</td>\n",
       "      <td>0</td>\n",
       "      <td>9.5</td>\n",
       "      <td>1</td>\n",
       "      <td>1</td>\n",
       "      <td>0</td>\n",
       "      <td>0</td>\n",
       "      <td>0</td>\n",
       "    </tr>\n",
       "    <tr>\n",
       "      <th>57</th>\n",
       "      <td>6.5</td>\n",
       "      <td>1</td>\n",
       "      <td>1</td>\n",
       "      <td>0</td>\n",
       "      <td>1</td>\n",
       "      <td>0</td>\n",
       "      <td>0</td>\n",
       "      <td>1</td>\n",
       "      <td>0</td>\n",
       "      <td>2.5</td>\n",
       "      <td>...</td>\n",
       "      <td>0</td>\n",
       "      <td>0</td>\n",
       "      <td>0</td>\n",
       "      <td>0</td>\n",
       "      <td>7.0</td>\n",
       "      <td>1</td>\n",
       "      <td>0</td>\n",
       "      <td>0</td>\n",
       "      <td>1</td>\n",
       "      <td>0</td>\n",
       "    </tr>\n",
       "    <tr>\n",
       "      <th>58</th>\n",
       "      <td>6.5</td>\n",
       "      <td>1</td>\n",
       "      <td>1</td>\n",
       "      <td>0</td>\n",
       "      <td>1</td>\n",
       "      <td>0</td>\n",
       "      <td>0</td>\n",
       "      <td>1</td>\n",
       "      <td>0</td>\n",
       "      <td>1.5</td>\n",
       "      <td>...</td>\n",
       "      <td>1</td>\n",
       "      <td>0</td>\n",
       "      <td>0</td>\n",
       "      <td>0</td>\n",
       "      <td>7.5</td>\n",
       "      <td>1</td>\n",
       "      <td>0</td>\n",
       "      <td>1</td>\n",
       "      <td>0</td>\n",
       "      <td>0</td>\n",
       "    </tr>\n",
       "    <tr>\n",
       "      <th>59</th>\n",
       "      <td>6.5</td>\n",
       "      <td>1</td>\n",
       "      <td>1</td>\n",
       "      <td>0</td>\n",
       "      <td>1</td>\n",
       "      <td>0</td>\n",
       "      <td>0</td>\n",
       "      <td>1</td>\n",
       "      <td>0</td>\n",
       "      <td>8.0</td>\n",
       "      <td>...</td>\n",
       "      <td>0</td>\n",
       "      <td>0</td>\n",
       "      <td>1</td>\n",
       "      <td>0</td>\n",
       "      <td>7.5</td>\n",
       "      <td>1</td>\n",
       "      <td>0</td>\n",
       "      <td>1</td>\n",
       "      <td>0</td>\n",
       "      <td>0</td>\n",
       "    </tr>\n",
       "    <tr>\n",
       "      <th>60</th>\n",
       "      <td>7.0</td>\n",
       "      <td>1</td>\n",
       "      <td>1</td>\n",
       "      <td>0</td>\n",
       "      <td>1</td>\n",
       "      <td>0</td>\n",
       "      <td>0</td>\n",
       "      <td>1</td>\n",
       "      <td>0</td>\n",
       "      <td>8.5</td>\n",
       "      <td>...</td>\n",
       "      <td>0</td>\n",
       "      <td>0</td>\n",
       "      <td>1</td>\n",
       "      <td>0</td>\n",
       "      <td>8.5</td>\n",
       "      <td>1</td>\n",
       "      <td>1</td>\n",
       "      <td>0</td>\n",
       "      <td>0</td>\n",
       "      <td>0</td>\n",
       "    </tr>\n",
       "  </tbody>\n",
       "</table>\n",
       "<p>61 rows × 70 columns</p>\n",
       "</div>"
      ],
      "text/plain": [
       "    1_Course3_Endgrade  1_Course3_FirstTryPassed  1_Course3_FirstTryPresent  \\\n",
       "0                  2.5                         0                          1   \n",
       "1                  3.5                         0                          1   \n",
       "2                  2.5                         0                          1   \n",
       "3                  5.0                         0                          1   \n",
       "4                  NaN                         0                          0   \n",
       "..                 ...                       ...                        ...   \n",
       "56                 8.0                         1                          1   \n",
       "57                 6.5                         1                          1   \n",
       "58                 6.5                         1                          1   \n",
       "59                 6.5                         1                          1   \n",
       "60                 7.0                         1                          1   \n",
       "\n",
       "    1_Course3_Both_notPresent  1_Course3_PassedCourse  \\\n",
       "0                           0                       0   \n",
       "1                           0                       0   \n",
       "2                           0                       0   \n",
       "3                           0                       0   \n",
       "4                           1                       0   \n",
       "..                        ...                     ...   \n",
       "56                          0                       1   \n",
       "57                          0                       1   \n",
       "58                          0                       1   \n",
       "59                          0                       1   \n",
       "60                          0                       1   \n",
       "\n",
       "    1_Course3_passed_Excellent  1_Course3_passed_Good  \\\n",
       "0                            0                      0   \n",
       "1                            0                      0   \n",
       "2                            0                      0   \n",
       "3                            0                      0   \n",
       "4                            0                      0   \n",
       "..                         ...                    ...   \n",
       "56                           0                      1   \n",
       "57                           0                      0   \n",
       "58                           0                      0   \n",
       "59                           0                      0   \n",
       "60                           0                      0   \n",
       "\n",
       "    1_Course3_passed_Satisfactory  1_Course3_passed_Sufficient  \\\n",
       "0                               0                            0   \n",
       "1                               0                            0   \n",
       "2                               0                            0   \n",
       "3                               0                            0   \n",
       "4                               0                            0   \n",
       "..                            ...                          ...   \n",
       "56                              0                            0   \n",
       "57                              1                            0   \n",
       "58                              1                            0   \n",
       "59                              1                            0   \n",
       "60                              1                            0   \n",
       "\n",
       "    1_Course9_Endgrade  ...  x_Course25_passed_Excellent  \\\n",
       "0                  NaN  ...                            0   \n",
       "1                  5.0  ...                            0   \n",
       "2                  1.5  ...                            0   \n",
       "3                  1.5  ...                            0   \n",
       "4                  NaN  ...                            0   \n",
       "..                 ...  ...                          ...   \n",
       "56                 7.0  ...                            0   \n",
       "57                 2.5  ...                            0   \n",
       "58                 1.5  ...                            1   \n",
       "59                 8.0  ...                            0   \n",
       "60                 8.5  ...                            0   \n",
       "\n",
       "    x_Course25_passed_Good  x_Course25_passed_Satisfactory  \\\n",
       "0                        0                               0   \n",
       "1                        0                               0   \n",
       "2                        0                               0   \n",
       "3                        0                               0   \n",
       "4                        0                               0   \n",
       "..                     ...                             ...   \n",
       "56                       1                               0   \n",
       "57                       0                               0   \n",
       "58                       0                               0   \n",
       "59                       0                               1   \n",
       "60                       0                               1   \n",
       "\n",
       "    x_Course25_passed_Sufficient  x_Course24_Endgrade  \\\n",
       "0                              0                  NaN   \n",
       "1                              0                  4.0   \n",
       "2                              0                  NaN   \n",
       "3                              0                  NaN   \n",
       "4                              0                  NaN   \n",
       "..                           ...                  ...   \n",
       "56                             0                  9.5   \n",
       "57                             0                  7.0   \n",
       "58                             0                  7.5   \n",
       "59                             0                  7.5   \n",
       "60                             0                  8.5   \n",
       "\n",
       "    x_Course24_PassedCourse  x_Course24_passed_Excellent  \\\n",
       "0                         0                            0   \n",
       "1                         0                            0   \n",
       "2                         0                            0   \n",
       "3                         0                            0   \n",
       "4                         0                            0   \n",
       "..                      ...                          ...   \n",
       "56                        1                            1   \n",
       "57                        1                            0   \n",
       "58                        1                            0   \n",
       "59                        1                            0   \n",
       "60                        1                            1   \n",
       "\n",
       "    x_Course24_passed_Good  x_Course24_passed_Satisfactory  \\\n",
       "0                        0                               0   \n",
       "1                        0                               0   \n",
       "2                        0                               0   \n",
       "3                        0                               0   \n",
       "4                        0                               0   \n",
       "..                     ...                             ...   \n",
       "56                       0                               0   \n",
       "57                       0                               1   \n",
       "58                       1                               0   \n",
       "59                       1                               0   \n",
       "60                       0                               0   \n",
       "\n",
       "    x_Course24_passed_Sufficient  \n",
       "0                              0  \n",
       "1                              0  \n",
       "2                              0  \n",
       "3                              0  \n",
       "4                              0  \n",
       "..                           ...  \n",
       "56                             0  \n",
       "57                             0  \n",
       "58                             0  \n",
       "59                             0  \n",
       "60                             0  \n",
       "\n",
       "[61 rows x 70 columns]"
      ]
     },
     "execution_count": 6,
     "metadata": {},
     "output_type": "execute_result"
    }
   ],
   "source": [
    "final_df"
   ]
  },
  {
   "cell_type": "code",
   "execution_count": 7,
   "metadata": {},
   "outputs": [],
   "source": [
    "# Filter columns in df that do not contain the substring 'Course'\n",
    "non_course_columns_df = df.loc[:, ~df.columns.str.contains('Course')]\n",
    "\n",
    "# Concatenate the non-course columns from the original DataFrame with the final DataFrame\n",
    "merged_df = pd.concat([non_course_columns_df, final_df], axis=1)\n",
    "\n"
   ]
  },
  {
   "cell_type": "code",
   "execution_count": 8,
   "metadata": {},
   "outputs": [],
   "source": [
    "# Save the merged DataFrame to an Excel file\n",
    "merged_df.to_excel('merged_data.xlsx', index=False)\n",
    "\n",
    "# Print a message to confirm the file has been saved\n",
    "print(\"Merged data has been saved to 'merged_data.xlsx\")"
   ]
  },
  {
   "cell_type": "code",
   "execution_count": null,
   "metadata": {},
   "outputs": [
    {
     "data": {
      "text/html": [
       "<div>\n",
       "<style scoped>\n",
       "    .dataframe tbody tr th:only-of-type {\n",
       "        vertical-align: middle;\n",
       "    }\n",
       "\n",
       "    .dataframe tbody tr th {\n",
       "        vertical-align: top;\n",
       "    }\n",
       "\n",
       "    .dataframe thead th {\n",
       "        text-align: right;\n",
       "    }\n",
       "</style>\n",
       "<table border=\"1\" class=\"dataframe\">\n",
       "  <thead>\n",
       "    <tr style=\"text-align: right;\">\n",
       "      <th></th>\n",
       "      <th>Gender</th>\n",
       "      <th>1_Course3_FirstTryPassed</th>\n",
       "      <th>1_Course3_FirstTryPresent</th>\n",
       "      <th>1_Course3_Both_notPresent</th>\n",
       "      <th>1_Course3_PassedCourse</th>\n",
       "      <th>1_Course3_passed_Excellent</th>\n",
       "      <th>1_Course3_passed_Good</th>\n",
       "      <th>1_Course3_passed_Satisfactory</th>\n",
       "      <th>1_Course3_passed_Sufficient</th>\n",
       "      <th>1_Course9_FirstTryPassed</th>\n",
       "      <th>...</th>\n",
       "      <th>2_Course7_passed_Sufficient</th>\n",
       "      <th>Nationality_Afrika</th>\n",
       "      <th>Nationality_Azie</th>\n",
       "      <th>Nationality_EU</th>\n",
       "      <th>Nationality_Europa</th>\n",
       "      <th>Nationality_Mid-Zuid-Amerika</th>\n",
       "      <th>Nationality_Nederland</th>\n",
       "      <th>Nationality_Noord-Amerika</th>\n",
       "      <th>Nationality_Oceanie</th>\n",
       "      <th>Nationality_Onbekend</th>\n",
       "    </tr>\n",
       "  </thead>\n",
       "  <tbody>\n",
       "    <tr>\n",
       "      <th>0</th>\n",
       "      <td>1</td>\n",
       "      <td>0</td>\n",
       "      <td>1</td>\n",
       "      <td>0</td>\n",
       "      <td>0</td>\n",
       "      <td>0</td>\n",
       "      <td>0</td>\n",
       "      <td>0</td>\n",
       "      <td>0</td>\n",
       "      <td>0</td>\n",
       "      <td>...</td>\n",
       "      <td>0</td>\n",
       "      <td>0</td>\n",
       "      <td>0</td>\n",
       "      <td>0</td>\n",
       "      <td>0</td>\n",
       "      <td>0</td>\n",
       "      <td>1</td>\n",
       "      <td>0</td>\n",
       "      <td>0</td>\n",
       "      <td>0</td>\n",
       "    </tr>\n",
       "    <tr>\n",
       "      <th>1</th>\n",
       "      <td>0</td>\n",
       "      <td>0</td>\n",
       "      <td>1</td>\n",
       "      <td>0</td>\n",
       "      <td>0</td>\n",
       "      <td>0</td>\n",
       "      <td>0</td>\n",
       "      <td>0</td>\n",
       "      <td>0</td>\n",
       "      <td>0</td>\n",
       "      <td>...</td>\n",
       "      <td>0</td>\n",
       "      <td>0</td>\n",
       "      <td>0</td>\n",
       "      <td>0</td>\n",
       "      <td>0</td>\n",
       "      <td>0</td>\n",
       "      <td>1</td>\n",
       "      <td>0</td>\n",
       "      <td>0</td>\n",
       "      <td>0</td>\n",
       "    </tr>\n",
       "    <tr>\n",
       "      <th>2</th>\n",
       "      <td>0</td>\n",
       "      <td>0</td>\n",
       "      <td>1</td>\n",
       "      <td>0</td>\n",
       "      <td>0</td>\n",
       "      <td>0</td>\n",
       "      <td>0</td>\n",
       "      <td>0</td>\n",
       "      <td>0</td>\n",
       "      <td>0</td>\n",
       "      <td>...</td>\n",
       "      <td>0</td>\n",
       "      <td>0</td>\n",
       "      <td>1</td>\n",
       "      <td>0</td>\n",
       "      <td>0</td>\n",
       "      <td>0</td>\n",
       "      <td>0</td>\n",
       "      <td>0</td>\n",
       "      <td>0</td>\n",
       "      <td>0</td>\n",
       "    </tr>\n",
       "    <tr>\n",
       "      <th>3</th>\n",
       "      <td>1</td>\n",
       "      <td>0</td>\n",
       "      <td>1</td>\n",
       "      <td>0</td>\n",
       "      <td>0</td>\n",
       "      <td>0</td>\n",
       "      <td>0</td>\n",
       "      <td>0</td>\n",
       "      <td>0</td>\n",
       "      <td>0</td>\n",
       "      <td>...</td>\n",
       "      <td>0</td>\n",
       "      <td>0</td>\n",
       "      <td>0</td>\n",
       "      <td>0</td>\n",
       "      <td>0</td>\n",
       "      <td>0</td>\n",
       "      <td>1</td>\n",
       "      <td>0</td>\n",
       "      <td>0</td>\n",
       "      <td>0</td>\n",
       "    </tr>\n",
       "    <tr>\n",
       "      <th>4</th>\n",
       "      <td>0</td>\n",
       "      <td>0</td>\n",
       "      <td>0</td>\n",
       "      <td>1</td>\n",
       "      <td>0</td>\n",
       "      <td>0</td>\n",
       "      <td>0</td>\n",
       "      <td>0</td>\n",
       "      <td>0</td>\n",
       "      <td>0</td>\n",
       "      <td>...</td>\n",
       "      <td>0</td>\n",
       "      <td>0</td>\n",
       "      <td>0</td>\n",
       "      <td>1</td>\n",
       "      <td>0</td>\n",
       "      <td>0</td>\n",
       "      <td>0</td>\n",
       "      <td>0</td>\n",
       "      <td>0</td>\n",
       "      <td>0</td>\n",
       "    </tr>\n",
       "    <tr>\n",
       "      <th>...</th>\n",
       "      <td>...</td>\n",
       "      <td>...</td>\n",
       "      <td>...</td>\n",
       "      <td>...</td>\n",
       "      <td>...</td>\n",
       "      <td>...</td>\n",
       "      <td>...</td>\n",
       "      <td>...</td>\n",
       "      <td>...</td>\n",
       "      <td>...</td>\n",
       "      <td>...</td>\n",
       "      <td>...</td>\n",
       "      <td>...</td>\n",
       "      <td>...</td>\n",
       "      <td>...</td>\n",
       "      <td>...</td>\n",
       "      <td>...</td>\n",
       "      <td>...</td>\n",
       "      <td>...</td>\n",
       "      <td>...</td>\n",
       "      <td>...</td>\n",
       "    </tr>\n",
       "    <tr>\n",
       "      <th>56</th>\n",
       "      <td>0</td>\n",
       "      <td>1</td>\n",
       "      <td>1</td>\n",
       "      <td>0</td>\n",
       "      <td>1</td>\n",
       "      <td>0</td>\n",
       "      <td>1</td>\n",
       "      <td>0</td>\n",
       "      <td>0</td>\n",
       "      <td>1</td>\n",
       "      <td>...</td>\n",
       "      <td>1</td>\n",
       "      <td>0</td>\n",
       "      <td>0</td>\n",
       "      <td>1</td>\n",
       "      <td>0</td>\n",
       "      <td>0</td>\n",
       "      <td>0</td>\n",
       "      <td>0</td>\n",
       "      <td>0</td>\n",
       "      <td>0</td>\n",
       "    </tr>\n",
       "    <tr>\n",
       "      <th>57</th>\n",
       "      <td>1</td>\n",
       "      <td>1</td>\n",
       "      <td>1</td>\n",
       "      <td>0</td>\n",
       "      <td>1</td>\n",
       "      <td>0</td>\n",
       "      <td>0</td>\n",
       "      <td>1</td>\n",
       "      <td>0</td>\n",
       "      <td>0</td>\n",
       "      <td>...</td>\n",
       "      <td>0</td>\n",
       "      <td>0</td>\n",
       "      <td>0</td>\n",
       "      <td>0</td>\n",
       "      <td>0</td>\n",
       "      <td>0</td>\n",
       "      <td>1</td>\n",
       "      <td>0</td>\n",
       "      <td>0</td>\n",
       "      <td>0</td>\n",
       "    </tr>\n",
       "    <tr>\n",
       "      <th>58</th>\n",
       "      <td>1</td>\n",
       "      <td>1</td>\n",
       "      <td>1</td>\n",
       "      <td>0</td>\n",
       "      <td>1</td>\n",
       "      <td>0</td>\n",
       "      <td>0</td>\n",
       "      <td>1</td>\n",
       "      <td>0</td>\n",
       "      <td>0</td>\n",
       "      <td>...</td>\n",
       "      <td>0</td>\n",
       "      <td>0</td>\n",
       "      <td>0</td>\n",
       "      <td>0</td>\n",
       "      <td>0</td>\n",
       "      <td>0</td>\n",
       "      <td>1</td>\n",
       "      <td>0</td>\n",
       "      <td>0</td>\n",
       "      <td>0</td>\n",
       "    </tr>\n",
       "    <tr>\n",
       "      <th>59</th>\n",
       "      <td>1</td>\n",
       "      <td>1</td>\n",
       "      <td>1</td>\n",
       "      <td>0</td>\n",
       "      <td>1</td>\n",
       "      <td>0</td>\n",
       "      <td>0</td>\n",
       "      <td>1</td>\n",
       "      <td>0</td>\n",
       "      <td>0</td>\n",
       "      <td>...</td>\n",
       "      <td>0</td>\n",
       "      <td>0</td>\n",
       "      <td>0</td>\n",
       "      <td>0</td>\n",
       "      <td>0</td>\n",
       "      <td>0</td>\n",
       "      <td>1</td>\n",
       "      <td>0</td>\n",
       "      <td>0</td>\n",
       "      <td>0</td>\n",
       "    </tr>\n",
       "    <tr>\n",
       "      <th>60</th>\n",
       "      <td>1</td>\n",
       "      <td>1</td>\n",
       "      <td>1</td>\n",
       "      <td>0</td>\n",
       "      <td>1</td>\n",
       "      <td>0</td>\n",
       "      <td>0</td>\n",
       "      <td>1</td>\n",
       "      <td>0</td>\n",
       "      <td>1</td>\n",
       "      <td>...</td>\n",
       "      <td>0</td>\n",
       "      <td>0</td>\n",
       "      <td>0</td>\n",
       "      <td>0</td>\n",
       "      <td>0</td>\n",
       "      <td>0</td>\n",
       "      <td>1</td>\n",
       "      <td>0</td>\n",
       "      <td>0</td>\n",
       "      <td>0</td>\n",
       "    </tr>\n",
       "  </tbody>\n",
       "</table>\n",
       "<p>61 rows × 40 columns</p>\n",
       "</div>"
      ],
      "text/plain": [
       "    Gender  1_Course3_FirstTryPassed  1_Course3_FirstTryPresent  \\\n",
       "0        1                         0                          1   \n",
       "1        0                         0                          1   \n",
       "2        0                         0                          1   \n",
       "3        1                         0                          1   \n",
       "4        0                         0                          0   \n",
       "..     ...                       ...                        ...   \n",
       "56       0                         1                          1   \n",
       "57       1                         1                          1   \n",
       "58       1                         1                          1   \n",
       "59       1                         1                          1   \n",
       "60       1                         1                          1   \n",
       "\n",
       "    1_Course3_Both_notPresent  1_Course3_PassedCourse  \\\n",
       "0                           0                       0   \n",
       "1                           0                       0   \n",
       "2                           0                       0   \n",
       "3                           0                       0   \n",
       "4                           1                       0   \n",
       "..                        ...                     ...   \n",
       "56                          0                       1   \n",
       "57                          0                       1   \n",
       "58                          0                       1   \n",
       "59                          0                       1   \n",
       "60                          0                       1   \n",
       "\n",
       "    1_Course3_passed_Excellent  1_Course3_passed_Good  \\\n",
       "0                            0                      0   \n",
       "1                            0                      0   \n",
       "2                            0                      0   \n",
       "3                            0                      0   \n",
       "4                            0                      0   \n",
       "..                         ...                    ...   \n",
       "56                           0                      1   \n",
       "57                           0                      0   \n",
       "58                           0                      0   \n",
       "59                           0                      0   \n",
       "60                           0                      0   \n",
       "\n",
       "    1_Course3_passed_Satisfactory  1_Course3_passed_Sufficient  \\\n",
       "0                               0                            0   \n",
       "1                               0                            0   \n",
       "2                               0                            0   \n",
       "3                               0                            0   \n",
       "4                               0                            0   \n",
       "..                            ...                          ...   \n",
       "56                              0                            0   \n",
       "57                              1                            0   \n",
       "58                              1                            0   \n",
       "59                              1                            0   \n",
       "60                              1                            0   \n",
       "\n",
       "    1_Course9_FirstTryPassed  ...  2_Course7_passed_Sufficient  \\\n",
       "0                          0  ...                            0   \n",
       "1                          0  ...                            0   \n",
       "2                          0  ...                            0   \n",
       "3                          0  ...                            0   \n",
       "4                          0  ...                            0   \n",
       "..                       ...  ...                          ...   \n",
       "56                         1  ...                            1   \n",
       "57                         0  ...                            0   \n",
       "58                         0  ...                            0   \n",
       "59                         0  ...                            0   \n",
       "60                         1  ...                            0   \n",
       "\n",
       "    Nationality_Afrika  Nationality_Azie  Nationality_EU  Nationality_Europa  \\\n",
       "0                    0                 0               0                   0   \n",
       "1                    0                 0               0                   0   \n",
       "2                    0                 1               0                   0   \n",
       "3                    0                 0               0                   0   \n",
       "4                    0                 0               1                   0   \n",
       "..                 ...               ...             ...                 ...   \n",
       "56                   0                 0               1                   0   \n",
       "57                   0                 0               0                   0   \n",
       "58                   0                 0               0                   0   \n",
       "59                   0                 0               0                   0   \n",
       "60                   0                 0               0                   0   \n",
       "\n",
       "    Nationality_Mid-Zuid-Amerika  Nationality_Nederland  \\\n",
       "0                              0                      1   \n",
       "1                              0                      1   \n",
       "2                              0                      0   \n",
       "3                              0                      1   \n",
       "4                              0                      0   \n",
       "..                           ...                    ...   \n",
       "56                             0                      0   \n",
       "57                             0                      1   \n",
       "58                             0                      1   \n",
       "59                             0                      1   \n",
       "60                             0                      1   \n",
       "\n",
       "    Nationality_Noord-Amerika  Nationality_Oceanie  Nationality_Onbekend  \n",
       "0                           0                    0                     0  \n",
       "1                           0                    0                     0  \n",
       "2                           0                    0                     0  \n",
       "3                           0                    0                     0  \n",
       "4                           0                    0                     0  \n",
       "..                        ...                  ...                   ...  \n",
       "56                          0                    0                     0  \n",
       "57                          0                    0                     0  \n",
       "58                          0                    0                     0  \n",
       "59                          0                    0                     0  \n",
       "60                          0                    0                     0  \n",
       "\n",
       "[61 rows x 40 columns]"
      ]
     },
     "execution_count": 120,
     "metadata": {},
     "output_type": "execute_result"
    }
   ],
   "source": [
    "columns_to_drop = ['train', 'PreEducation', 'Program', 'Year', 'BSA', 'Credits-B1B2', 'Credits-Y1']\n",
    "\n",
    "\n",
    "df_Clustering = merged_df.dropna(axis=1).drop(columns=columns_to_drop)\n",
    "\n",
    "# Create dummy variables\n",
    "nationality_dummies = pd.get_dummies(df_Clustering['Nationality'], prefix='Nationality',dtype='int')\n",
    "\n",
    "# Concatenate the dummy variables with the original DataFrame\n",
    "df_Clustering = pd.concat([df_Clustering, nationality_dummies], axis=1)\n",
    "\n",
    "# Drop the original 'Nationality' column\n",
    "df_Clustering = df_Clustering.drop(columns=['Nationality'])\n",
    "\n",
    "\n",
    "# # Assuming df is your DataFrame\n",
    "# columns_to_drop = df_Clustering.filter(regex='^x_').columns\n",
    "# df_Clustering = df_Clustering.drop(columns=columns_to_drop)\n",
    "# df_Clustering\n"
   ]
  },
  {
   "cell_type": "code",
   "execution_count": null,
   "metadata": {},
   "outputs": [
    {
     "data": {
      "image/png": "[encoded data removed]",
      "text/plain": [
       "<Figure size 640x480 with 1 Axes>"
      ]
     },
     "metadata": {},
     "output_type": "display_data"
    }
   ],
   "source": [
    "import matplotlib.pyplot as plt\n",
    "from sklearn.cluster import KMeans\n",
    "from sklearn.metrics.pairwise import euclidean_distances\n",
    "import umap\n",
    "\n",
    "import numpy as np\n",
    "\n",
    "\n",
    "def kmeans():\n",
    "    inertia = []\n",
    "    for i in range(1, 21):\n",
    "        kmeans = KMeans(n_clusters=i, n_init=10)\n",
    "        kmeans.fit(df_Clustering.dropna(axis=1))\n",
    "        inertia.append(kmeans.inertia_)\n",
    "\n",
    "    # Plot the elbow method\n",
    "    plt.plot(range(1, 21), inertia, marker='o')\n",
    "    plt.xlabel('Number of clusters (k)')\n",
    "    plt.ylabel('Inertia')\n",
    "    plt.title('Elbow Method for Optimal K')\n",
    "\n",
    "    plt.xticks(range(1,21))\n",
    "    plt.show()\n",
    "\n",
    "kmeans()\n",
    "\n"
   ]
  },
  {
   "cell_type": "code",
   "execution_count": null,
   "metadata": {},
   "outputs": [],
   "source": [
    "# Use UMAP for dimensionality reduction to 2D\n",
    "\n",
    "reducer = umap.UMAP()\n",
    "umap_embeddings = reducer.fit_transform(df_Clustering)\n",
    "\n",
    "# Apply KMeans with the optimal number of clusters\n",
    "\n",
    "\n",
    "kmeans = KMeans(n_clusters=2)\n",
    "cluster_labels = kmeans.fit_predict(df_Clustering)\n",
    "\n"
   ]
  },
  {
   "cell_type": "code",
   "execution_count": null,
   "metadata": {},
   "outputs": [
    {
     "data": {
      "application/vnd.plotly.v1+json": {
       "config": {
        "plotlyServerURL": "https://plot.ly"
       },
       "data": [
        {
         "marker": {
          "color": [
           1,
           1,
           1,
           1,
           1,
           1,
           1,
           1,
           1,
           0,
           1,
           0,
           0,
           0,
           0,
           1,
           1,
           0,
           1,
           0,
           0,
           0,
           0,
           0,
           0,
           0,
           0,
           0,
           1,
           1,
           0,
           0,
           0,
           0,
           1,
           0,
           1,
           1,
           0,
           1,
           0,
           0,
           0,
           0,
           1,
           1,
           0,
           1,
           1,
           1,
           0,
           0,
           1,
           0,
           1,
           0,
           0,
           0,
           0,
           0,
           0
          ],
          "colorbar": {
           "title": {
            "text": "Cluster"
           }
          },
          "colorscale": [
           [
            0,
            "rgb(0,0,255)"
           ],
           [
            1,
            "rgb(255,0,0)"
           ]
          ],
          "size": 10,
          "symbol": [
           "cross",
           "cross",
           "cross",
           "cross",
           "cross",
           "cross",
           "cross",
           "cross",
           "cross",
           "cross",
           "cross",
           "cross",
           "square",
           "square",
           "square",
           "square",
           "square",
           "square",
           "square",
           "square",
           "square",
           "square",
           "square",
           "square",
           "square",
           "square",
           "square",
           "square",
           "square",
           "cross",
           "square",
           "square",
           "square",
           "square",
           "square",
           "square",
           "cross",
           "cross",
           "cross",
           "cross",
           "square",
           "square",
           "square",
           "square",
           "cross",
           "cross",
           "square",
           "cross",
           "cross",
           "cross",
           "square",
           "square",
           "square",
           "square",
           "cross",
           "square",
           "square",
           "cross",
           "square",
           "square",
           "square"
          ]
         },
         "mode": "markers",
         "text": [
          "Credits-Y1: 0<br>Nationality: Nederland<br>Gender: 1<br>Credits-B1B2: 0",
          "Credits-Y1: 0<br>Nationality: Nederland<br>Gender: 0<br>Credits-B1B2: 0",
          "Credits-Y1: 0<br>Nationality: Azie<br>Gender: 0<br>Credits-B1B2: 0",
          "Credits-Y1: 0<br>Nationality: Nederland<br>Gender: 1<br>Credits-B1B2: 0",
          "Credits-Y1: 0<br>Nationality: EU<br>Gender: 0<br>Credits-B1B2: 0",
          "Credits-Y1: 12<br>Nationality: EU<br>Gender: 1<br>Credits-B1B2: 0",
          "Credits-Y1: 18<br>Nationality: EU<br>Gender: 1<br>Credits-B1B2: 0",
          "Credits-Y1: 18<br>Nationality: Nederland<br>Gender: 1<br>Credits-B1B2: 12",
          "Credits-Y1: 24<br>Nationality: EU<br>Gender: 0<br>Credits-B1B2: 6",
          "Credits-Y1: 24<br>Nationality: Nederland<br>Gender: 1<br>Credits-B1B2: 12",
          "Credits-Y1: 36<br>Nationality: Nederland<br>Gender: 0<br>Credits-B1B2: 6",
          "Credits-Y1: 36<br>Nationality: EU<br>Gender: 0<br>Credits-B1B2: 24",
          "Credits-Y1: 42<br>Nationality: Nederland<br>Gender: 0<br>Credits-B1B2: 24",
          "Credits-Y1: 42<br>Nationality: Nederland<br>Gender: 0<br>Credits-B1B2: 24",
          "Credits-Y1: 42<br>Nationality: EU<br>Gender: 1<br>Credits-B1B2: 24",
          "Credits-Y1: 42<br>Nationality: Afrika<br>Gender: 1<br>Credits-B1B2: 6",
          "Credits-Y1: 42<br>Nationality: EU<br>Gender: 0<br>Credits-B1B2: 6",
          "Credits-Y1: 48<br>Nationality: Nederland<br>Gender: 0<br>Credits-B1B2: 12",
          "Credits-Y1: 48<br>Nationality: Nederland<br>Gender: 0<br>Credits-B1B2: 6",
          "Credits-Y1: 54<br>Nationality: Nederland<br>Gender: 1<br>Credits-B1B2: 24",
          "Credits-Y1: 54<br>Nationality: Azie<br>Gender: 0<br>Credits-B1B2: 24",
          "Credits-Y1: 54<br>Nationality: Azie<br>Gender: 1<br>Credits-B1B2: 24",
          "Credits-Y1: 60<br>Nationality: EU<br>Gender: 0<br>Credits-B1B2: 24",
          "Credits-Y1: 60<br>Nationality: EU<br>Gender: 1<br>Credits-B1B2: 24",
          "Credits-Y1: 60<br>Nationality: Nederland<br>Gender: 1<br>Credits-B1B2: 24",
          "Credits-Y1: 60<br>Nationality: EU<br>Gender: 0<br>Credits-B1B2: 24",
          "Credits-Y1: 60<br>Nationality: EU<br>Gender: 1<br>Credits-B1B2: 18",
          "Credits-Y1: 60<br>Nationality: Nederland<br>Gender: 0<br>Credits-B1B2: 24",
          "Credits-Y1: 24<br>Nationality: EU<br>Gender: 1<br>Credits-B1B2: 6",
          "Credits-Y1: 6<br>Nationality: Nederland<br>Gender: 1<br>Credits-B1B2: 6",
          "Credits-Y1: 60<br>Nationality: Europa<br>Gender: 0<br>Credits-B1B2: 24",
          "Credits-Y1: 54<br>Nationality: Nederland<br>Gender: 0<br>Credits-B1B2: 18",
          "Credits-Y1: 54<br>Nationality: Nederland<br>Gender: 1<br>Credits-B1B2: 18",
          "Credits-Y1: 48<br>Nationality: EU<br>Gender: 1<br>Credits-B1B2: 6",
          "Credits-Y1: 48<br>Nationality: EU<br>Gender: 0<br>Credits-B1B2: 12",
          "Credits-Y1: 54<br>Nationality: EU<br>Gender: 1<br>Credits-B1B2: 24",
          "Credits-Y1: 24<br>Nationality: EU<br>Gender: 0<br>Credits-B1B2: 12",
          "Credits-Y1: 30<br>Nationality: Nederland<br>Gender: 1<br>Credits-B1B2: 12",
          "Credits-Y1: 30<br>Nationality: EU<br>Gender: 1<br>Credits-B1B2: 18",
          "Credits-Y1: 18<br>Nationality: Azie<br>Gender: 1<br>Credits-B1B2: 12",
          "Credits-Y1: 60<br>Nationality: Afrika<br>Gender: 1<br>Credits-B1B2: 24",
          "Credits-Y1: 60<br>Nationality: Europa<br>Gender: 1<br>Credits-B1B2: 30",
          "Credits-Y1: 60<br>Nationality: EU<br>Gender: 1<br>Credits-B1B2: 30",
          "Credits-Y1: 54<br>Nationality: Azie<br>Gender: 1<br>Credits-B1B2: 18",
          "Credits-Y1: 6<br>Nationality: Azie<br>Gender: 1<br>Credits-B1B2: 6",
          "Credits-Y1: 0<br>Nationality: Noord-Amerika<br>Gender: 0<br>Credits-B1B2: 0",
          "Credits-Y1: 60<br>Nationality: Nederland<br>Gender: 1<br>Credits-B1B2: 18",
          "Credits-Y1: 36<br>Nationality: Noord-Amerika<br>Gender: 1<br>Credits-B1B2: 12",
          "Credits-Y1: 12<br>Nationality: Mid-Zuid-Amerika<br>Gender: 1<br>Credits-B1B2: 12",
          "Credits-Y1: 18<br>Nationality: Mid-Zuid-Amerika<br>Gender: 1<br>Credits-B1B2: 12",
          "Credits-Y1: 60<br>Nationality: Mid-Zuid-Amerika<br>Gender: 0<br>Credits-B1B2: 24",
          "Credits-Y1: 54<br>Nationality: Mid-Zuid-Amerika<br>Gender: 1<br>Credits-B1B2: 18",
          "Credits-Y1: 54<br>Nationality: Oceanie<br>Gender: 0<br>Credits-B1B2: 12",
          "Credits-Y1: 60<br>Nationality: Onbekend<br>Gender: 1<br>Credits-B1B2: 24",
          "Credits-Y1: 0<br>Nationality: Afrika<br>Gender: 0<br>Credits-B1B2: 0",
          "Credits-Y1: 48<br>Nationality: Afrika<br>Gender: 0<br>Credits-B1B2: 18",
          "Credits-Y1: 60<br>Nationality: EU<br>Gender: 0<br>Credits-B1B2: 24",
          "Credits-Y1: 36<br>Nationality: Nederland<br>Gender: 1<br>Credits-B1B2: 12",
          "Credits-Y1: 48<br>Nationality: Nederland<br>Gender: 1<br>Credits-B1B2: 18",
          "Credits-Y1: 54<br>Nationality: Nederland<br>Gender: 1<br>Credits-B1B2: 18",
          "Credits-Y1: 60<br>Nationality: Nederland<br>Gender: 1<br>Credits-B1B2: 24"
         ],
         "type": "scatter",
         "x": [
          11.432136535644531,
          11.032074928283691,
          11.022872924804688,
          11.219562530517578,
          10.821075439453125,
          11.260697364807129,
          11.222172737121582,
          10.174493789672852,
          10.649147987365723,
          7.586048126220703,
          10.394208908081055,
          6.41365909576416,
          6.779059410095215,
          7.706465244293213,
          6.5797648429870605,
          10.262310981750488,
          10.432266235351562,
          8.362882614135742,
          9.763442039489746,
          7.198016166687012,
          6.182284355163574,
          7.378936767578125,
          7.5977463722229,
          6.788679122924805,
          7.13675594329834,
          5.7922539710998535,
          6.059288501739502,
          7.427584171295166,
          11.011757850646973,
          10.568602561950684,
          5.485995292663574,
          6.339696407318115,
          6.110579490661621,
          8.294471740722656,
          8.811116218566895,
          6.73164176940918,
          9.275471687316895,
          9.00552749633789,
          8.08784294128418,
          9.527478218078613,
          5.450604438781738,
          5.266411781311035,
          5.315445899963379,
          5.796358585357666,
          10.184340476989746,
          10.98433780670166,
          5.645544528961182,
          9.187585830688477,
          9.803576469421387,
          10.126797676086426,
          7.642180919647217,
          7.642178058624268,
          8.841039657592773,
          6.892819881439209,
          11.3878812789917,
          7.761195659637451,
          6.286549091339111,
          7.240782737731934,
          7.096377372741699,
          6.917594909667969,
          7.003818511962891
         ],
         "y": [
          7.6291327476501465,
          7.875186920166016,
          8.164154052734375,
          8.433618545532227,
          7.50706148147583,
          7.372855186462402,
          7.5381340980529785,
          9.719948768615723,
          8.275705337524414,
          8.240771293640137,
          9.520241737365723,
          9.562140464782715,
          10.578686714172363,
          10.174649238586426,
          9.263925552368164,
          9.89693832397461,
          8.164823532104492,
          10.115581512451172,
          9.796576499938965,
          10.120396614074707,
          9.109505653381348,
          10.69796371459961,
          9.468564987182617,
          9.315871238708496,
          8.837456703186035,
          9.740429878234863,
          10.33024787902832,
          9.963568687438965,
          7.2283196449279785,
          9.188843727111816,
          9.991601943969727,
          8.732084274291992,
          8.353188514709473,
          8.516319274902344,
          9.946452140808105,
          8.730436325073242,
          9.66464614868164,
          9.060685157775879,
          8.971728324890137,
          9.312183380126953,
          9.886560440063477,
          9.600503921508789,
          9.56367301940918,
          8.867226600646973,
          8.556412696838379,
          7.9352707862854,
          8.87321949005127,
          9.2797269821167,
          9.081005096435547,
          9.238138198852539,
          10.36349105834961,
          8.478642463684082,
          9.309493064880371,
          10.10048770904541,
          8.057405471801758,
          10.583244323730469,
          10.046270370483398,
          8.244768142700195,
          8.061479568481445,
          8.497590065002441,
          9.503695487976074
         ]
        }
       ],
       "layout": {
        "height": 1200,
        "template": {
         "data": {
          "bar": [
           {
            "error_x": {
             "color": "#2a3f5f"
            },
            "error_y": {
             "color": "#2a3f5f"
            },
            "marker": {
             "line": {
              "color": "#E5ECF6",
              "width": 0.5
             },
             "pattern": {
              "fillmode": "overlay",
              "size": 10,
              "solidity": 0.2
             }
            },
            "type": "bar"
           }
          ],
          "barpolar": [
           {
            "marker": {
             "line": {
              "color": "#E5ECF6",
              "width": 0.5
             },
             "pattern": {
              "fillmode": "overlay",
              "size": 10,
              "solidity": 0.2
             }
            },
            "type": "barpolar"
           }
          ],
          "carpet": [
           {
            "aaxis": {
             "endlinecolor": "#2a3f5f",
             "gridcolor": "white",
             "linecolor": "white",
             "minorgridcolor": "white",
             "startlinecolor": "#2a3f5f"
            },
            "baxis": {
             "endlinecolor": "#2a3f5f",
             "gridcolor": "white",
             "linecolor": "white",
             "minorgridcolor": "white",
             "startlinecolor": "#2a3f5f"
            },
            "type": "carpet"
           }
          ],
          "choropleth": [
           {
            "colorbar": {
             "outlinewidth": 0,
             "ticks": ""
            },
            "type": "choropleth"
           }
          ],
          "contour": [
           {
            "colorbar": {
             "outlinewidth": 0,
             "ticks": ""
            },
            "colorscale": [
             [
              0,
              "#0d0887"
             ],
             [
              0.1111111111111111,
              "#46039f"
             ],
             [
              0.2222222222222222,
              "#7201a8"
             ],
             [
              0.3333333333333333,
              "#9c179e"
             ],
             [
              0.4444444444444444,
              "#bd3786"
             ],
             [
              0.5555555555555556,
              "#d8576b"
             ],
             [
              0.6666666666666666,
              "#ed7953"
             ],
             [
              0.7777777777777778,
              "#fb9f3a"
             ],
             [
              0.8888888888888888,
              "#fdca26"
             ],
             [
              1,
              "#f0f921"
             ]
            ],
            "type": "contour"
           }
          ],
          "contourcarpet": [
           {
            "colorbar": {
             "outlinewidth": 0,
             "ticks": ""
            },
            "type": "contourcarpet"
           }
          ],
          "heatmap": [
           {
            "colorbar": {
             "outlinewidth": 0,
             "ticks": ""
            },
            "colorscale": [
             [
              0,
              "#0d0887"
             ],
             [
              0.1111111111111111,
              "#46039f"
             ],
             [
              0.2222222222222222,
              "#7201a8"
             ],
             [
              0.3333333333333333,
              "#9c179e"
             ],
             [
              0.4444444444444444,
              "#bd3786"
             ],
             [
              0.5555555555555556,
              "#d8576b"
             ],
             [
              0.6666666666666666,
              "#ed7953"
             ],
             [
              0.7777777777777778,
              "#fb9f3a"
             ],
             [
              0.8888888888888888,
              "#fdca26"
             ],
             [
              1,
              "#f0f921"
             ]
            ],
            "type": "heatmap"
           }
          ],
          "heatmapgl": [
           {
            "colorbar": {
             "outlinewidth": 0,
             "ticks": ""
            },
            "colorscale": [
             [
              0,
              "#0d0887"
             ],
             [
              0.1111111111111111,
              "#46039f"
             ],
             [
              0.2222222222222222,
              "#7201a8"
             ],
             [
              0.3333333333333333,
              "#9c179e"
             ],
             [
              0.4444444444444444,
              "#bd3786"
             ],
             [
              0.5555555555555556,
              "#d8576b"
             ],
             [
              0.6666666666666666,
              "#ed7953"
             ],
             [
              0.7777777777777778,
              "#fb9f3a"
             ],
             [
              0.8888888888888888,
              "#fdca26"
             ],
             [
              1,
              "#f0f921"
             ]
            ],
            "type": "heatmapgl"
           }
          ],
          "histogram": [
           {
            "marker": {
             "pattern": {
              "fillmode": "overlay",
              "size": 10,
              "solidity": 0.2
             }
            },
            "type": "histogram"
           }
          ],
          "histogram2d": [
           {
            "colorbar": {
             "outlinewidth": 0,
             "ticks": ""
            },
            "colorscale": [
             [
              0,
              "#0d0887"
             ],
             [
              0.1111111111111111,
              "#46039f"
             ],
             [
              0.2222222222222222,
              "#7201a8"
             ],
             [
              0.3333333333333333,
              "#9c179e"
             ],
             [
              0.4444444444444444,
              "#bd3786"
             ],
             [
              0.5555555555555556,
              "#d8576b"
             ],
             [
              0.6666666666666666,
              "#ed7953"
             ],
             [
              0.7777777777777778,
              "#fb9f3a"
             ],
             [
              0.8888888888888888,
              "#fdca26"
             ],
             [
              1,
              "#f0f921"
             ]
            ],
            "type": "histogram2d"
           }
          ],
          "histogram2dcontour": [
           {
            "colorbar": {
             "outlinewidth": 0,
             "ticks": ""
            },
            "colorscale": [
             [
              0,
              "#0d0887"
             ],
             [
              0.1111111111111111,
              "#46039f"
             ],
             [
              0.2222222222222222,
              "#7201a8"
             ],
             [
              0.3333333333333333,
              "#9c179e"
             ],
             [
              0.4444444444444444,
              "#bd3786"
             ],
             [
              0.5555555555555556,
              "#d8576b"
             ],
             [
              0.6666666666666666,
              "#ed7953"
             ],
             [
              0.7777777777777778,
              "#fb9f3a"
             ],
             [
              0.8888888888888888,
              "#fdca26"
             ],
             [
              1,
              "#f0f921"
             ]
            ],
            "type": "histogram2dcontour"
           }
          ],
          "mesh3d": [
           {
            "colorbar": {
             "outlinewidth": 0,
             "ticks": ""
            },
            "type": "mesh3d"
           }
          ],
          "parcoords": [
           {
            "line": {
             "colorbar": {
              "outlinewidth": 0,
              "ticks": ""
             }
            },
            "type": "parcoords"
           }
          ],
          "pie": [
           {
            "automargin": true,
            "type": "pie"
           }
          ],
          "scatter": [
           {
            "fillpattern": {
             "fillmode": "overlay",
             "size": 10,
             "solidity": 0.2
            },
            "type": "scatter"
           }
          ],
          "scatter3d": [
           {
            "line": {
             "colorbar": {
              "outlinewidth": 0,
              "ticks": ""
             }
            },
            "marker": {
             "colorbar": {
              "outlinewidth": 0,
              "ticks": ""
             }
            },
            "type": "scatter3d"
           }
          ],
          "scattercarpet": [
           {
            "marker": {
             "colorbar": {
              "outlinewidth": 0,
              "ticks": ""
             }
            },
            "type": "scattercarpet"
           }
          ],
          "scattergeo": [
           {
            "marker": {
             "colorbar": {
              "outlinewidth": 0,
              "ticks": ""
             }
            },
            "type": "scattergeo"
           }
          ],
          "scattergl": [
           {
            "marker": {
             "colorbar": {
              "outlinewidth": 0,
              "ticks": ""
             }
            },
            "type": "scattergl"
           }
          ],
          "scattermapbox": [
           {
            "marker": {
             "colorbar": {
              "outlinewidth": 0,
              "ticks": ""
             }
            },
            "type": "scattermapbox"
           }
          ],
          "scatterpolar": [
           {
            "marker": {
             "colorbar": {
              "outlinewidth": 0,
              "ticks": ""
             }
            },
            "type": "scatterpolar"
           }
          ],
          "scatterpolargl": [
           {
            "marker": {
             "colorbar": {
              "outlinewidth": 0,
              "ticks": ""
             }
            },
            "type": "scatterpolargl"
           }
          ],
          "scatterternary": [
           {
            "marker": {
             "colorbar": {
              "outlinewidth": 0,
              "ticks": ""
             }
            },
            "type": "scatterternary"
           }
          ],
          "surface": [
           {
            "colorbar": {
             "outlinewidth": 0,
             "ticks": ""
            },
            "colorscale": [
             [
              0,
              "#0d0887"
             ],
             [
              0.1111111111111111,
              "#46039f"
             ],
             [
              0.2222222222222222,
              "#7201a8"
             ],
             [
              0.3333333333333333,
              "#9c179e"
             ],
             [
              0.4444444444444444,
              "#bd3786"
             ],
             [
              0.5555555555555556,
              "#d8576b"
             ],
             [
              0.6666666666666666,
              "#ed7953"
             ],
             [
              0.7777777777777778,
              "#fb9f3a"
             ],
             [
              0.8888888888888888,
              "#fdca26"
             ],
             [
              1,
              "#f0f921"
             ]
            ],
            "type": "surface"
           }
          ],
          "table": [
           {
            "cells": {
             "fill": {
              "color": "#EBF0F8"
             },
             "line": {
              "color": "white"
             }
            },
            "header": {
             "fill": {
              "color": "#C8D4E3"
             },
             "line": {
              "color": "white"
             }
            },
            "type": "table"
           }
          ]
         },
         "layout": {
          "annotationdefaults": {
           "arrowcolor": "#2a3f5f",
           "arrowhead": 0,
           "arrowwidth": 1
          },
          "autotypenumbers": "strict",
          "coloraxis": {
           "colorbar": {
            "outlinewidth": 0,
            "ticks": ""
           }
          },
          "colorscale": {
           "diverging": [
            [
             0,
             "#8e0152"
            ],
            [
             0.1,
             "#c51b7d"
            ],
            [
             0.2,
             "#de77ae"
            ],
            [
             0.3,
             "#f1b6da"
            ],
            [
             0.4,
             "#fde0ef"
            ],
            [
             0.5,
             "#f7f7f7"
            ],
            [
             0.6,
             "#e6f5d0"
            ],
            [
             0.7,
             "#b8e186"
            ],
            [
             0.8,
             "#7fbc41"
            ],
            [
             0.9,
             "#4d9221"
            ],
            [
             1,
             "#276419"
            ]
           ],
           "sequential": [
            [
             0,
             "#0d0887"
            ],
            [
             0.1111111111111111,
             "#46039f"
            ],
            [
             0.2222222222222222,
             "#7201a8"
            ],
            [
             0.3333333333333333,
             "#9c179e"
            ],
            [
             0.4444444444444444,
             "#bd3786"
            ],
            [
             0.5555555555555556,
             "#d8576b"
            ],
            [
             0.6666666666666666,
             "#ed7953"
            ],
            [
             0.7777777777777778,
             "#fb9f3a"
            ],
            [
             0.8888888888888888,
             "#fdca26"
            ],
            [
             1,
             "#f0f921"
            ]
           ],
           "sequentialminus": [
            [
             0,
             "#0d0887"
            ],
            [
             0.1111111111111111,
             "#46039f"
            ],
            [
             0.2222222222222222,
             "#7201a8"
            ],
            [
             0.3333333333333333,
             "#9c179e"
            ],
            [
             0.4444444444444444,
             "#bd3786"
            ],
            [
             0.5555555555555556,
             "#d8576b"
            ],
            [
             0.6666666666666666,
             "#ed7953"
            ],
            [
             0.7777777777777778,
             "#fb9f3a"
            ],
            [
             0.8888888888888888,
             "#fdca26"
            ],
            [
             1,
             "#f0f921"
            ]
           ]
          },
          "colorway": [
           "#636efa",
           "#EF553B",
           "#00cc96",
           "#ab63fa",
           "#FFA15A",
           "#19d3f3",
           "#FF6692",
           "#B6E880",
           "#FF97FF",
           "#FECB52"
          ],
          "font": {
           "color": "#2a3f5f"
          },
          "geo": {
           "bgcolor": "white",
           "lakecolor": "white",
           "landcolor": "#E5ECF6",
           "showlakes": true,
           "showland": true,
           "subunitcolor": "white"
          },
          "hoverlabel": {
           "align": "left"
          },
          "hovermode": "closest",
          "mapbox": {
           "style": "light"
          },
          "paper_bgcolor": "white",
          "plot_bgcolor": "#E5ECF6",
          "polar": {
           "angularaxis": {
            "gridcolor": "white",
            "linecolor": "white",
            "ticks": ""
           },
           "bgcolor": "#E5ECF6",
           "radialaxis": {
            "gridcolor": "white",
            "linecolor": "white",
            "ticks": ""
           }
          },
          "scene": {
           "xaxis": {
            "backgroundcolor": "#E5ECF6",
            "gridcolor": "white",
            "gridwidth": 2,
            "linecolor": "white",
            "showbackground": true,
            "ticks": "",
            "zerolinecolor": "white"
           },
           "yaxis": {
            "backgroundcolor": "#E5ECF6",
            "gridcolor": "white",
            "gridwidth": 2,
            "linecolor": "white",
            "showbackground": true,
            "ticks": "",
            "zerolinecolor": "white"
           },
           "zaxis": {
            "backgroundcolor": "#E5ECF6",
            "gridcolor": "white",
            "gridwidth": 2,
            "linecolor": "white",
            "showbackground": true,
            "ticks": "",
            "zerolinecolor": "white"
           }
          },
          "shapedefaults": {
           "line": {
            "color": "#2a3f5f"
           }
          },
          "ternary": {
           "aaxis": {
            "gridcolor": "white",
            "linecolor": "white",
            "ticks": ""
           },
           "baxis": {
            "gridcolor": "white",
            "linecolor": "white",
            "ticks": ""
           },
           "bgcolor": "#E5ECF6",
           "caxis": {
            "gridcolor": "white",
            "linecolor": "white",
            "ticks": ""
           }
          },
          "title": {
           "x": 0.05
          },
          "xaxis": {
           "automargin": true,
           "gridcolor": "white",
           "linecolor": "white",
           "ticks": "",
           "title": {
            "standoff": 15
           },
           "zerolinecolor": "white",
           "zerolinewidth": 2
          },
          "yaxis": {
           "automargin": true,
           "gridcolor": "white",
           "linecolor": "white",
           "ticks": "",
           "title": {
            "standoff": 15
           },
           "zerolinecolor": "white",
           "zerolinewidth": 2
          }
         }
        },
        "title": {
         "text": "UMAP 2-D representation of document embeddings with K-Means clustering"
        },
        "width": 1600,
        "xaxis": {
         "title": {
          "text": "UMAP Dimension 1"
         }
        },
        "yaxis": {
         "title": {
          "text": "UMAP Dimension 2"
         }
        }
       }
      }
     },
     "metadata": {},
     "output_type": "display_data"
    },
    {
     "name": "stdout",
     "output_type": "stream",
     "text": [
      "61\n",
      "61\n",
      "Confusion Matrix:\n",
      "[[31  6]\n",
      " [ 4 20]]\n"
     ]
    }
   ],
   "source": [
    "import plotly.graph_objects as go\n",
    "\n",
    "# Specify the columns you want to include in hover data\n",
    "hover_columns = ['Credits-Y1', 'Nationality', \"Gender\", \"Credits-B1B2\"]\n",
    "\n",
    "# Create hover text by concatenating values from specified columns\n",
    "hover_text = merged_df.apply(lambda row: '<br>'.join(f\"{col}: {row[col]}\" for col in hover_columns), axis=1)\n",
    "\n",
    "# Define marker symbols based on BSA values\n",
    "marker_symbols = ['cross' if bsa == 0 else 'square' for bsa in merged_df['BSA']]\n",
    "\n",
    "# Create a scatter plot trace with hover data\n",
    "scatter_trace = go.Scatter(\n",
    "    x=umap_embeddings[:, 0],\n",
    "    y=umap_embeddings[:, 1],\n",
    "    mode='markers',\n",
    "    marker=dict(\n",
    "        color=cluster_labels,\n",
    "        colorscale='BlueRed',\n",
    "        size=10,\n",
    "        symbol=marker_symbols,  # Set the marker symbols\n",
    "        colorbar=dict(title='Cluster')\n",
    "    ),\n",
    "    text=hover_text  # Set the hover text\n",
    ")\n",
    "\n",
    "# Create a layout\n",
    "layout = go.Layout(\n",
    "    title='UMAP 2-D representation of document embeddings with K-Means clustering',\n",
    "    xaxis=dict(title='UMAP Dimension 1'),\n",
    "    yaxis=dict(title='UMAP Dimension 2'),\n",
    "    width=1600,  # Set width of the figure\n",
    "    height=1200,  # Set height of the figure\n",
    "\n",
    ")\n",
    "\n",
    "# Create a figure\n",
    "fig = go.Figure(data=[scatter_trace], layout=layout)\n",
    "\n",
    "# Show the interactive plot\n",
    "fig.show()\n",
    "\n",
    "\n",
    "from sklearn.metrics import confusion_matrix\n",
    "\n",
    "true_labels = np.where(merged_df[\"BSA\"] == 1, 0, 1)\n",
    "\n",
    "print(len(true_labels))\n",
    "print(len(cluster_labels))\n",
    "# Assuming cluster_labels are the predicted cluster labels obtained from the clustering algorithm\n",
    "# Compute the confusion matrix\n",
    "cm = confusion_matrix(true_labels, cluster_labels)\n",
    "\n",
    "print(\"Confusion Matrix:\")\n",
    "print(cm)\n"
   ]
  },
  {
   "cell_type": "code",
   "execution_count": null,
   "metadata": {},
   "outputs": [
    {
     "data": {
      "text/plain": [
       "0     0\n",
       "1     0\n",
       "2     0\n",
       "3     0\n",
       "4     0\n",
       "     ..\n",
       "56    1\n",
       "57    0\n",
       "58    1\n",
       "59    1\n",
       "60    1\n",
       "Name: BSA, Length: 61, dtype: int64"
      ]
     },
     "execution_count": 132,
     "metadata": {},
     "output_type": "execute_result"
    }
   ],
   "source": [
    "merged_df[\"BSA\"]"
   ]
  },
  {
   "cell_type": "code",
   "execution_count": null,
   "metadata": {},
   "outputs": [
    {
     "name": "stdout",
     "output_type": "stream",
     "text": [
      "                            OLS Regression Results                            \n",
      "==============================================================================\n",
      "Dep. Variable:             Credits-Y1   R-squared:                       0.774\n",
      "Model:                            OLS   Adj. R-squared:                  0.749\n",
      "Method:                 Least Squares   F-statistic:                     30.86\n",
      "Date:                Fri, 12 Apr 2024   Prob (F-statistic):           8.85e-16\n",
      "Time:                        14:56:54   Log-Likelihood:                -226.45\n",
      "No. Observations:                  61   AIC:                             466.9\n",
      "Df Residuals:                      54   BIC:                             481.7\n",
      "Df Model:                           6                                         \n",
      "Covariance Type:            nonrobust                                         \n",
      "=============================================================================================\n",
      "                                coef    std err          t      P>|t|      [0.025      0.975]\n",
      "---------------------------------------------------------------------------------------------\n",
      "const                        -0.1493      4.224     -0.035      0.972      -8.617       8.319\n",
      "1_Course3_PassedCourse       26.7295      5.154      5.186      0.000      16.396      37.063\n",
      "1_Course3_Both_notPresent    11.3647      9.953      1.142      0.259      -8.591      31.320\n",
      "1_Course9_PassedCourse        8.2605      4.099      2.015      0.049       0.042      16.479\n",
      "1_Course9_Both_notPresent    -1.2154      8.070     -0.151      0.881     -17.394      14.963\n",
      "2_Course8_FirstTryPassed     12.0860      3.558      3.397      0.001       4.952      19.220\n",
      "2_Course7_FirstTryPassed      9.2567      3.500      2.645      0.011       2.240      16.273\n",
      "==============================================================================\n",
      "Omnibus:                        2.114   Durbin-Watson:                   1.247\n",
      "Prob(Omnibus):                  0.347   Jarque-Bera (JB):                1.882\n",
      "Skew:                          -0.426   Prob(JB):                        0.390\n",
      "Kurtosis:                       2.875   Cond. No.                         15.1\n",
      "==============================================================================\n",
      "\n",
      "Notes:\n",
      "[1] Standard Errors assume that the covariance matrix of the errors is correctly specified.\n"
     ]
    }
   ],
   "source": [
    "import statsmodels.api as sm\n",
    "\n",
    "# Define the predictors (independent variables)\n",
    "predictors = ['1_Course3_PassedCourse',\n",
    "              #'1_Course3_FirstTryPassed',\n",
    "              '1_Course3_Both_notPresent',\n",
    "              '1_Course9_PassedCourse', \n",
    "              #'1_Course9_FirstTryPassed',\n",
    "              '1_Course9_Both_notPresent',\n",
    "              \n",
    "              '2_Course8_FirstTryPassed',\n",
    "               \n",
    "              '2_Course7_FirstTryPassed']\n",
    "\n",
    "# Add a constant term for the intercept\n",
    "X = sm.add_constant(merged_df[predictors])\n",
    "\n",
    "# Define the target variable\n",
    "y = merged_df['Credits-Y1']\n",
    "model = sm.OLS(y, X)\n",
    "\n",
    "# y = merged_df['BSA']\n",
    "# model = sm.Logit(y, X)\n",
    "\n",
    "result = model.fit()\n",
    "print(result.summary())\n",
    "\n"
   ]
  }
 ],
 "metadata": {
  "kernelspec": {
   "display_name": "Python 3",
   "language": "python",
   "name": "python3"
  },
  "language_info": {
   "codemirror_mode": {
    "name": "ipython",
    "version": 3
   },
   "file_extension": ".py",
   "mimetype": "text/x-python",
   "name": "python",
   "nbconvert_exporter": "python",
   "pygments_lexer": "ipython3",
   "version": "3.9.7"
  }
 },
 "nbformat": 4,
 "nbformat_minor": 2
}
